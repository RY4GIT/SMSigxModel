{
 "cells": [
  {
   "cell_type": "code",
   "execution_count": 17,
   "metadata": {},
   "outputs": [],
   "source": [
    "# This notebook is a tutorial about how to extract data and metadata from NetCDF files|"
   ]
  },
  {
   "cell_type": "code",
   "execution_count": 18,
   "metadata": {},
   "outputs": [],
   "source": [
    "import pandas as pd\n",
    "import numpy as np\n",
    "import matplotlib.pyplot as plt\n",
    "import os\n",
    "import netCDF4 as nc4            # to work with netCDFs"
   ]
  },
  {
   "cell_type": "code",
   "execution_count": 19,
   "metadata": {},
   "outputs": [],
   "source": [
    "start_date = '2014-02-17' \n",
    "end_date = '2018-06-03'"
   ]
  },
  {
   "cell_type": "markdown",
   "metadata": {},
   "source": [
    "## Print out NetCDF file"
   ]
  },
  {
   "cell_type": "code",
   "execution_count": 20,
   "metadata": {},
   "outputs": [],
   "source": [
    "ws='Coweeta'\n",
    "data_dir  = r\"g:\\Shared drives\\Ryoko and Hilary\\SMSigxModel\\analysis\\0_data_preprocessing\\raw_data\\CHOSEN\" #os.getcwd()\n",
    "ncdf = nc4.Dataset(os.path.join(data_dir, f\"{ws}_NetCDF.nc\"), 'r')"
   ]
  },
  {
   "cell_type": "code",
   "execution_count": 5,
   "metadata": {},
   "outputs": [
    {
     "name": "stdout",
     "output_type": "stream",
     "text": [
      "<class 'netCDF4._netCDF4.Variable'>\n",
      "float64 Datetime(Dim_Datetime)\n",
      "    range: ['2000-02-26', '2018-10-31']\n",
      "unlimited dimensions: \n",
      "current shape = (6823,)\n",
      "filling off\n",
      "<class 'netCDF4._netCDF4.Variable'>\n",
      "vlen Grid(Dim_Grid)\n",
      "    Latitude: ['39.15', '', '33.89655', '35.04826', '35.11535', '35.32116', '35.18539', '35.067189', '35.0734', '35.181048', '35.24270', '35.22737', '35.16331', '35.14298', '35.824828', '', '35.069427', '35.054105', '35.069255', '', '35.051459', '35.06131400', '35.067855', '35.056714', '35.068576', '35.0506480', '35.0593010', '35.065818', '35.058029', '35.065977', '35.0493880', '35.0578120', '', '35.667943', '35.667198', '35.666348']\n",
      "    Longitude: ['-83.37972', '', '-83.362289', '-83.45428', '-83.46619', '-83.79736', '-83.62215', '-83.384413', '-83.16843', '-83.385019', '-83.33727', '-83.45130', '-83.36320', '-83.48930', '-82.555420', '', '-83.437335', '-83.423798', '-83.440717', '', '-83.462251', '-83.47058383', '-83.436667', '-83.426877', '-83.440269', '-83.46062913', '-83.46841318', '-83.436933', '-83.4275003', '-83.441075', '-83.45858537', '-83.46822547', '', '-82.4056687', '-82.4058641', '-82.4057712']\n",
      "    Elevation_m: ['', '', '', '', '', '', '', '', '', '', '', '', '', '', '', '', '', '', '', '', '', '', '', '', '', '', '', '', '', '', '', '', '', '', '', '']\n",
      "    Area_km2: ['363', '', '', '', '', '', '', '', '', '', '', '', '', '', '', '', '', '', '', '', '', '', '', '', '', '', '', '', '', '', '', '', '', '', '', '']\n",
      "vlen data type: <class 'str'>\n",
      "unlimited dimensions: \n",
      "current shape = (36,)\n",
      "<class 'netCDF4._netCDF4.Variable'>\n",
      "float64 Discharge(Dim_Datetime, Dim_Discharge_Grid)\n",
      "    names: ['Prentiss_Discharge', 'Coweeta_Discharge']\n",
      "    time: ['2000-02-26', '2018-10-31']\n",
      "    units: L/s\n",
      "    data_source_link: http://coweeta.uga.edu/dbpublic/dataset_details.asp?accession=3033\n",
      "unlimited dimensions: \n",
      "current shape = (6823, 2)\n",
      "filling off\n",
      "<class 'netCDF4._netCDF4.Variable'>\n",
      "float64 Precipitation(Dim_Datetime, Dim_Precipitation_Grid)\n",
      "    names: ['Whitehall_Precipitation', 'CoweetaMid_Precipitation', 'LowerJonesCreek_Precipitation', 'GrahamCounty_Precipitation', 'WineSpring_Precipitation', 'TessenteeFarm_Precipitation', 'Cullasaja_Precipitation', 'FranklinCentral_Precipitation', 'FranklinNE_Precipitation', 'FranklinNW_Precipitation', 'FranklinSE_Precipitation', 'FranklinSW_Precipitation', 'MHOpen_Precipitation']\n",
      "    time: ['2013-04-09', '2018-10-31']\n",
      "    units: mm/d\n",
      "    data_source_link: ['http://coweeta.uga.edu/dbpublic/dataset_details.asp?accession=4102 (Central, NE, NW, SE, SW)', 'http://coweeta.uga.edu/dbpublic/dataset_details.asp?accession=4104 (4104)', 'http://coweeta.uga.edu/dbpublic/dataset_details.asp?accession=4106 (4106)', 'http://coweeta.uga.edu/dbpublic/dataset_details.asp?accession=4107 (4107)', 'http://coweeta.uga.edu/dbpublic/dataset_details.asp?accession=4103 (4103)', 'http://coweeta.uga.edu/dbpublic/dataset_details.asp?accession=4038 (OpenSite)', 'http://coweeta.uga.edu/dbpublic/dataset_details.asp?accession=4105 (4105)', 'http://coweeta.uga.edu/dbpublic/dataset_details.asp?accession=4100 (4100)', 'http://coweeta.uga.edu/dbpublic/dataset_details.asp?accession=4101 (4101)']\n",
      "unlimited dimensions: \n",
      "current shape = (6823, 13)\n",
      "filling off\n",
      "<class 'netCDF4._netCDF4.Variable'>\n",
      "float64 AirTemperature(Dim_Datetime, Dim_AirTemperature_Grid)\n",
      "    names: ['Whitehall_AirTemperature', 'CoweetaMid_AirTemperature', 'LowerJonesCreek_AirTemperature', 'GrahamCounty_AirTemperature', 'WineSpring_AirTemperature', 'TessenteeFarm_AirTemperature', 'Cullasaja_AirTemperature', 'FranklinCentral_AirTemperature', 'FranklinNE_AirTemperature', 'FranklinNW_AirTemperature', 'FranklinSE_AirTemperature', 'FranklinSW_AirTemperature', 'MHOpen_AirTemperature']\n",
      "    time: ['2004-11-02', '2018-10-31']\n",
      "    units: Degree celsius\n",
      "    data_source_link: ['http://coweeta.uga.edu/dbpublic/dataset_details.asp?accession=4102 (Central, NE, NW, SE, SW)', 'http://coweeta.uga.edu/dbpublic/dataset_details.asp?accession=4104 (4104)', 'http://coweeta.uga.edu/dbpublic/dataset_details.asp?accession=4106 (4106)', 'http://coweeta.uga.edu/dbpublic/dataset_details.asp?accession=4107 (4107)', 'http://coweeta.uga.edu/dbpublic/dataset_details.asp?accession=4103 (4103)', 'http://coweeta.uga.edu/dbpublic/dataset_details.asp?accession=4038 (OpenSite)', 'http://coweeta.uga.edu/dbpublic/dataset_details.asp?accession=4105 (4105)', 'http://coweeta.uga.edu/dbpublic/dataset_details.asp?accession=4100 (4100)', 'http://coweeta.uga.edu/dbpublic/dataset_details.asp?accession=4101 (4101)']\n",
      "unlimited dimensions: \n",
      "current shape = (6823, 13)\n",
      "filling off\n",
      "<class 'netCDF4._netCDF4.Variable'>\n",
      "float64 SolarRadiation(Dim_Datetime, Dim_SolarRadiation_Grid)\n",
      "    names: ['FranklinCentral_SolarRadiation', 'FranklinNE_SolarRadiation', 'FranklinNW_SolarRadiation', 'FranklinSW_SolarRadiation']\n",
      "    time: ['2014-02-17', '2018-06-03']\n",
      "    units: W/m2\n",
      "    data_source_link: http://coweeta.uga.edu/dbpublic/dataset_details.asp?accession=1039 (1039)\n",
      "unlimited dimensions: \n",
      "current shape = (6823, 4)\n",
      "filling off\n",
      "<class 'netCDF4._netCDF4.Variable'>\n",
      "float64 RelativeHumidity(Dim_Datetime, Dim_RelativeHumidity_Grid)\n",
      "    names: ['Whitehall_RelativeHumidity', 'CoweetaMid_RelativeHumidity', 'LowerJonesCreek_RelativeHumidity', 'GrahamCounty_RelativeHumidity', 'WineSpring_RelativeHumidity', 'TessenteeFarm_RelativeHumidity', 'Cullasaja_RelativeHumidity', 'FranklinCentral_RelativeHumidity', 'FranklinNE_RelativeHumidity', 'FranklinNW_RelativeHumidity', 'FranklinSE_RelativeHumidity', 'FranklinSW_RelativeHumidity', 'MHOpen_RelativeHumidity']\n",
      "    time: ['2004-11-02', '2018-10-31']\n",
      "    units: %\n",
      "    data_source_link: ['http://coweeta.uga.edu/dbpublic/dataset_details.asp?accession=4102 (Central, NE, NW, SE, SW)', 'http://coweeta.uga.edu/dbpublic/dataset_details.asp?accession=4104 (4104)', 'http://coweeta.uga.edu/dbpublic/dataset_details.asp?accession=4106 (4106)', 'http://coweeta.uga.edu/dbpublic/dataset_details.asp?accession=4107 (4107)', 'http://coweeta.uga.edu/dbpublic/dataset_details.asp?accession=4103 (4103)', 'http://coweeta.uga.edu/dbpublic/dataset_details.asp?accession=4038 (OpenSite)', 'http://coweeta.uga.edu/dbpublic/dataset_details.asp?accession=4105 (4105)', 'http://coweeta.uga.edu/dbpublic/dataset_details.asp?accession=4100 (4100)', 'http://coweeta.uga.edu/dbpublic/dataset_details.asp?accession=4101 (4101)']\n",
      "unlimited dimensions: \n",
      "current shape = (6823, 13)\n",
      "filling off\n",
      "<class 'netCDF4._netCDF4.Variable'>\n",
      "float64 WindDirection(Dim_Datetime, Dim_WindDirection_Grid)\n",
      "    names: ['CoweetaMid_WindDirection', 'LowerJonesCreek_WindDirection', 'GrahamCounty_WindDirection', 'WineSpring_WindDirection', 'TessenteeFarm_WindDirection', 'Cullasaja_WindDirection', 'FranklinCentral_WindDirection', 'FranklinNE_WindDirection', 'FranklinNW_WindDirection', 'FranklinSE_WindDirection', 'FranklinSW_WindDirection', 'MHOpen_WindDirection']\n",
      "    time: ['2013-04-09', '2018-10-31']\n",
      "    units: Degree\n",
      "    data_source_link: ['http://coweeta.uga.edu/dbpublic/dataset_details.asp?accession=4102 (Central, NE, NW, SE, SW)', 'http://coweeta.uga.edu/dbpublic/dataset_details.asp?accession=4104 (4104)', 'http://coweeta.uga.edu/dbpublic/dataset_details.asp?accession=4106 (4106)', 'http://coweeta.uga.edu/dbpublic/dataset_details.asp?accession=4107 (4107)', 'http://coweeta.uga.edu/dbpublic/dataset_details.asp?accession=4103 (4103)', 'http://coweeta.uga.edu/dbpublic/dataset_details.asp?accession=4038 (OpenSite)', 'http://coweeta.uga.edu/dbpublic/dataset_details.asp?accession=4105 (4105)', 'http://coweeta.uga.edu/dbpublic/dataset_details.asp?accession=4101 (4101)']\n",
      "unlimited dimensions: \n",
      "current shape = (6823, 12)\n",
      "filling off\n",
      "<class 'netCDF4._netCDF4.Variable'>\n",
      "float64 WindSpeed(Dim_Datetime, Dim_WindSpeed_Grid)\n",
      "    names: ['Whitehall_WindSpeed', 'CoweetaMid_WindSpeed', 'LowerJonesCreek_WindSpeed', 'GrahamCounty_WindSpeed', 'WineSpring_WindSpeed', 'TessenteeFarm_WindSpeed', 'Cullasaja_WindSpeed', 'FranklinCentral_WindSpeed', 'FranklinNE_WindSpeed', 'FranklinNW_WindSpeed', 'FranklinSE_WindSpeed', 'FranklinSW_WindSpeed', 'MHOpen_WindSpeed']\n",
      "    time: ['2013-04-09', '2018-10-31']\n",
      "    units: m/s\n",
      "    data_source_link: ['http://coweeta.uga.edu/dbpublic/dataset_details.asp?accession=4102 (Central, NE, NW, SE, SW)', 'http://coweeta.uga.edu/dbpublic/dataset_details.asp?accession=4104 (4104)', 'http://coweeta.uga.edu/dbpublic/dataset_details.asp?accession=4106 (4106)', 'http://coweeta.uga.edu/dbpublic/dataset_details.asp?accession=4107 (4107)', 'http://coweeta.uga.edu/dbpublic/dataset_details.asp?accession=4103 (4103)', 'http://coweeta.uga.edu/dbpublic/dataset_details.asp?accession=4038 (OpenSite)', 'http://coweeta.uga.edu/dbpublic/dataset_details.asp?accession=4105 (4105)', 'http://coweeta.uga.edu/dbpublic/dataset_details.asp?accession=4100 (4100)', 'http://coweeta.uga.edu/dbpublic/dataset_details.asp?accession=4101 (4101)']\n",
      "unlimited dimensions: \n",
      "current shape = (6823, 13)\n",
      "filling off\n",
      "<class 'netCDF4._netCDF4.Variable'>\n",
      "float64 VaporPressure(Dim_Datetime, Dim_VaporPressure_Grid)\n",
      "    names: 1039_VaporPressure\n",
      "    time: ['2000-02-26', '2008-01-01']\n",
      "    units: kPa\n",
      "    data_source_link: http://coweeta.uga.edu/dbpublic/dataset_details.asp?accession=1039 (1039)\n",
      "unlimited dimensions: \n",
      "current shape = (6823, 1)\n",
      "filling off\n",
      "<class 'netCDF4._netCDF4.Variable'>\n",
      "float64 SoilMoisture(Dim_Datetime, Dim_SoilMoisture_Grid)\n",
      "    names: ['CWT102_SoilMoisture_30cmA', 'CWT102_SoilMoisture_30cmB', 'CWT102_SoilMoisture_60cmA', 'CWT102_SoilMoisture_60cmB', 'CWT105_SoilMoisture_30cmA', 'CWT105_SoilMoisture_30cmB', 'CWT105_SoilMoisture_60cmA', 'CWT105_SoilMoisture_60cmB', 'CWT107_SoilMoisture_30cmA', 'CWT107_SoilMoisture_30cmB', 'CWT107_SoilMoisture_60cmA', 'CWT107_SoilMoisture_60cmB', 'CWT227_SoilMoisture_30cmA', 'CWT227_SoilMoisture_30cmB', 'CWT227_SoilMoisture_60cmA', 'CWT227_SoilMoisture_60cmB', 'CWT132_SoilMoisture_30cmA', 'CWT132_SoilMoisture_30cmB', 'CWT132_SoilMoisture_60cmA', 'CWT132_SoilMoisture_60cmB', 'CWT136_SoilMoisture_30cmA', 'CWT136_SoilMoisture_30cmB', 'CWT136_SoilMoisture_60cmA', 'CWT136_SoilMoisture_60cmB', 'CWT202_SoilMoisture_30cmA', 'CWT202_SoilMoisture_30cmB', 'CWT202_SoilMoisture_60cmA', 'CWT202_SoilMoisture_60cmB', 'CWT205_SoilMoisture_30cmA', 'CWT205_SoilMoisture_30cmB', 'CWT205_SoilMoisture_60cmA', 'CWT205_SoilMoisture_60cmB', 'CWT207_SoilMoisture_30cmA', 'CWT207_SoilMoisture_30cmB', 'CWT207_SoilMoisture_60cmA', 'CWT207_SoilMoisture_60cmB', 'CWT232_SoilMoisture_30cmA', 'CWT232_SoilMoisture_30cmB', 'CWT232_SoilMoisture_60cmA', 'CWT232_SoilMoisture_60cmB', 'CWT236_SoilMoisture_30cmA', 'CWT236_SoilMoisture_30cmB', 'CWT236_SoilMoisture_60cmA', 'CWT236_SoilMoisture_60cmB', 'CWT302_SoilMoisture_30cmA', 'CWT302_SoilMoisture_30cmB', 'CWT302_SoilMoisture_60cmA', 'CWT302_SoilMoisture_60cmB', 'CWT305_SoilMoisture_30cmA', 'CWT305_SoilMoisture_30cmB', 'CWT305_SoilMoisture_60cmA', 'CWT305_SoilMoisture_60cmB', 'CWT307_SoilMoisture_30cmA', 'CWT307_SoilMoisture_30cmB', 'CWT307_SoilMoisture_60cmA', 'CWT307_SoilMoisture_60cmB', 'CWT332_SoilMoisture_30cmA', 'CWT332_SoilMoisture_30cmB', 'CWT332_SoilMoisture_60cmA', 'CWT332_SoilMoisture_60cmB', 'CWT336_SoilMoisture_30cmA', 'CWT336_SoilMoisture_30cmB', 'CWT336_SoilMoisture_60cmA', 'CWT336_SoilMoisture_60cmB', 'CWT418_SoilMoisture_30cmA', 'CWT418_SoilMoisture_30cmB', 'CWT418_SoilMoisture_60cmA', 'CWT418_SoilMoisture_60cmB', 'BentCreek1_SoilMoisture_30cmA', 'BentCreek1_SoilMoisture_30cmB', 'BentCreek1_SoilMoisture_60cmA', 'BentCreek1_SoilMoisture_60cmB', 'BentCreek2_SoilMoisture_30cmA', 'BentCreek2_SoilMoisture_30cmB', 'BentCreek2_SoilMoisture_60cmA', 'BentCreek2_SoilMoisture_60cmB', 'BentCreek3_SoilMoisture_30cmA', 'BentCreek3_SoilMoisture_30cmB', 'BentCreek3_SoilMoisture_60cmA', 'BentCreek3_SoilMoisture_60cmB']\n",
      "    time: ['2015-08-03', '2018-10-31']\n",
      "    units: %\n",
      "    data_source_link: ['http://coweeta.uga.edu/dbpublic/dataset_details.asp?accession=1309 (136,236,336)', 'http://coweeta.uga.edu/dbpublic/dataset_details.asp?accession=1308 (132,232,332)', 'http://coweeta.uga.edu/dbpublic/dataset_details.asp?accession=1305 (107,207,307)', 'http://coweeta.uga.edu/dbpublic/dataset_details.asp?accession=1304 (105,205,305)', 'http://coweeta.uga.edu/dbpublic/dataset_details.asp?accession=1307 (418)', 'http://coweeta.uga.edu/dbpublic/dataset_details.asp?accession=1303 (102,202,302)', 'http://coweeta.uga.edu/dbpublic/dataset_details.asp?accession=1306 (1306)', 'http://coweeta.uga.edu/dbpublic/dataset_details.asp?accession=1301 (BentCreek11,BentCreek21)']\n",
      "unlimited dimensions: \n",
      "current shape = (6823, 80)\n",
      "filling off\n",
      "<class 'netCDF4._netCDF4.Variable'>\n",
      "float64 SoilTemperature(Dim_Datetime, Dim_SoilTemperature_Grid)\n",
      "    names: ['CWT102_SoilTemperature_30cmA', 'CWT102_SoilTemperature_30cmB', 'CWT105_SoilTemperature_30cmA', 'CWT105_SoilTemperature_30cmB', 'CWT107_SoilTemperature_30cmA', 'CWT107_SoilTemperature_30cmB', 'CWT227_SoilTemperature_30cmA', 'CWT227_SoilTemperature_30cmB', 'CWT132_SoilTemperature_30cmA', 'CWT132_SoilTemperature_30cmB', 'CWT136_SoilTemperature_30cmA', 'CWT136_SoilTemperature_30cmB', 'CWT202_SoilTemperature_30cmA', 'CWT202_SoilTemperature_30cmB', 'CWT205_SoilTemperature_30cmA', 'CWT205_SoilTemperature_30cmB', 'CWT207_SoilTemperature_30cmA', 'CWT207_SoilTemperature_30cmB', 'CWT232_SoilTemperature_30cmA', 'CWT232_SoilTemperature_30cmB', 'CWT236_SoilTemperature_30cmA', 'CWT236_SoilTemperature_30cmB', 'CWT302_SoilTemperature_30cmA', 'CWT302_SoilTemperature_30cmB', 'CWT305_SoilTemperature_30cmA', 'CWT305_SoilTemperature_30cmB', 'CWT307_SoilTemperature_30cmA', 'CWT307_SoilTemperature_30cmB', 'CWT332_SoilTemperature_30cmA', 'CWT332_SoilTemperature_30cmB', 'CWT336_SoilTemperature_30cmA', 'CWT336_SoilTemperature_30cmB', 'CWT418_SoilTemperature_30cmA', 'CWT418_SoilTemperature_30cmB', 'BentCreek1_SoilTemperature_30cmA', 'BentCreek1_SoilTemperature_30cmB', 'BentCreek2_SoilTemperature_30cmA', 'BentCreek2_SoilTemperature_30cmB', 'BentCreek3_SoilTemperature_30cmA', 'BentCreek3_SoilTemperature_30cmB']\n",
      "    time: ['2015-08-03', '2018-10-31']\n",
      "    units: Degree celsius\n",
      "    data_source_link: ['http://coweeta.uga.edu/dbpublic/dataset_details.asp?accession=1309 (136,236,336)', 'http://coweeta.uga.edu/dbpublic/dataset_details.asp?accession=1308 (132,232,332)', 'http://coweeta.uga.edu/dbpublic/dataset_details.asp?accession=1305 (107,207,307)', 'http://coweeta.uga.edu/dbpublic/dataset_details.asp?accession=1304 (105,205,305)', 'http://coweeta.uga.edu/dbpublic/dataset_details.asp?accession=1307 (418)', 'http://coweeta.uga.edu/dbpublic/dataset_details.asp?accession=1303 (102,202,302)', 'http://coweeta.uga.edu/dbpublic/dataset_details.asp?accession=1306 (1306)', 'http://coweeta.uga.edu/dbpublic/dataset_details.asp?accession=1301 (BentCreek11,BentCreek21,BentCreek31)']\n",
      "unlimited dimensions: \n",
      "current shape = (6823, 40)\n",
      "filling off\n",
      "<class 'netCDF4._netCDF4.Variable'>\n",
      "float64 Discharge_Flag(Dim_Datetime, Dim_Discharge_Grid)\n",
      "unlimited dimensions: \n",
      "current shape = (6823, 2)\n",
      "filling off\n",
      "<class 'netCDF4._netCDF4.Variable'>\n",
      "float64 Precipitation_Flag(Dim_Datetime, Dim_Precipitation_Grid)\n",
      "unlimited dimensions: \n",
      "current shape = (6823, 13)\n",
      "filling off\n",
      "<class 'netCDF4._netCDF4.Variable'>\n",
      "float64 AirTemperature_Flag(Dim_Datetime, Dim_AirTemperature_Grid)\n",
      "unlimited dimensions: \n",
      "current shape = (6823, 13)\n",
      "filling off\n",
      "<class 'netCDF4._netCDF4.Variable'>\n",
      "float64 SolarRadiation_Flag(Dim_Datetime, Dim_SolarRadiation_Grid)\n",
      "unlimited dimensions: \n",
      "current shape = (6823, 4)\n",
      "filling off\n",
      "<class 'netCDF4._netCDF4.Variable'>\n",
      "float64 RelativeHumidity_Flag(Dim_Datetime, Dim_RelativeHumidity_Grid)\n",
      "unlimited dimensions: \n",
      "current shape = (6823, 13)\n",
      "filling off\n",
      "<class 'netCDF4._netCDF4.Variable'>\n",
      "float64 WindDirection_Flag(Dim_Datetime, Dim_WindDirection_Grid)\n",
      "unlimited dimensions: \n",
      "current shape = (6823, 12)\n",
      "filling off\n",
      "<class 'netCDF4._netCDF4.Variable'>\n",
      "float64 WindSpeed_Flag(Dim_Datetime, Dim_WindSpeed_Grid)\n",
      "unlimited dimensions: \n",
      "current shape = (6823, 13)\n",
      "filling off\n",
      "<class 'netCDF4._netCDF4.Variable'>\n",
      "float64 VaporPressure_Flag(Dim_Datetime, Dim_VaporPressure_Grid)\n",
      "unlimited dimensions: \n",
      "current shape = (6823, 1)\n",
      "filling off\n",
      "<class 'netCDF4._netCDF4.Variable'>\n",
      "float64 SoilMoisture_Flag(Dim_Datetime, Dim_SoilMoisture_Grid)\n",
      "unlimited dimensions: \n",
      "current shape = (6823, 80)\n",
      "filling off\n",
      "<class 'netCDF4._netCDF4.Variable'>\n",
      "float64 SoilTemperature_Flag(Dim_Datetime, Dim_SoilTemperature_Grid)\n",
      "unlimited dimensions: \n",
      "current shape = (6823, 40)\n",
      "filling off\n"
     ]
    }
   ],
   "source": [
    "for v in ncdf.variables:\n",
    "    print(ncdf.variables[v])"
   ]
  },
  {
   "cell_type": "code",
   "execution_count": 6,
   "metadata": {},
   "outputs": [
    {
     "data": {
      "text/plain": [
       "6823"
      ]
     },
     "execution_count": 6,
     "metadata": {},
     "output_type": "execute_result"
    }
   ],
   "source": [
    "start_time = pd.to_datetime(ncdf.variables['Datetime'][:][0])\n",
    "end_time = pd.to_datetime(ncdf.variables['Datetime'][:][-1])\n",
    "time_index = pd.date_range(start_time, end_time, freq='D')\n",
    "time_index\n",
    "len(time_index)"
   ]
  },
  {
   "cell_type": "markdown",
   "metadata": {},
   "source": [
    "## Read discharge data"
   ]
  },
  {
   "cell_type": "code",
   "execution_count": 7,
   "metadata": {},
   "outputs": [
    {
     "data": {
      "text/plain": [
       "<class 'netCDF4._netCDF4.Variable'>\n",
       "float64 Discharge(Dim_Datetime, Dim_Discharge_Grid)\n",
       "    names: ['Prentiss_Discharge', 'Coweeta_Discharge']\n",
       "    time: ['2000-02-26', '2018-10-31']\n",
       "    units: L/s\n",
       "    data_source_link: http://coweeta.uga.edu/dbpublic/dataset_details.asp?accession=3033\n",
       "unlimited dimensions: \n",
       "current shape = (6823, 2)\n",
       "filling off"
      ]
     },
     "execution_count": 7,
     "metadata": {},
     "output_type": "execute_result"
    }
   ],
   "source": [
    "ncdf.variables['Discharge']"
   ]
  },
  {
   "cell_type": "code",
   "execution_count": 8,
   "metadata": {},
   "outputs": [],
   "source": [
    "q_flag = ncdf.variables['Discharge_Flag'][:, 1]"
   ]
  },
  {
   "cell_type": "code",
   "execution_count": 43,
   "metadata": {},
   "outputs": [],
   "source": [
    "station_name = ncdf.variables['Discharge'].names[1]"
   ]
  },
  {
   "cell_type": "code",
   "execution_count": 44,
   "metadata": {},
   "outputs": [
    {
     "data": {
      "text/plain": [
       "[<matplotlib.lines.Line2D at 0x291fdfa3e50>]"
      ]
     },
     "execution_count": 44,
     "metadata": {},
     "output_type": "execute_result"
    },
    {
     "data": {
      "image/png": "[encoded data removed]",
      "text/plain": [
       "<Figure size 640x480 with 1 Axes>"
      ]
     },
     "metadata": {},
     "output_type": "display_data"
    }
   ],
   "source": [
    "# TODO: convert the unit from L/s to mm/d\n",
    "_q = ncdf.variables['Discharge'][:][:, 1] # Get Coweeta discharge\n",
    "# https://portal.edirepository.org/nis/mapbrowse?scope=knb-lter-cwt&identifier=3033\n",
    "drainage_area = 124800 # 12.48ha\n",
    "conversion_l_to_m3 = 0.001\n",
    "consersion_m_to_mm = 1000\n",
    "coversion_sec_to_day = 86400\n",
    "_q = _q / drainage_area * conversion_l_to_m3 * consersion_m_to_mm #m/s\n",
    "q = _q * coversion_sec_to_day #mm/d\n",
    "plt.plot(q)"
   ]
  },
  {
   "cell_type": "markdown",
   "metadata": {},
   "source": [
    "# Read temperature data"
   ]
  },
  {
   "cell_type": "code",
   "execution_count": 45,
   "metadata": {
    "scrolled": false
   },
   "outputs": [
    {
     "data": {
      "text/plain": [
       "<class 'netCDF4._netCDF4.Variable'>\n",
       "float64 AirTemperature(Dim_Datetime, Dim_AirTemperature_Grid)\n",
       "    names: ['Whitehall_AirTemperature', 'CoweetaMid_AirTemperature', 'LowerJonesCreek_AirTemperature', 'GrahamCounty_AirTemperature', 'WineSpring_AirTemperature', 'TessenteeFarm_AirTemperature', 'Cullasaja_AirTemperature', 'FranklinCentral_AirTemperature', 'FranklinNE_AirTemperature', 'FranklinNW_AirTemperature', 'FranklinSE_AirTemperature', 'FranklinSW_AirTemperature', 'MHOpen_AirTemperature']\n",
       "    time: ['2004-11-02', '2018-10-31']\n",
       "    units: Degree celsius\n",
       "    data_source_link: ['http://coweeta.uga.edu/dbpublic/dataset_details.asp?accession=4102 (Central, NE, NW, SE, SW)', 'http://coweeta.uga.edu/dbpublic/dataset_details.asp?accession=4104 (4104)', 'http://coweeta.uga.edu/dbpublic/dataset_details.asp?accession=4106 (4106)', 'http://coweeta.uga.edu/dbpublic/dataset_details.asp?accession=4107 (4107)', 'http://coweeta.uga.edu/dbpublic/dataset_details.asp?accession=4103 (4103)', 'http://coweeta.uga.edu/dbpublic/dataset_details.asp?accession=4038 (OpenSite)', 'http://coweeta.uga.edu/dbpublic/dataset_details.asp?accession=4105 (4105)', 'http://coweeta.uga.edu/dbpublic/dataset_details.asp?accession=4100 (4100)', 'http://coweeta.uga.edu/dbpublic/dataset_details.asp?accession=4101 (4101)']\n",
       "unlimited dimensions: \n",
       "current shape = (6823, 13)\n",
       "filling off"
      ]
     },
     "execution_count": 45,
     "metadata": {},
     "output_type": "execute_result"
    }
   ],
   "source": [
    "ncdf.variables['AirTemperature']"
   ]
  },
  {
   "cell_type": "code",
   "execution_count": 46,
   "metadata": {},
   "outputs": [
    {
     "data": {
      "text/plain": [
       "6823"
      ]
     },
     "execution_count": 46,
     "metadata": {},
     "output_type": "execute_result"
    },
    {
     "data": {
      "image/png": "[encoded data removed]",
      "text/plain": [
       "<Figure size 640x480 with 1 Axes>"
      ]
     },
     "metadata": {},
     "output_type": "display_data"
    }
   ],
   "source": [
    "temp = ncdf.variables['AirTemperature'][:][:, 1]\n",
    "plt.plot(temp)\n",
    "len(temp)"
   ]
  },
  {
   "cell_type": "markdown",
   "metadata": {},
   "source": [
    "# Read precip data"
   ]
  },
  {
   "cell_type": "code",
   "execution_count": 47,
   "metadata": {},
   "outputs": [
    {
     "data": {
      "text/plain": [
       "<class 'netCDF4._netCDF4.Variable'>\n",
       "float64 Precipitation(Dim_Datetime, Dim_Precipitation_Grid)\n",
       "    names: ['Whitehall_Precipitation', 'CoweetaMid_Precipitation', 'LowerJonesCreek_Precipitation', 'GrahamCounty_Precipitation', 'WineSpring_Precipitation', 'TessenteeFarm_Precipitation', 'Cullasaja_Precipitation', 'FranklinCentral_Precipitation', 'FranklinNE_Precipitation', 'FranklinNW_Precipitation', 'FranklinSE_Precipitation', 'FranklinSW_Precipitation', 'MHOpen_Precipitation']\n",
       "    time: ['2013-04-09', '2018-10-31']\n",
       "    units: mm/d\n",
       "    data_source_link: ['http://coweeta.uga.edu/dbpublic/dataset_details.asp?accession=4102 (Central, NE, NW, SE, SW)', 'http://coweeta.uga.edu/dbpublic/dataset_details.asp?accession=4104 (4104)', 'http://coweeta.uga.edu/dbpublic/dataset_details.asp?accession=4106 (4106)', 'http://coweeta.uga.edu/dbpublic/dataset_details.asp?accession=4107 (4107)', 'http://coweeta.uga.edu/dbpublic/dataset_details.asp?accession=4103 (4103)', 'http://coweeta.uga.edu/dbpublic/dataset_details.asp?accession=4038 (OpenSite)', 'http://coweeta.uga.edu/dbpublic/dataset_details.asp?accession=4105 (4105)', 'http://coweeta.uga.edu/dbpublic/dataset_details.asp?accession=4100 (4100)', 'http://coweeta.uga.edu/dbpublic/dataset_details.asp?accession=4101 (4101)']\n",
       "unlimited dimensions: \n",
       "current shape = (6823, 13)\n",
       "filling off"
      ]
     },
     "execution_count": 47,
     "metadata": {},
     "output_type": "execute_result"
    }
   ],
   "source": [
    "ncdf.variables['Precipitation']"
   ]
  },
  {
   "cell_type": "code",
   "execution_count": 48,
   "metadata": {},
   "outputs": [
    {
     "data": {
      "text/plain": [
       "6823"
      ]
     },
     "execution_count": 48,
     "metadata": {},
     "output_type": "execute_result"
    },
    {
     "data": {
      "image/png": "[encoded data removed]",
      "text/plain": [
       "<Figure size 640x480 with 1 Axes>"
      ]
     },
     "metadata": {},
     "output_type": "display_data"
    }
   ],
   "source": [
    "p = ncdf.variables['Precipitation'][:][:, 1]\n",
    "plt.plot(p)\n",
    "len(p)"
   ]
  },
  {
   "cell_type": "markdown",
   "metadata": {},
   "source": [
    "# Read PET related data"
   ]
  },
  {
   "cell_type": "code",
   "execution_count": 49,
   "metadata": {},
   "outputs": [
    {
     "data": {
      "text/plain": [
       "<class 'netCDF4._netCDF4.Variable'>\n",
       "float64 SolarRadiation(Dim_Datetime, Dim_SolarRadiation_Grid)\n",
       "    names: ['FranklinCentral_SolarRadiation', 'FranklinNE_SolarRadiation', 'FranklinNW_SolarRadiation', 'FranklinSW_SolarRadiation']\n",
       "    time: ['2014-02-17', '2018-06-03']\n",
       "    units: W/m2\n",
       "    data_source_link: http://coweeta.uga.edu/dbpublic/dataset_details.asp?accession=1039 (1039)\n",
       "unlimited dimensions: \n",
       "current shape = (6823, 4)\n",
       "filling off"
      ]
     },
     "execution_count": 49,
     "metadata": {},
     "output_type": "execute_result"
    }
   ],
   "source": [
    "ncdf.variables['SolarRadiation']"
   ]
  },
  {
   "cell_type": "code",
   "execution_count": 50,
   "metadata": {},
   "outputs": [
    {
     "data": {
      "text/plain": [
       "6823"
      ]
     },
     "execution_count": 50,
     "metadata": {},
     "output_type": "execute_result"
    }
   ],
   "source": [
    "R_s = ncdf.variables['SolarRadiation'][:][:, 0]\n",
    "len(R_s)"
   ]
  },
  {
   "cell_type": "code",
   "execution_count": 51,
   "metadata": {},
   "outputs": [
    {
     "data": {
      "text/plain": [
       "<class 'netCDF4._netCDF4.Variable'>\n",
       "float64 RelativeHumidity(Dim_Datetime, Dim_RelativeHumidity_Grid)\n",
       "    names: ['Whitehall_RelativeHumidity', 'CoweetaMid_RelativeHumidity', 'LowerJonesCreek_RelativeHumidity', 'GrahamCounty_RelativeHumidity', 'WineSpring_RelativeHumidity', 'TessenteeFarm_RelativeHumidity', 'Cullasaja_RelativeHumidity', 'FranklinCentral_RelativeHumidity', 'FranklinNE_RelativeHumidity', 'FranklinNW_RelativeHumidity', 'FranklinSE_RelativeHumidity', 'FranklinSW_RelativeHumidity', 'MHOpen_RelativeHumidity']\n",
       "    time: ['2004-11-02', '2018-10-31']\n",
       "    units: %\n",
       "    data_source_link: ['http://coweeta.uga.edu/dbpublic/dataset_details.asp?accession=4102 (Central, NE, NW, SE, SW)', 'http://coweeta.uga.edu/dbpublic/dataset_details.asp?accession=4104 (4104)', 'http://coweeta.uga.edu/dbpublic/dataset_details.asp?accession=4106 (4106)', 'http://coweeta.uga.edu/dbpublic/dataset_details.asp?accession=4107 (4107)', 'http://coweeta.uga.edu/dbpublic/dataset_details.asp?accession=4103 (4103)', 'http://coweeta.uga.edu/dbpublic/dataset_details.asp?accession=4038 (OpenSite)', 'http://coweeta.uga.edu/dbpublic/dataset_details.asp?accession=4105 (4105)', 'http://coweeta.uga.edu/dbpublic/dataset_details.asp?accession=4100 (4100)', 'http://coweeta.uga.edu/dbpublic/dataset_details.asp?accession=4101 (4101)']\n",
       "unlimited dimensions: \n",
       "current shape = (6823, 13)\n",
       "filling off"
      ]
     },
     "execution_count": 51,
     "metadata": {},
     "output_type": "execute_result"
    }
   ],
   "source": [
    "ncdf.variables['RelativeHumidity']"
   ]
  },
  {
   "cell_type": "code",
   "execution_count": 52,
   "metadata": {},
   "outputs": [],
   "source": [
    "RH = ncdf.variables['SolarRadiation'][:][:, 1]"
   ]
  },
  {
   "cell_type": "code",
   "execution_count": 53,
   "metadata": {},
   "outputs": [
    {
     "data": {
      "text/plain": [
       "<class 'netCDF4._netCDF4.Variable'>\n",
       "float64 WindSpeed(Dim_Datetime, Dim_WindSpeed_Grid)\n",
       "    names: ['Whitehall_WindSpeed', 'CoweetaMid_WindSpeed', 'LowerJonesCreek_WindSpeed', 'GrahamCounty_WindSpeed', 'WineSpring_WindSpeed', 'TessenteeFarm_WindSpeed', 'Cullasaja_WindSpeed', 'FranklinCentral_WindSpeed', 'FranklinNE_WindSpeed', 'FranklinNW_WindSpeed', 'FranklinSE_WindSpeed', 'FranklinSW_WindSpeed', 'MHOpen_WindSpeed']\n",
       "    time: ['2013-04-09', '2018-10-31']\n",
       "    units: m/s\n",
       "    data_source_link: ['http://coweeta.uga.edu/dbpublic/dataset_details.asp?accession=4102 (Central, NE, NW, SE, SW)', 'http://coweeta.uga.edu/dbpublic/dataset_details.asp?accession=4104 (4104)', 'http://coweeta.uga.edu/dbpublic/dataset_details.asp?accession=4106 (4106)', 'http://coweeta.uga.edu/dbpublic/dataset_details.asp?accession=4107 (4107)', 'http://coweeta.uga.edu/dbpublic/dataset_details.asp?accession=4103 (4103)', 'http://coweeta.uga.edu/dbpublic/dataset_details.asp?accession=4038 (OpenSite)', 'http://coweeta.uga.edu/dbpublic/dataset_details.asp?accession=4105 (4105)', 'http://coweeta.uga.edu/dbpublic/dataset_details.asp?accession=4100 (4100)', 'http://coweeta.uga.edu/dbpublic/dataset_details.asp?accession=4101 (4101)']\n",
       "unlimited dimensions: \n",
       "current shape = (6823, 13)\n",
       "filling off"
      ]
     },
     "execution_count": 53,
     "metadata": {},
     "output_type": "execute_result"
    }
   ],
   "source": [
    "ncdf.variables['WindSpeed']"
   ]
  },
  {
   "cell_type": "code",
   "execution_count": 54,
   "metadata": {},
   "outputs": [],
   "source": [
    "U_z = ncdf.variables['WindSpeed'][:][:, 1]"
   ]
  },
  {
   "cell_type": "code",
   "execution_count": 55,
   "metadata": {},
   "outputs": [
    {
     "data": {
      "text/plain": [
       "<class 'netCDF4._netCDF4.Variable'>\n",
       "float64 VaporPressure(Dim_Datetime, Dim_VaporPressure_Grid)\n",
       "    names: 1039_VaporPressure\n",
       "    time: ['2000-02-26', '2008-01-01']\n",
       "    units: kPa\n",
       "    data_source_link: http://coweeta.uga.edu/dbpublic/dataset_details.asp?accession=1039 (1039)\n",
       "unlimited dimensions: \n",
       "current shape = (6823, 1)\n",
       "filling off"
      ]
     },
     "execution_count": 55,
     "metadata": {},
     "output_type": "execute_result"
    }
   ],
   "source": [
    "ncdf.variables['VaporPressure']"
   ]
  },
  {
   "cell_type": "code",
   "execution_count": 56,
   "metadata": {},
   "outputs": [
    {
     "data": {
      "text/plain": [
       "(6823,)"
      ]
     },
     "execution_count": 56,
     "metadata": {},
     "output_type": "execute_result"
    }
   ],
   "source": [
    "e_a = ncdf.variables['VaporPressure'][:][:,0]\n",
    "e_a.shape"
   ]
  },
  {
   "cell_type": "markdown",
   "metadata": {},
   "source": [
    "# Calculate EVAP"
   ]
  },
  {
   "cell_type": "code",
   "execution_count": 57,
   "metadata": {},
   "outputs": [
    {
     "data": {
      "text/plain": [
       "[<matplotlib.lines.Line2D at 0x291fe097610>]"
      ]
     },
     "execution_count": 57,
     "metadata": {},
     "output_type": "execute_result"
    },
    {
     "data": {
      "image/png": "[encoded data removed]",
      "text/plain": [
       "<Figure size 640x480 with 1 Axes>"
      ]
     },
     "metadata": {},
     "output_type": "display_data"
    }
   ],
   "source": [
    "pressure = np.full_like(p, 101325) #Pa\n",
    "plt.plot(pressure)"
   ]
  },
  {
   "cell_type": "code",
   "execution_count": 58,
   "metadata": {},
   "outputs": [
    {
     "data": {
      "text/plain": [
       "\"\\n\\nTo find the pressure at a specific elevation, you can use the barometric formula if you're considering the atmosphere to be standard. However, for a quick estimate, you can use the following empirical formula:\\n\\nP=P0×(1−L×hT0)g×MR×LP=P0\\u200b×(1−T0\\u200bL×h\\u200b)R×Lg×M\\u200b\\n\\nWhere:\\n\\n    PP is the pressure at elevation hh\\n    P0=101325\\u2009PaP0\\u200b=101325Pa is the standard pressure at sea level\\n    L=0.0065\\u2009K/mL=0.0065K/m is the standard temperature lapse rate\\n    h=782\\u2009mh=782m is the elevation\\n    T0=288.15\\u2009KT0\\u200b=288.15K is the standard temperature at sea level\\n    g=9.80665\\u2009m/s2g=9.80665m/s2 is the standard gravity\\n    M=0.0289644\\u2009kg/molM=0.0289644kg/mol is the molar mass of Earth's air\\n    R=8.31447\\u2009J/(mol K)R=8.31447J/(mol K) is the ideal gas constant\\n\\nSubstitute the known values into the equation:\\n\\nP=101325×(1−0.0065×782288.15)9.80665×0.02896448.31447×0.0065P=101325×(1−288.150.0065×782\\u200b)8.31447×0.00659.80665×0.0289644\\u200b\\n\\nCalculate the pressure PP:\\n\\nP≈101325×(1−0.0176)5.255P≈101325×(1−0.0176)5.255\\n\\nP≈101325×(0.9824)5.255P≈101325×(0.9824)5.255\\n\\nP≈101325×0.8355P≈101325×0.8355\\n\\nP≈84674.13\\u2009PaP≈84674.13Pa\\n\\nSo, the approximate pressure at an elevation of 782 meters is 84674.13\\u2009Pa84674.13Pa or 84.67\\u2009kPa84.67kPa.\\n\""
      ]
     },
     "execution_count": 58,
     "metadata": {},
     "output_type": "execute_result"
    }
   ],
   "source": [
    "pressure\n",
    "\"\"\"\n",
    "\n",
    "To find the pressure at a specific elevation, you can use the barometric formula if you're considering the atmosphere to be standard. However, for a quick estimate, you can use the following empirical formula:\n",
    "\n",
    "P=P0×(1−L×hT0)g×MR×LP=P0​×(1−T0​L×h​)R×Lg×M​\n",
    "\n",
    "Where:\n",
    "\n",
    "    PP is the pressure at elevation hh\n",
    "    P0=101325 PaP0​=101325Pa is the standard pressure at sea level\n",
    "    L=0.0065 K/mL=0.0065K/m is the standard temperature lapse rate\n",
    "    h=782 mh=782m is the elevation\n",
    "    T0=288.15 KT0​=288.15K is the standard temperature at sea level\n",
    "    g=9.80665 m/s2g=9.80665m/s2 is the standard gravity\n",
    "    M=0.0289644 kg/molM=0.0289644kg/mol is the molar mass of Earth's air\n",
    "    R=8.31447 J/(mol K)R=8.31447J/(mol K) is the ideal gas constant\n",
    "\n",
    "Substitute the known values into the equation:\n",
    "\n",
    "P=101325×(1−0.0065×782288.15)9.80665×0.02896448.31447×0.0065P=101325×(1−288.150.0065×782​)8.31447×0.00659.80665×0.0289644​\n",
    "\n",
    "Calculate the pressure PP:\n",
    "\n",
    "P≈101325×(1−0.0176)5.255P≈101325×(1−0.0176)5.255\n",
    "\n",
    "P≈101325×(0.9824)5.255P≈101325×(0.9824)5.255\n",
    "\n",
    "P≈101325×0.8355P≈101325×0.8355\n",
    "\n",
    "P≈84674.13 PaP≈84674.13Pa\n",
    "\n",
    "So, the approximate pressure at an elevation of 782 meters is 84674.13 Pa84674.13Pa or 84.67 kPa84.67kPa.\n",
    "\"\"\""
   ]
  },
  {
   "cell_type": "markdown",
   "metadata": {},
   "source": [
    "## Unit conversion\n",
    "Check https://eto.readthedocs.io/en/latest/package_references.html#parameter-estimation"
   ]
  },
  {
   "cell_type": "code",
   "execution_count": 59,
   "metadata": {},
   "outputs": [],
   "source": [
    "# Pressure \n",
    "conversion_to_kilo = 0.001\n",
    "pressure_kpa = pressure * conversion_to_kilo\n",
    "\n",
    "# Radiation W/m2 -> MJ/m2\n",
    "# 1 W/m2 = 0.0864 MJ/m2/day\n",
    "conversion_Wm2_to_MJm2 = 0.0864 \n",
    "R_s_MJm2 = R_s * conversion_Wm2_to_MJm2\n",
    "\n",
    "# vapor pressure (kPa)\n",
    "# no conversion\n",
    "\n",
    "# Wind speed (m/s)\n",
    "# no conversion\n",
    "\n",
    "# Relative humidity (%) -> (-)\n",
    "RH_fraction = RH / 100\n",
    "\n",
    "# Check the period when the data is available"
   ]
  },
  {
   "cell_type": "code",
   "execution_count": 60,
   "metadata": {},
   "outputs": [
    {
     "data": {
      "text/html": [
       "<div>\n",
       "<style scoped>\n",
       "    .dataframe tbody tr th:only-of-type {\n",
       "        vertical-align: middle;\n",
       "    }\n",
       "\n",
       "    .dataframe tbody tr th {\n",
       "        vertical-align: top;\n",
       "    }\n",
       "\n",
       "    .dataframe thead th {\n",
       "        text-align: right;\n",
       "    }\n",
       "</style>\n",
       "<table border=\"1\" class=\"dataframe\">\n",
       "  <thead>\n",
       "    <tr style=\"text-align: right;\">\n",
       "      <th></th>\n",
       "      <th>P</th>\n",
       "      <th>T_min</th>\n",
       "      <th>T_max</th>\n",
       "      <th>R_s</th>\n",
       "      <th>e_a</th>\n",
       "      <th>RH_mean</th>\n",
       "      <th>U_z</th>\n",
       "      <th>date</th>\n",
       "    </tr>\n",
       "  </thead>\n",
       "  <tbody>\n",
       "    <tr>\n",
       "      <th>2000-02-26</th>\n",
       "      <td>101.325</td>\n",
       "      <td>NaN</td>\n",
       "      <td>NaN</td>\n",
       "      <td>NaN</td>\n",
       "      <td>1.030000</td>\n",
       "      <td>NaN</td>\n",
       "      <td>NaN</td>\n",
       "      <td>2000-02-26</td>\n",
       "    </tr>\n",
       "    <tr>\n",
       "      <th>2000-02-27</th>\n",
       "      <td>101.325</td>\n",
       "      <td>NaN</td>\n",
       "      <td>NaN</td>\n",
       "      <td>NaN</td>\n",
       "      <td>1.180417</td>\n",
       "      <td>NaN</td>\n",
       "      <td>NaN</td>\n",
       "      <td>2000-02-27</td>\n",
       "    </tr>\n",
       "    <tr>\n",
       "      <th>2000-02-28</th>\n",
       "      <td>101.325</td>\n",
       "      <td>NaN</td>\n",
       "      <td>NaN</td>\n",
       "      <td>NaN</td>\n",
       "      <td>0.607083</td>\n",
       "      <td>NaN</td>\n",
       "      <td>NaN</td>\n",
       "      <td>2000-02-28</td>\n",
       "    </tr>\n",
       "    <tr>\n",
       "      <th>2000-02-29</th>\n",
       "      <td>101.325</td>\n",
       "      <td>NaN</td>\n",
       "      <td>NaN</td>\n",
       "      <td>NaN</td>\n",
       "      <td>0.546667</td>\n",
       "      <td>NaN</td>\n",
       "      <td>NaN</td>\n",
       "      <td>2000-02-29</td>\n",
       "    </tr>\n",
       "    <tr>\n",
       "      <th>2000-03-01</th>\n",
       "      <td>101.325</td>\n",
       "      <td>NaN</td>\n",
       "      <td>NaN</td>\n",
       "      <td>NaN</td>\n",
       "      <td>0.813750</td>\n",
       "      <td>NaN</td>\n",
       "      <td>NaN</td>\n",
       "      <td>2000-03-01</td>\n",
       "    </tr>\n",
       "  </tbody>\n",
       "</table>\n",
       "</div>"
      ],
      "text/plain": [
       "                  P  T_min  T_max  R_s       e_a  RH_mean  U_z       date\n",
       "2000-02-26  101.325    NaN    NaN  NaN  1.030000      NaN  NaN 2000-02-26\n",
       "2000-02-27  101.325    NaN    NaN  NaN  1.180417      NaN  NaN 2000-02-27\n",
       "2000-02-28  101.325    NaN    NaN  NaN  0.607083      NaN  NaN 2000-02-28\n",
       "2000-02-29  101.325    NaN    NaN  NaN  0.546667      NaN  NaN 2000-02-29\n",
       "2000-03-01  101.325    NaN    NaN  NaN  0.813750      NaN  NaN 2000-03-01"
      ]
     },
     "execution_count": 60,
     "metadata": {},
     "output_type": "execute_result"
    }
   ],
   "source": [
    "# Need df[[\"date\", \"R_s\", \"P\", \"T_mean\", \"e_a\", \"RH_mean\", \"U_z\"]]\n",
    "forcings = np.vstack([pressure_kpa, temp, temp, R_s_MJm2, e_a, RH_fraction, U_z]).transpose()\n",
    "forcings_df = pd.DataFrame(forcings, index=time_index, columns=[\"P\", \"T_min\", \"T_max\", \"R_s\", \"e_a\", \"RH_mean\", \"U_z\"])\n",
    "forcings_df[\"date\"] = pd.to_datetime(forcings_df.index)\n",
    "forcings_df.head()"
   ]
  },
  {
   "cell_type": "code",
   "execution_count": 61,
   "metadata": {},
   "outputs": [
    {
     "data": {
      "text/plain": [
       "<AxesSubplot:>"
      ]
     },
     "execution_count": 61,
     "metadata": {},
     "output_type": "execute_result"
    },
    {
     "data": {
      "image/png": "[encoded data removed]",
      "text/plain": [
       "<Figure size 640x480 with 1 Axes>"
      ]
     },
     "metadata": {},
     "output_type": "display_data"
    }
   ],
   "source": [
    "forcings_df[[\"P\",\"T_min\",\"T_max\",\"R_s\",\"e_a\",\"RH_mean\",\"U_z\"]][start_date:end_date].plot()"
   ]
  },
  {
   "cell_type": "code",
   "execution_count": 62,
   "metadata": {},
   "outputs": [
    {
     "data": {
      "text/plain": [
       "'g:\\\\Shared drives\\\\Ryoko and Hilary\\\\SMSigxModel\\\\analysis\\\\0_data_preprocessing\\\\script'"
      ]
     },
     "execution_count": 62,
     "metadata": {},
     "output_type": "execute_result"
    }
   ],
   "source": [
    "os.getcwd()"
   ]
  },
  {
   "cell_type": "code",
   "execution_count": 73,
   "metadata": {},
   "outputs": [
    {
     "data": {
      "text/html": [
       "<div>\n",
       "<style scoped>\n",
       "    .dataframe tbody tr th:only-of-type {\n",
       "        vertical-align: middle;\n",
       "    }\n",
       "\n",
       "    .dataframe tbody tr th {\n",
       "        vertical-align: top;\n",
       "    }\n",
       "\n",
       "    .dataframe thead th {\n",
       "        text-align: right;\n",
       "    }\n",
       "</style>\n",
       "<table border=\"1\" class=\"dataframe\">\n",
       "  <thead>\n",
       "    <tr style=\"text-align: right;\">\n",
       "      <th></th>\n",
       "      <th>P</th>\n",
       "      <th>T_min</th>\n",
       "      <th>T_max</th>\n",
       "      <th>R_s</th>\n",
       "      <th>RH_mean</th>\n",
       "      <th>U_z</th>\n",
       "      <th>date</th>\n",
       "    </tr>\n",
       "  </thead>\n",
       "  <tbody>\n",
       "    <tr>\n",
       "      <th>2014-06-12</th>\n",
       "      <td>101.325</td>\n",
       "      <td>18.600000</td>\n",
       "      <td>18.600000</td>\n",
       "      <td>19.600992</td>\n",
       "      <td>2.457335</td>\n",
       "      <td>0.682727</td>\n",
       "      <td>2014-06-12</td>\n",
       "    </tr>\n",
       "    <tr>\n",
       "      <th>2014-06-13</th>\n",
       "      <td>101.325</td>\n",
       "      <td>17.209583</td>\n",
       "      <td>17.209583</td>\n",
       "      <td>17.607564</td>\n",
       "      <td>1.948462</td>\n",
       "      <td>0.674167</td>\n",
       "      <td>2014-06-13</td>\n",
       "    </tr>\n",
       "    <tr>\n",
       "      <th>2014-06-14</th>\n",
       "      <td>101.325</td>\n",
       "      <td>18.522917</td>\n",
       "      <td>18.522917</td>\n",
       "      <td>27.943020</td>\n",
       "      <td>3.339267</td>\n",
       "      <td>0.779167</td>\n",
       "      <td>2014-06-14</td>\n",
       "    </tr>\n",
       "    <tr>\n",
       "      <th>2014-06-15</th>\n",
       "      <td>101.325</td>\n",
       "      <td>21.141250</td>\n",
       "      <td>21.141250</td>\n",
       "      <td>28.964196</td>\n",
       "      <td>3.043151</td>\n",
       "      <td>1.016667</td>\n",
       "      <td>2014-06-15</td>\n",
       "    </tr>\n",
       "    <tr>\n",
       "      <th>2014-06-16</th>\n",
       "      <td>101.325</td>\n",
       "      <td>20.353333</td>\n",
       "      <td>20.353333</td>\n",
       "      <td>18.914076</td>\n",
       "      <td>2.117113</td>\n",
       "      <td>0.792083</td>\n",
       "      <td>2014-06-16</td>\n",
       "    </tr>\n",
       "  </tbody>\n",
       "</table>\n",
       "</div>"
      ],
      "text/plain": [
       "                  P      T_min      T_max        R_s   RH_mean       U_z  \\\n",
       "2014-06-12  101.325  18.600000  18.600000  19.600992  2.457335  0.682727   \n",
       "2014-06-13  101.325  17.209583  17.209583  17.607564  1.948462  0.674167   \n",
       "2014-06-14  101.325  18.522917  18.522917  27.943020  3.339267  0.779167   \n",
       "2014-06-15  101.325  21.141250  21.141250  28.964196  3.043151  1.016667   \n",
       "2014-06-16  101.325  20.353333  20.353333  18.914076  2.117113  0.792083   \n",
       "\n",
       "                 date  \n",
       "2014-06-12 2014-06-12  \n",
       "2014-06-13 2014-06-13  \n",
       "2014-06-14 2014-06-14  \n",
       "2014-06-15 2014-06-15  \n",
       "2014-06-16 2014-06-16  "
      ]
     },
     "execution_count": 73,
     "metadata": {},
     "output_type": "execute_result"
    }
   ],
   "source": [
    "input_df = forcings_df[[\"P\",\"T_min\",\"T_max\",\"R_s\",\"RH_mean\",\"U_z\", \"date\"]][start_date:end_date].dropna().copy()\n",
    "input_df.head()"
   ]
  },
  {
   "cell_type": "code",
   "execution_count": 74,
   "metadata": {},
   "outputs": [
    {
     "data": {
      "text/html": [
       "<div>\n",
       "<style scoped>\n",
       "    .dataframe tbody tr th:only-of-type {\n",
       "        vertical-align: middle;\n",
       "    }\n",
       "\n",
       "    .dataframe tbody tr th {\n",
       "        vertical-align: top;\n",
       "    }\n",
       "\n",
       "    .dataframe thead th {\n",
       "        text-align: right;\n",
       "    }\n",
       "</style>\n",
       "<table border=\"1\" class=\"dataframe\">\n",
       "  <thead>\n",
       "    <tr style=\"text-align: right;\">\n",
       "      <th></th>\n",
       "      <th>P</th>\n",
       "      <th>T_min</th>\n",
       "      <th>T_max</th>\n",
       "      <th>R_s</th>\n",
       "      <th>RH_mean</th>\n",
       "      <th>U_z</th>\n",
       "      <th>date</th>\n",
       "      <th>e_s</th>\n",
       "      <th>e_a</th>\n",
       "    </tr>\n",
       "    <tr>\n",
       "      <th>time</th>\n",
       "      <th></th>\n",
       "      <th></th>\n",
       "      <th></th>\n",
       "      <th></th>\n",
       "      <th></th>\n",
       "      <th></th>\n",
       "      <th></th>\n",
       "      <th></th>\n",
       "      <th></th>\n",
       "    </tr>\n",
       "  </thead>\n",
       "  <tbody>\n",
       "    <tr>\n",
       "      <th>2014-06-12</th>\n",
       "      <td>101.325</td>\n",
       "      <td>18.600000</td>\n",
       "      <td>18.600000</td>\n",
       "      <td>19.600992</td>\n",
       "      <td>2.457335</td>\n",
       "      <td>0.682727</td>\n",
       "      <td>2014-06-12</td>\n",
       "      <td>2.143855</td>\n",
       "      <td>5.268168</td>\n",
       "    </tr>\n",
       "    <tr>\n",
       "      <th>2014-06-13</th>\n",
       "      <td>101.325</td>\n",
       "      <td>17.209583</td>\n",
       "      <td>17.209583</td>\n",
       "      <td>17.607564</td>\n",
       "      <td>1.948462</td>\n",
       "      <td>0.674167</td>\n",
       "      <td>2014-06-13</td>\n",
       "      <td>1.964259</td>\n",
       "      <td>3.827284</td>\n",
       "    </tr>\n",
       "    <tr>\n",
       "      <th>2014-06-14</th>\n",
       "      <td>101.325</td>\n",
       "      <td>18.522917</td>\n",
       "      <td>18.522917</td>\n",
       "      <td>27.943020</td>\n",
       "      <td>3.339267</td>\n",
       "      <td>0.779167</td>\n",
       "      <td>2014-06-14</td>\n",
       "      <td>2.133534</td>\n",
       "      <td>7.124440</td>\n",
       "    </tr>\n",
       "    <tr>\n",
       "      <th>2014-06-15</th>\n",
       "      <td>101.325</td>\n",
       "      <td>21.141250</td>\n",
       "      <td>21.141250</td>\n",
       "      <td>28.964196</td>\n",
       "      <td>3.043151</td>\n",
       "      <td>1.016667</td>\n",
       "      <td>2014-06-15</td>\n",
       "      <td>2.509487</td>\n",
       "      <td>7.636747</td>\n",
       "    </tr>\n",
       "    <tr>\n",
       "      <th>2014-06-16</th>\n",
       "      <td>101.325</td>\n",
       "      <td>20.353333</td>\n",
       "      <td>20.353333</td>\n",
       "      <td>18.914076</td>\n",
       "      <td>2.117113</td>\n",
       "      <td>0.792083</td>\n",
       "      <td>2014-06-16</td>\n",
       "      <td>2.390699</td>\n",
       "      <td>5.061381</td>\n",
       "    </tr>\n",
       "  </tbody>\n",
       "</table>\n",
       "</div>"
      ],
      "text/plain": [
       "                  P      T_min      T_max        R_s   RH_mean       U_z  \\\n",
       "time                                                                       \n",
       "2014-06-12  101.325  18.600000  18.600000  19.600992  2.457335  0.682727   \n",
       "2014-06-13  101.325  17.209583  17.209583  17.607564  1.948462  0.674167   \n",
       "2014-06-14  101.325  18.522917  18.522917  27.943020  3.339267  0.779167   \n",
       "2014-06-15  101.325  21.141250  21.141250  28.964196  3.043151  1.016667   \n",
       "2014-06-16  101.325  20.353333  20.353333  18.914076  2.117113  0.792083   \n",
       "\n",
       "                 date       e_s       e_a  \n",
       "time                                       \n",
       "2014-06-12 2014-06-12  2.143855  5.268168  \n",
       "2014-06-13 2014-06-13  1.964259  3.827284  \n",
       "2014-06-14 2014-06-14  2.133534  7.124440  \n",
       "2014-06-15 2014-06-15  2.509487  7.636747  \n",
       "2014-06-16 2014-06-16  2.390699  5.061381  "
      ]
     },
     "execution_count": 74,
     "metadata": {},
     "output_type": "execute_result"
    }
   ],
   "source": [
    "import sys\n",
    "sys.path.append(r'G:\\Shared drives\\Ryoko and Hilary\\SMSigxModel\\analysis\\libs\\cfe_py')\n",
    "from fao_pet import FAO_PET\n",
    "fao_pet = FAO_PET(lat=35.05, lon=-83.43, elevation=726,forcing=input_df)\n",
    "fao_pet.input_forcing.head()"
   ]
  },
  {
   "cell_type": "code",
   "execution_count": 75,
   "metadata": {},
   "outputs": [
    {
     "name": "stderr",
     "output_type": "stream",
     "text": [
      "c:\\Users\\flipl\\miniconda3\\envs\\CFE\\lib\\site-packages\\eto\\param_est.py:149: SettingWithCopyWarning: \n",
      "A value is trying to be set on a copy of a slice from a DataFrame\n",
      "\n",
      "See the caveats in the documentation: https://pandas.pydata.org/pandas-docs/stable/user_guide/indexing.html#returning-a-view-versus-a-copy\n",
      "  self.ts_param['e_a'].loc[self.ts_param['e_a'].isnull()] = (self.ts_param['e_min'][self.ts_param['e_a'].isnull()] * self.ts_param.loc[self.ts_param['e_a'].isnull(), 'RH_max']/100 + self.ts_param['e_max'][self.ts_param['e_a'].isnull()] * self.ts_param.loc[self.ts_param['e_a'].isnull(), 'RH_min']/100)/2\n",
      "c:\\Users\\flipl\\miniconda3\\envs\\CFE\\lib\\site-packages\\eto\\param_est.py:153: SettingWithCopyWarning: \n",
      "A value is trying to be set on a copy of a slice from a DataFrame\n",
      "\n",
      "See the caveats in the documentation: https://pandas.pydata.org/pandas-docs/stable/user_guide/indexing.html#returning-a-view-versus-a-copy\n",
      "  self.ts_param['e_a'].loc[self.ts_param['e_a'].isnull()] = self.ts_param.loc[self.ts_param['e_a'].isnull(), 'RH_mean']/100*(self.ts_param['e_max'][self.ts_param['e_a'].isnull()] + self.ts_param['e_min'][self.ts_param['e_a'].isnull()])/2\n",
      "c:\\Users\\flipl\\miniconda3\\envs\\CFE\\lib\\site-packages\\eto\\param_est.py:157: SettingWithCopyWarning: \n",
      "A value is trying to be set on a copy of a slice from a DataFrame\n",
      "\n",
      "See the caveats in the documentation: https://pandas.pydata.org/pandas-docs/stable/user_guide/indexing.html#returning-a-view-versus-a-copy\n",
      "  self.ts_param['e_a'].loc[self.ts_param['e_a'].isnull()] = 0.6108*np.exp(17.27*self.ts_param.loc[self.ts_param['e_a'].isnull(), 'T_min']/(self.ts_param.loc[self.ts_param['e_a'].isnull(), 'T_min'] + 237.3))\n"
     ]
    },
    {
     "data": {
      "text/plain": [
       "[<matplotlib.lines.Line2D at 0x291fe1243d0>]"
      ]
     },
     "execution_count": 75,
     "metadata": {},
     "output_type": "execute_result"
    },
    {
     "data": {
      "image/png": "[encoded data removed]",
      "text/plain": [
       "<Figure size 640x480 with 1 Axes>"
      ]
     },
     "metadata": {},
     "output_type": "display_data"
    }
   ],
   "source": [
    "pet = fao_pet.calc_PET()\n",
    "# Convert to mm/day\n",
    "plt.plot(pet)"
   ]
  },
  {
   "cell_type": "code",
   "execution_count": 76,
   "metadata": {},
   "outputs": [],
   "source": [
    "_DailyPET = forcings_df.merge(pet, left_index= True, right_index=True, how='outer')"
   ]
  },
  {
   "cell_type": "code",
   "execution_count": 96,
   "metadata": {},
   "outputs": [
    {
     "data": {
      "text/plain": [
       "2000-02-26   -9999.0\n",
       "2000-02-27   -9999.0\n",
       "2000-02-28   -9999.0\n",
       "2000-02-29   -9999.0\n",
       "2000-03-01   -9999.0\n",
       "Freq: D, Name: ETo_FAO_mm, dtype: float64"
      ]
     },
     "execution_count": 96,
     "metadata": {},
     "output_type": "execute_result"
    }
   ],
   "source": [
    "DailyPET = _DailyPET.ETo_FAO_mm.resample('D').asfreq().fillna(-9999)\n",
    "DailyPET.head()"
   ]
  },
  {
   "cell_type": "markdown",
   "metadata": {},
   "source": [
    "# Esimate PET from temp"
   ]
  },
  {
   "cell_type": "code",
   "execution_count": 79,
   "metadata": {},
   "outputs": [],
   "source": [
    "# ptq_df['TAIR'].plot()"
   ]
  },
  {
   "cell_type": "code",
   "execution_count": 80,
   "metadata": {},
   "outputs": [],
   "source": [
    "# # Annual PET\n",
    "# annual_PET = 1200  # in mm\n",
    "\n",
    "# ptq_df['TAIR_positive'] = ptq_df['TAIR'][ptq_df['TAIR'] > 0]\n",
    "# # Calculate the weights for each day\n",
    "# total_temperature = ptq_df['TAIR_positive'].sum()\n",
    "# ptq_df['Weight'] = ptq_df['TAIR_positive'] / total_temperature * 4.5\n",
    "\n",
    "# # Calculate daily PET so that the sum of daily PET is equal to annual PET\n",
    "# ptq_df['Daily_PET'] = ptq_df['Weight'] * annual_PET\n",
    "\n",
    "# # Validate that the sum of daily PETs equals to annual PET\n",
    "# assert round(ptq_df['Daily_PET'].sum()) == annual_PET  * 4.5 # This should not raise an Assertion Error\n",
    "\n",
    "# # Print the DataFrame to inspect the daily PET values\n",
    "# print(ptq_df.head())\n",
    "\n",
    "# ptq_df.Daily_PET.plot()\n"
   ]
  },
  {
   "cell_type": "markdown",
   "metadata": {},
   "source": [
    "# Concat all the data"
   ]
  },
  {
   "cell_type": "code",
   "execution_count": 81,
   "metadata": {},
   "outputs": [
    {
     "data": {
      "text/html": [
       "<div>\n",
       "<style scoped>\n",
       "    .dataframe tbody tr th:only-of-type {\n",
       "        vertical-align: middle;\n",
       "    }\n",
       "\n",
       "    .dataframe tbody tr th {\n",
       "        vertical-align: top;\n",
       "    }\n",
       "\n",
       "    .dataframe thead th {\n",
       "        text-align: right;\n",
       "    }\n",
       "</style>\n",
       "<table border=\"1\" class=\"dataframe\">\n",
       "  <thead>\n",
       "    <tr style=\"text-align: right;\">\n",
       "      <th></th>\n",
       "      <th>P[mm/d]</th>\n",
       "      <th>TAIR</th>\n",
       "      <th>Q[mm/d]</th>\n",
       "    </tr>\n",
       "  </thead>\n",
       "  <tbody>\n",
       "    <tr>\n",
       "      <th>2000-02-26</th>\n",
       "      <td>NaN</td>\n",
       "      <td>NaN</td>\n",
       "      <td>1.652116</td>\n",
       "    </tr>\n",
       "    <tr>\n",
       "      <th>2000-02-27</th>\n",
       "      <td>NaN</td>\n",
       "      <td>NaN</td>\n",
       "      <td>1.907801</td>\n",
       "    </tr>\n",
       "    <tr>\n",
       "      <th>2000-02-28</th>\n",
       "      <td>NaN</td>\n",
       "      <td>NaN</td>\n",
       "      <td>1.711120</td>\n",
       "    </tr>\n",
       "    <tr>\n",
       "      <th>2000-02-29</th>\n",
       "      <td>NaN</td>\n",
       "      <td>NaN</td>\n",
       "      <td>1.652116</td>\n",
       "    </tr>\n",
       "    <tr>\n",
       "      <th>2000-03-01</th>\n",
       "      <td>NaN</td>\n",
       "      <td>NaN</td>\n",
       "      <td>1.593112</td>\n",
       "    </tr>\n",
       "  </tbody>\n",
       "</table>\n",
       "</div>"
      ],
      "text/plain": [
       "            P[mm/d]  TAIR   Q[mm/d]\n",
       "2000-02-26      NaN   NaN  1.652116\n",
       "2000-02-27      NaN   NaN  1.907801\n",
       "2000-02-28      NaN   NaN  1.711120\n",
       "2000-02-29      NaN   NaN  1.652116\n",
       "2000-03-01      NaN   NaN  1.593112"
      ]
     },
     "execution_count": 81,
     "metadata": {},
     "output_type": "execute_result"
    }
   ],
   "source": [
    "ptq = np.vstack([p, temp, q]).transpose()\n",
    "ptq_df = pd.DataFrame(ptq, index=time_index, columns=[\"P[mm/d]\", \"TAIR\", \"Q[mm/d]\"])\n",
    "ptq_df.head()"
   ]
  },
  {
   "cell_type": "markdown",
   "metadata": {},
   "source": [
    "# Get TAIR monthly"
   ]
  },
  {
   "cell_type": "code",
   "execution_count": 82,
   "metadata": {},
   "outputs": [
    {
     "data": {
      "text/plain": [
       "DayOfYear\n",
       "01-01     1.222083\n",
       "01-02     2.847500\n",
       "01-03     4.953021\n",
       "01-04     1.307917\n",
       "01-05    -1.955937\n",
       "           ...    \n",
       "12-27    10.164792\n",
       "12-28     8.703437\n",
       "12-29     7.972188\n",
       "12-30     5.075625\n",
       "12-31     2.388021\n",
       "Name: TAIR, Length: 366, dtype: float64"
      ]
     },
     "execution_count": 82,
     "metadata": {},
     "output_type": "execute_result"
    }
   ],
   "source": [
    "ptq_df['DayOfYear'] = ptq_df.index.strftime('%m-%d')\n",
    "TAIR_average_daily_values = ptq_df.groupby('DayOfYear')['TAIR'].mean()\n",
    "TAIR_average_daily_values"
   ]
  },
  {
   "cell_type": "markdown",
   "metadata": {},
   "source": [
    "# Save all the data"
   ]
  },
  {
   "cell_type": "code",
   "execution_count": 83,
   "metadata": {},
   "outputs": [],
   "source": [
    "output_dir = r\"C:\\Program Files (x86)\\HBV-light\\Data\\Coweeta\\Data\""
   ]
  },
  {
   "cell_type": "code",
   "execution_count": 84,
   "metadata": {},
   "outputs": [
    {
     "data": {
      "text/html": [
       "<div>\n",
       "<style scoped>\n",
       "    .dataframe tbody tr th:only-of-type {\n",
       "        vertical-align: middle;\n",
       "    }\n",
       "\n",
       "    .dataframe tbody tr th {\n",
       "        vertical-align: top;\n",
       "    }\n",
       "\n",
       "    .dataframe thead th {\n",
       "        text-align: right;\n",
       "    }\n",
       "</style>\n",
       "<table border=\"1\" class=\"dataframe\">\n",
       "  <thead>\n",
       "    <tr style=\"text-align: right;\">\n",
       "      <th></th>\n",
       "      <th>P[mm/d]</th>\n",
       "      <th>TAIR</th>\n",
       "      <th>Q[mm/d]</th>\n",
       "      <th>DayOfYear</th>\n",
       "      <th>Date</th>\n",
       "    </tr>\n",
       "  </thead>\n",
       "  <tbody>\n",
       "    <tr>\n",
       "      <th>2000-02-26</th>\n",
       "      <td>NaN</td>\n",
       "      <td>NaN</td>\n",
       "      <td>1.652116</td>\n",
       "      <td>02-26</td>\n",
       "      <td>20000226</td>\n",
       "    </tr>\n",
       "    <tr>\n",
       "      <th>2000-02-27</th>\n",
       "      <td>NaN</td>\n",
       "      <td>NaN</td>\n",
       "      <td>1.907801</td>\n",
       "      <td>02-27</td>\n",
       "      <td>20000227</td>\n",
       "    </tr>\n",
       "    <tr>\n",
       "      <th>2000-02-28</th>\n",
       "      <td>NaN</td>\n",
       "      <td>NaN</td>\n",
       "      <td>1.711120</td>\n",
       "      <td>02-28</td>\n",
       "      <td>20000228</td>\n",
       "    </tr>\n",
       "    <tr>\n",
       "      <th>2000-02-29</th>\n",
       "      <td>NaN</td>\n",
       "      <td>NaN</td>\n",
       "      <td>1.652116</td>\n",
       "      <td>02-29</td>\n",
       "      <td>20000229</td>\n",
       "    </tr>\n",
       "    <tr>\n",
       "      <th>2000-03-01</th>\n",
       "      <td>NaN</td>\n",
       "      <td>NaN</td>\n",
       "      <td>1.593112</td>\n",
       "      <td>03-01</td>\n",
       "      <td>20000301</td>\n",
       "    </tr>\n",
       "  </tbody>\n",
       "</table>\n",
       "</div>"
      ],
      "text/plain": [
       "            P[mm/d]  TAIR   Q[mm/d] DayOfYear      Date\n",
       "2000-02-26      NaN   NaN  1.652116     02-26  20000226\n",
       "2000-02-27      NaN   NaN  1.907801     02-27  20000227\n",
       "2000-02-28      NaN   NaN  1.711120     02-28  20000228\n",
       "2000-02-29      NaN   NaN  1.652116     02-29  20000229\n",
       "2000-03-01      NaN   NaN  1.593112     03-01  20000301"
      ]
     },
     "execution_count": 84,
     "metadata": {},
     "output_type": "execute_result"
    }
   ],
   "source": [
    "ptq_df['Date'] = ptq_df.index.strftime('%Y%m%d')\n",
    "ptq_df['Date'] = ptq_df['Date'].str.replace(\"-\", \"\")\n",
    "ptq_df.head()"
   ]
  },
  {
   "cell_type": "code",
   "execution_count": 86,
   "metadata": {},
   "outputs": [],
   "source": [
    "ptq_df.fillna(-9999, inplace=True)"
   ]
  },
  {
   "cell_type": "code",
   "execution_count": 87,
   "metadata": {},
   "outputs": [],
   "source": [
    "file_path = os.path.join(output_dir, \"ptq.txt\")\n",
    "\n",
    "with open(file_path, 'w') as file:\n",
    "    # Write the header line as \"Little Washita\"\n",
    "    file.write(\"Coweeta daily\\n\")\n",
    "    # Save the DataFrame as tab-delimited data, excluding the index\n",
    "ptq_df[[\"Date\", \"P[mm/d]\", \"TAIR\", \"Q[mm/d]\"]][start_date:end_date].to_csv(file_path, index=None, sep='\\t', mode='a')"
   ]
  },
  {
   "cell_type": "code",
   "execution_count": 88,
   "metadata": {},
   "outputs": [],
   "source": [
    "DailyPET.fillna(-9999, inplace=True)"
   ]
  },
  {
   "cell_type": "code",
   "execution_count": 97,
   "metadata": {},
   "outputs": [],
   "source": [
    "file_path = os.path.join(output_dir, \"EVAP.txt\")\n",
    "with open(file_path, 'w') as file:\n",
    "    # Write the header line as \"Little Washita\"\n",
    "    file.write(\"EVAP\\n\")\n",
    "    # Save the DataFrame as tab-delimited data, excluding the index\n",
    "DailyPET[start_date:end_date].to_csv(os.path.join(output_dir, \"EVAP.txt\"), header=None, index=None, mode='a')"
   ]
  },
  {
   "cell_type": "code",
   "execution_count": 100,
   "metadata": {},
   "outputs": [],
   "source": [
    "TAIR_average_daily_values.to_csv(os.path.join(output_dir, \"t_mean.txt\"), index=None, header=None)\n",
    "# output_path_daily =  r\"C:\\Program Files (x86)\\HBV-light\\Data\\LittleWashita_daily\\data\"\n",
    "# average_daily_values.to_csv(os.path.join(output_path_daily, \"t_mean.txt\"), index=None, header=None)"
   ]
  },
  {
   "cell_type": "markdown",
   "metadata": {},
   "source": [
    "# Get soil moisture data"
   ]
  },
  {
   "cell_type": "code",
   "execution_count": 21,
   "metadata": {},
   "outputs": [],
   "source": [
    "def get_data(ncdf, variable_names_lst=[]): # variable_names_lst=[] to get all the data\n",
    "    # ws=watershed[watershed_number-1].split('-')[1]\n",
    "    # print(ws)\n",
    "    # File=ws+'_NetCDF.nc'\n",
    "    # ncdf = nc4.Dataset(path +'/'+ File, 'r')\n",
    "    keys_lst=list(ncdf.variables.keys())\n",
    "    len_keys=len(keys_lst)\n",
    "    print(\"Hydrometeorological variables in this watershed are:\")\n",
    "    all_variables=keys_lst[2:int(len_keys/2)]\n",
    "    print(all_variables)\n",
    "    if variable_names_lst==[]:\n",
    "        for i,var in enumerate(all_variables):\n",
    "            print(\"Reading all variables\")\n",
    "            indexUnique = pd.date_range(str(pd.to_datetime(ncdf.variables['Datetime'][:][0])), \n",
    "                                        str(pd.to_datetime(ncdf.variables['Datetime'][:][-1])))  \n",
    "            var_df=pd.DataFrame(ncdf.variables[var][:], index=indexUnique, \n",
    "                                columns = [ncdf.variables[var].names])\n",
    "            if i==0:\n",
    "                former_df=var_df\n",
    "            else:\n",
    "                former_df=pd.concat([former_df,var_df],axis=1,join='outer')\n",
    "    else:\n",
    "        for i,var in enumerate(variable_names_lst):\n",
    "            print(f\"Reading {var}\")\n",
    "            indexUnique = pd.date_range(str(pd.to_datetime(ncdf.variables['Datetime'][:][0])), \n",
    "                                        str(pd.to_datetime(ncdf.variables['Datetime'][:][-1])))  \n",
    "            \n",
    "            if ncdf.variables[var][:].shape[1]==1:\n",
    "                var_df=pd.DataFrame(ncdf.variables[var][:], index=indexUnique, columns = [ncdf.variables[var].names])\n",
    "            else:\n",
    "                var_df=pd.DataFrame(ncdf.variables[var][:], index=indexUnique, columns = ncdf.variables[var].names)\n",
    "            \n",
    "            if i==0:\n",
    "                former_df=var_df\n",
    "            else:\n",
    "                former_df=pd.concat([former_df,var_df],axis=1,join='outer')      \n",
    "    former_df.index.rename('DateTime',inplace = True)\n",
    "    return former_df"
   ]
  },
  {
   "cell_type": "code",
   "execution_count": 22,
   "metadata": {},
   "outputs": [
    {
     "name": "stdout",
     "output_type": "stream",
     "text": [
      "Hydrometeorological variables in this watershed are:\n",
      "['Discharge', 'Precipitation', 'AirTemperature', 'SolarRadiation', 'RelativeHumidity', 'WindDirection', 'WindSpeed', 'VaporPressure', 'SoilMoisture']\n"
     ]
    }
   ],
   "source": [
    "df=get_data(ncdf,[\"SoilMoisture\"])"
   ]
  },
  {
   "cell_type": "code",
   "execution_count": 23,
   "metadata": {},
   "outputs": [
    {
     "data": {
      "text/html": [
       "<div>\n",
       "<style scoped>\n",
       "    .dataframe tbody tr th:only-of-type {\n",
       "        vertical-align: middle;\n",
       "    }\n",
       "\n",
       "    .dataframe tbody tr th {\n",
       "        vertical-align: top;\n",
       "    }\n",
       "\n",
       "    .dataframe thead th {\n",
       "        text-align: right;\n",
       "    }\n",
       "</style>\n",
       "<table border=\"1\" class=\"dataframe\">\n",
       "  <thead>\n",
       "    <tr style=\"text-align: right;\">\n",
       "      <th></th>\n",
       "      <th>CWT102_SoilMoisture_30cmA</th>\n",
       "      <th>CWT102_SoilMoisture_30cmB</th>\n",
       "      <th>CWT102_SoilMoisture_60cmA</th>\n",
       "      <th>CWT102_SoilMoisture_60cmB</th>\n",
       "      <th>CWT105_SoilMoisture_30cmA</th>\n",
       "      <th>CWT105_SoilMoisture_30cmB</th>\n",
       "      <th>CWT105_SoilMoisture_60cmA</th>\n",
       "      <th>CWT105_SoilMoisture_60cmB</th>\n",
       "      <th>CWT107_SoilMoisture_30cmA</th>\n",
       "      <th>CWT107_SoilMoisture_30cmB</th>\n",
       "      <th>...</th>\n",
       "      <th>BentCreek1_SoilMoisture_60cmA</th>\n",
       "      <th>BentCreek1_SoilMoisture_60cmB</th>\n",
       "      <th>BentCreek2_SoilMoisture_30cmA</th>\n",
       "      <th>BentCreek2_SoilMoisture_30cmB</th>\n",
       "      <th>BentCreek2_SoilMoisture_60cmA</th>\n",
       "      <th>BentCreek2_SoilMoisture_60cmB</th>\n",
       "      <th>BentCreek3_SoilMoisture_30cmA</th>\n",
       "      <th>BentCreek3_SoilMoisture_30cmB</th>\n",
       "      <th>BentCreek3_SoilMoisture_60cmA</th>\n",
       "      <th>BentCreek3_SoilMoisture_60cmB</th>\n",
       "    </tr>\n",
       "    <tr>\n",
       "      <th>DateTime</th>\n",
       "      <th></th>\n",
       "      <th></th>\n",
       "      <th></th>\n",
       "      <th></th>\n",
       "      <th></th>\n",
       "      <th></th>\n",
       "      <th></th>\n",
       "      <th></th>\n",
       "      <th></th>\n",
       "      <th></th>\n",
       "      <th></th>\n",
       "      <th></th>\n",
       "      <th></th>\n",
       "      <th></th>\n",
       "      <th></th>\n",
       "      <th></th>\n",
       "      <th></th>\n",
       "      <th></th>\n",
       "      <th></th>\n",
       "      <th></th>\n",
       "      <th></th>\n",
       "    </tr>\n",
       "  </thead>\n",
       "  <tbody>\n",
       "    <tr>\n",
       "      <th>2000-02-26</th>\n",
       "      <td>NaN</td>\n",
       "      <td>NaN</td>\n",
       "      <td>NaN</td>\n",
       "      <td>NaN</td>\n",
       "      <td>NaN</td>\n",
       "      <td>NaN</td>\n",
       "      <td>NaN</td>\n",
       "      <td>NaN</td>\n",
       "      <td>NaN</td>\n",
       "      <td>NaN</td>\n",
       "      <td>...</td>\n",
       "      <td>NaN</td>\n",
       "      <td>NaN</td>\n",
       "      <td>NaN</td>\n",
       "      <td>NaN</td>\n",
       "      <td>NaN</td>\n",
       "      <td>NaN</td>\n",
       "      <td>NaN</td>\n",
       "      <td>NaN</td>\n",
       "      <td>NaN</td>\n",
       "      <td>NaN</td>\n",
       "    </tr>\n",
       "    <tr>\n",
       "      <th>2000-02-27</th>\n",
       "      <td>NaN</td>\n",
       "      <td>NaN</td>\n",
       "      <td>NaN</td>\n",
       "      <td>NaN</td>\n",
       "      <td>NaN</td>\n",
       "      <td>NaN</td>\n",
       "      <td>NaN</td>\n",
       "      <td>NaN</td>\n",
       "      <td>NaN</td>\n",
       "      <td>NaN</td>\n",
       "      <td>...</td>\n",
       "      <td>NaN</td>\n",
       "      <td>NaN</td>\n",
       "      <td>NaN</td>\n",
       "      <td>NaN</td>\n",
       "      <td>NaN</td>\n",
       "      <td>NaN</td>\n",
       "      <td>NaN</td>\n",
       "      <td>NaN</td>\n",
       "      <td>NaN</td>\n",
       "      <td>NaN</td>\n",
       "    </tr>\n",
       "    <tr>\n",
       "      <th>2000-02-28</th>\n",
       "      <td>NaN</td>\n",
       "      <td>NaN</td>\n",
       "      <td>NaN</td>\n",
       "      <td>NaN</td>\n",
       "      <td>NaN</td>\n",
       "      <td>NaN</td>\n",
       "      <td>NaN</td>\n",
       "      <td>NaN</td>\n",
       "      <td>NaN</td>\n",
       "      <td>NaN</td>\n",
       "      <td>...</td>\n",
       "      <td>NaN</td>\n",
       "      <td>NaN</td>\n",
       "      <td>NaN</td>\n",
       "      <td>NaN</td>\n",
       "      <td>NaN</td>\n",
       "      <td>NaN</td>\n",
       "      <td>NaN</td>\n",
       "      <td>NaN</td>\n",
       "      <td>NaN</td>\n",
       "      <td>NaN</td>\n",
       "    </tr>\n",
       "    <tr>\n",
       "      <th>2000-02-29</th>\n",
       "      <td>NaN</td>\n",
       "      <td>NaN</td>\n",
       "      <td>NaN</td>\n",
       "      <td>NaN</td>\n",
       "      <td>NaN</td>\n",
       "      <td>NaN</td>\n",
       "      <td>NaN</td>\n",
       "      <td>NaN</td>\n",
       "      <td>NaN</td>\n",
       "      <td>NaN</td>\n",
       "      <td>...</td>\n",
       "      <td>NaN</td>\n",
       "      <td>NaN</td>\n",
       "      <td>NaN</td>\n",
       "      <td>NaN</td>\n",
       "      <td>NaN</td>\n",
       "      <td>NaN</td>\n",
       "      <td>NaN</td>\n",
       "      <td>NaN</td>\n",
       "      <td>NaN</td>\n",
       "      <td>NaN</td>\n",
       "    </tr>\n",
       "    <tr>\n",
       "      <th>2000-03-01</th>\n",
       "      <td>NaN</td>\n",
       "      <td>NaN</td>\n",
       "      <td>NaN</td>\n",
       "      <td>NaN</td>\n",
       "      <td>NaN</td>\n",
       "      <td>NaN</td>\n",
       "      <td>NaN</td>\n",
       "      <td>NaN</td>\n",
       "      <td>NaN</td>\n",
       "      <td>NaN</td>\n",
       "      <td>...</td>\n",
       "      <td>NaN</td>\n",
       "      <td>NaN</td>\n",
       "      <td>NaN</td>\n",
       "      <td>NaN</td>\n",
       "      <td>NaN</td>\n",
       "      <td>NaN</td>\n",
       "      <td>NaN</td>\n",
       "      <td>NaN</td>\n",
       "      <td>NaN</td>\n",
       "      <td>NaN</td>\n",
       "    </tr>\n",
       "  </tbody>\n",
       "</table>\n",
       "<p>5 rows × 80 columns</p>\n",
       "</div>"
      ],
      "text/plain": [
       "            CWT102_SoilMoisture_30cmA  CWT102_SoilMoisture_30cmB  \\\n",
       "DateTime                                                           \n",
       "2000-02-26                        NaN                        NaN   \n",
       "2000-02-27                        NaN                        NaN   \n",
       "2000-02-28                        NaN                        NaN   \n",
       "2000-02-29                        NaN                        NaN   \n",
       "2000-03-01                        NaN                        NaN   \n",
       "\n",
       "            CWT102_SoilMoisture_60cmA  CWT102_SoilMoisture_60cmB  \\\n",
       "DateTime                                                           \n",
       "2000-02-26                        NaN                        NaN   \n",
       "2000-02-27                        NaN                        NaN   \n",
       "2000-02-28                        NaN                        NaN   \n",
       "2000-02-29                        NaN                        NaN   \n",
       "2000-03-01                        NaN                        NaN   \n",
       "\n",
       "            CWT105_SoilMoisture_30cmA  CWT105_SoilMoisture_30cmB  \\\n",
       "DateTime                                                           \n",
       "2000-02-26                        NaN                        NaN   \n",
       "2000-02-27                        NaN                        NaN   \n",
       "2000-02-28                        NaN                        NaN   \n",
       "2000-02-29                        NaN                        NaN   \n",
       "2000-03-01                        NaN                        NaN   \n",
       "\n",
       "            CWT105_SoilMoisture_60cmA  CWT105_SoilMoisture_60cmB  \\\n",
       "DateTime                                                           \n",
       "2000-02-26                        NaN                        NaN   \n",
       "2000-02-27                        NaN                        NaN   \n",
       "2000-02-28                        NaN                        NaN   \n",
       "2000-02-29                        NaN                        NaN   \n",
       "2000-03-01                        NaN                        NaN   \n",
       "\n",
       "            CWT107_SoilMoisture_30cmA  CWT107_SoilMoisture_30cmB  ...  \\\n",
       "DateTime                                                          ...   \n",
       "2000-02-26                        NaN                        NaN  ...   \n",
       "2000-02-27                        NaN                        NaN  ...   \n",
       "2000-02-28                        NaN                        NaN  ...   \n",
       "2000-02-29                        NaN                        NaN  ...   \n",
       "2000-03-01                        NaN                        NaN  ...   \n",
       "\n",
       "            BentCreek1_SoilMoisture_60cmA  BentCreek1_SoilMoisture_60cmB  \\\n",
       "DateTime                                                                   \n",
       "2000-02-26                            NaN                            NaN   \n",
       "2000-02-27                            NaN                            NaN   \n",
       "2000-02-28                            NaN                            NaN   \n",
       "2000-02-29                            NaN                            NaN   \n",
       "2000-03-01                            NaN                            NaN   \n",
       "\n",
       "            BentCreek2_SoilMoisture_30cmA  BentCreek2_SoilMoisture_30cmB  \\\n",
       "DateTime                                                                   \n",
       "2000-02-26                            NaN                            NaN   \n",
       "2000-02-27                            NaN                            NaN   \n",
       "2000-02-28                            NaN                            NaN   \n",
       "2000-02-29                            NaN                            NaN   \n",
       "2000-03-01                            NaN                            NaN   \n",
       "\n",
       "            BentCreek2_SoilMoisture_60cmA  BentCreek2_SoilMoisture_60cmB  \\\n",
       "DateTime                                                                   \n",
       "2000-02-26                            NaN                            NaN   \n",
       "2000-02-27                            NaN                            NaN   \n",
       "2000-02-28                            NaN                            NaN   \n",
       "2000-02-29                            NaN                            NaN   \n",
       "2000-03-01                            NaN                            NaN   \n",
       "\n",
       "            BentCreek3_SoilMoisture_30cmA  BentCreek3_SoilMoisture_30cmB  \\\n",
       "DateTime                                                                   \n",
       "2000-02-26                            NaN                            NaN   \n",
       "2000-02-27                            NaN                            NaN   \n",
       "2000-02-28                            NaN                            NaN   \n",
       "2000-02-29                            NaN                            NaN   \n",
       "2000-03-01                            NaN                            NaN   \n",
       "\n",
       "            BentCreek3_SoilMoisture_60cmA  BentCreek3_SoilMoisture_60cmB  \n",
       "DateTime                                                                  \n",
       "2000-02-26                            NaN                            NaN  \n",
       "2000-02-27                            NaN                            NaN  \n",
       "2000-02-28                            NaN                            NaN  \n",
       "2000-02-29                            NaN                            NaN  \n",
       "2000-03-01                            NaN                            NaN  \n",
       "\n",
       "[5 rows x 80 columns]"
      ]
     },
     "execution_count": 23,
     "metadata": {},
     "output_type": "execute_result"
    }
   ],
   "source": [
    "df.head()"
   ]
  },
  {
   "cell_type": "code",
   "execution_count": 27,
   "metadata": {},
   "outputs": [
    {
     "ename": "RuntimeError",
     "evalue": "NetCDF: Not a valid ID",
     "output_type": "error",
     "traceback": [
      "\u001b[1;31m---------------------------------------------------------------------------\u001b[0m",
      "\u001b[1;31mRuntimeError\u001b[0m                              Traceback (most recent call last)",
      "File \u001b[1;32mc:\\Users\\flipl\\miniconda3\\envs\\CFE\\lib\\site-packages\\IPython\\core\\formatters.py:707\u001b[0m, in \u001b[0;36mPlainTextFormatter.__call__\u001b[1;34m(self, obj)\u001b[0m\n\u001b[0;32m    700\u001b[0m stream \u001b[39m=\u001b[39m StringIO()\n\u001b[0;32m    701\u001b[0m printer \u001b[39m=\u001b[39m pretty\u001b[39m.\u001b[39mRepresentationPrinter(stream, \u001b[39mself\u001b[39m\u001b[39m.\u001b[39mverbose,\n\u001b[0;32m    702\u001b[0m     \u001b[39mself\u001b[39m\u001b[39m.\u001b[39mmax_width, \u001b[39mself\u001b[39m\u001b[39m.\u001b[39mnewline,\n\u001b[0;32m    703\u001b[0m     max_seq_length\u001b[39m=\u001b[39m\u001b[39mself\u001b[39m\u001b[39m.\u001b[39mmax_seq_length,\n\u001b[0;32m    704\u001b[0m     singleton_pprinters\u001b[39m=\u001b[39m\u001b[39mself\u001b[39m\u001b[39m.\u001b[39msingleton_printers,\n\u001b[0;32m    705\u001b[0m     type_pprinters\u001b[39m=\u001b[39m\u001b[39mself\u001b[39m\u001b[39m.\u001b[39mtype_printers,\n\u001b[0;32m    706\u001b[0m     deferred_pprinters\u001b[39m=\u001b[39m\u001b[39mself\u001b[39m\u001b[39m.\u001b[39mdeferred_printers)\n\u001b[1;32m--> 707\u001b[0m printer\u001b[39m.\u001b[39;49mpretty(obj)\n\u001b[0;32m    708\u001b[0m printer\u001b[39m.\u001b[39mflush()\n\u001b[0;32m    709\u001b[0m \u001b[39mreturn\u001b[39;00m stream\u001b[39m.\u001b[39mgetvalue()\n",
      "File \u001b[1;32mc:\\Users\\flipl\\miniconda3\\envs\\CFE\\lib\\site-packages\\IPython\\lib\\pretty.py:393\u001b[0m, in \u001b[0;36mRepresentationPrinter.pretty\u001b[1;34m(self, obj)\u001b[0m\n\u001b[0;32m    390\u001b[0m \u001b[39mfor\u001b[39;00m \u001b[39mcls\u001b[39m \u001b[39min\u001b[39;00m _get_mro(obj_class):\n\u001b[0;32m    391\u001b[0m     \u001b[39mif\u001b[39;00m \u001b[39mcls\u001b[39m \u001b[39min\u001b[39;00m \u001b[39mself\u001b[39m\u001b[39m.\u001b[39mtype_pprinters:\n\u001b[0;32m    392\u001b[0m         \u001b[39m# printer registered in self.type_pprinters\u001b[39;00m\n\u001b[1;32m--> 393\u001b[0m         \u001b[39mreturn\u001b[39;00m \u001b[39mself\u001b[39;49m\u001b[39m.\u001b[39;49mtype_pprinters[\u001b[39mcls\u001b[39;49m](obj, \u001b[39mself\u001b[39;49m, cycle)\n\u001b[0;32m    394\u001b[0m     \u001b[39melse\u001b[39;00m:\n\u001b[0;32m    395\u001b[0m         \u001b[39m# deferred printer\u001b[39;00m\n\u001b[0;32m    396\u001b[0m         printer \u001b[39m=\u001b[39m \u001b[39mself\u001b[39m\u001b[39m.\u001b[39m_in_deferred_types(\u001b[39mcls\u001b[39m)\n",
      "File \u001b[1;32mc:\\Users\\flipl\\miniconda3\\envs\\CFE\\lib\\site-packages\\IPython\\lib\\pretty.py:692\u001b[0m, in \u001b[0;36m_dict_pprinter_factory.<locals>.inner\u001b[1;34m(obj, p, cycle)\u001b[0m\n\u001b[0;32m    690\u001b[0m     p\u001b[39m.\u001b[39mpretty(key)\n\u001b[0;32m    691\u001b[0m     p\u001b[39m.\u001b[39mtext(\u001b[39m'\u001b[39m\u001b[39m: \u001b[39m\u001b[39m'\u001b[39m)\n\u001b[1;32m--> 692\u001b[0m     p\u001b[39m.\u001b[39;49mpretty(obj[key])\n\u001b[0;32m    693\u001b[0m p\u001b[39m.\u001b[39mend_group(step, end)\n",
      "File \u001b[1;32mc:\\Users\\flipl\\miniconda3\\envs\\CFE\\lib\\site-packages\\IPython\\lib\\pretty.py:410\u001b[0m, in \u001b[0;36mRepresentationPrinter.pretty\u001b[1;34m(self, obj)\u001b[0m\n\u001b[0;32m    407\u001b[0m                         \u001b[39mreturn\u001b[39;00m meth(obj, \u001b[39mself\u001b[39m, cycle)\n\u001b[0;32m    408\u001b[0m                 \u001b[39mif\u001b[39;00m \u001b[39mcls\u001b[39m \u001b[39mis\u001b[39;00m \u001b[39mnot\u001b[39;00m \u001b[39mobject\u001b[39m \\\n\u001b[0;32m    409\u001b[0m                         \u001b[39mand\u001b[39;00m callable(\u001b[39mcls\u001b[39m\u001b[39m.\u001b[39m\u001b[39m__dict__\u001b[39m\u001b[39m.\u001b[39mget(\u001b[39m'\u001b[39m\u001b[39m__repr__\u001b[39m\u001b[39m'\u001b[39m)):\n\u001b[1;32m--> 410\u001b[0m                     \u001b[39mreturn\u001b[39;00m _repr_pprint(obj, \u001b[39mself\u001b[39;49m, cycle)\n\u001b[0;32m    412\u001b[0m     \u001b[39mreturn\u001b[39;00m _default_pprint(obj, \u001b[39mself\u001b[39m, cycle)\n\u001b[0;32m    413\u001b[0m \u001b[39mfinally\u001b[39;00m:\n",
      "File \u001b[1;32mc:\\Users\\flipl\\miniconda3\\envs\\CFE\\lib\\site-packages\\IPython\\lib\\pretty.py:778\u001b[0m, in \u001b[0;36m_repr_pprint\u001b[1;34m(obj, p, cycle)\u001b[0m\n\u001b[0;32m    776\u001b[0m \u001b[39m\"\"\"A pprint that just redirects to the normal repr function.\"\"\"\u001b[39;00m\n\u001b[0;32m    777\u001b[0m \u001b[39m# Find newlines and replace them with p.break_()\u001b[39;00m\n\u001b[1;32m--> 778\u001b[0m output \u001b[39m=\u001b[39m \u001b[39mrepr\u001b[39;49m(obj)\n\u001b[0;32m    779\u001b[0m lines \u001b[39m=\u001b[39m output\u001b[39m.\u001b[39msplitlines()\n\u001b[0;32m    780\u001b[0m \u001b[39mwith\u001b[39;00m p\u001b[39m.\u001b[39mgroup():\n",
      "File \u001b[1;32msrc\\netCDF4\\_netCDF4.pyx:4428\u001b[0m, in \u001b[0;36mnetCDF4._netCDF4.Variable.__repr__\u001b[1;34m()\u001b[0m\n",
      "File \u001b[1;32msrc\\netCDF4\\_netCDF4.pyx:4445\u001b[0m, in \u001b[0;36mgenexpr\u001b[1;34m()\u001b[0m\n",
      "File \u001b[1;32msrc\\netCDF4\\_netCDF4.pyx:4445\u001b[0m, in \u001b[0;36mgenexpr\u001b[1;34m()\u001b[0m\n",
      "File \u001b[1;32msrc\\netCDF4\\_netCDF4.pyx:4565\u001b[0m, in \u001b[0;36mnetCDF4._netCDF4.Variable.dimensions.__get__\u001b[1;34m()\u001b[0m\n",
      "File \u001b[1;32msrc\\netCDF4\\_netCDF4.pyx:4496\u001b[0m, in \u001b[0;36mnetCDF4._netCDF4.Variable._getdims\u001b[1;34m()\u001b[0m\n",
      "File \u001b[1;32msrc\\netCDF4\\_netCDF4.pyx:2028\u001b[0m, in \u001b[0;36mnetCDF4._netCDF4._ensure_nc_success\u001b[1;34m()\u001b[0m\n",
      "\u001b[1;31mRuntimeError\u001b[0m: NetCDF: Not a valid ID"
     ]
    }
   ],
   "source": [
    "ncdf.variables"
   ]
  },
  {
   "cell_type": "code",
   "execution_count": null,
   "metadata": {},
   "outputs": [],
   "source": []
  }
 ],
 "metadata": {
  "kernelspec": {
   "display_name": "Python 3",
   "language": "python",
   "name": "python3"
  },
  "language_info": {
   "codemirror_mode": {
    "name": "ipython",
    "version": 3
   },
   "file_extension": ".py",
   "mimetype": "text/x-python",
   "name": "python",
   "nbconvert_exporter": "python",
   "pygments_lexer": "ipython3",
   "version": "3.8.13"
  }
 },
 "nbformat": 4,
 "nbformat_minor": 2
}
