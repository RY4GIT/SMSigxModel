{
 "cells": [
  {
   "cell_type": "code",
   "execution_count": 26,
   "metadata": {},
   "outputs": [],
   "source": [
    "# This notebook is a tutorial about how to extract data and metadata from NetCDF files"
   ]
  },
  {
   "cell_type": "code",
   "execution_count": 1,
   "metadata": {},
   "outputs": [],
   "source": [
    "import pandas as pd\n",
    "import numpy as np\n",
    "import matplotlib.pyplot as plt\n",
    "import os\n",
    "import netCDF4 as nc4            # to work with netCDFs"
   ]
  },
  {
   "cell_type": "markdown",
   "metadata": {},
   "source": [
    "## Print out NetCDF file"
   ]
  },
  {
   "cell_type": "code",
   "execution_count": 2,
   "metadata": {},
   "outputs": [],
   "source": [
    "ws='Coweeta'\n",
    "data_dir  = r\"g:\\Shared drives\\Ryoko and Hilary\\SMSigxModel\\analysis\\0_data_preprocessing\\raw_data\\CHOSEN\" #os.getcwd()\n",
    "ncdf = nc4.Dataset(os.path.join(data_dir, f\"{ws}_NetCDF.nc\"), 'r')"
   ]
  },
  {
   "cell_type": "code",
   "execution_count": 3,
   "metadata": {},
   "outputs": [
    {
     "name": "stdout",
     "output_type": "stream",
     "text": [
      "<class 'netCDF4._netCDF4.Variable'>\n",
      "float64 Datetime(Dim_Datetime)\n",
      "    range: ['2000-02-26', '2018-10-31']\n",
      "unlimited dimensions: \n",
      "current shape = (6823,)\n",
      "filling off\n",
      "<class 'netCDF4._netCDF4.Variable'>\n",
      "vlen Grid(Dim_Grid)\n",
      "    Latitude: ['39.15', '', '33.89655', '35.04826', '35.11535', '35.32116', '35.18539', '35.067189', '35.0734', '35.181048', '35.24270', '35.22737', '35.16331', '35.14298', '35.824828', '', '35.069427', '35.054105', '35.069255', '', '35.051459', '35.06131400', '35.067855', '35.056714', '35.068576', '35.0506480', '35.0593010', '35.065818', '35.058029', '35.065977', '35.0493880', '35.0578120', '', '35.667943', '35.667198', '35.666348']\n",
      "    Longitude: ['-83.37972', '', '-83.362289', '-83.45428', '-83.46619', '-83.79736', '-83.62215', '-83.384413', '-83.16843', '-83.385019', '-83.33727', '-83.45130', '-83.36320', '-83.48930', '-82.555420', '', '-83.437335', '-83.423798', '-83.440717', '', '-83.462251', '-83.47058383', '-83.436667', '-83.426877', '-83.440269', '-83.46062913', '-83.46841318', '-83.436933', '-83.4275003', '-83.441075', '-83.45858537', '-83.46822547', '', '-82.4056687', '-82.4058641', '-82.4057712']\n",
      "    Elevation_m: ['', '', '', '', '', '', '', '', '', '', '', '', '', '', '', '', '', '', '', '', '', '', '', '', '', '', '', '', '', '', '', '', '', '', '', '']\n",
      "    Area_km2: ['363', '', '', '', '', '', '', '', '', '', '', '', '', '', '', '', '', '', '', '', '', '', '', '', '', '', '', '', '', '', '', '', '', '', '', '']\n",
      "vlen data type: <class 'str'>\n",
      "unlimited dimensions: \n",
      "current shape = (36,)\n",
      "<class 'netCDF4._netCDF4.Variable'>\n",
      "float64 Discharge(Dim_Datetime, Dim_Discharge_Grid)\n",
      "    names: ['Prentiss_Discharge', 'Coweeta_Discharge']\n",
      "    time: ['2000-02-26', '2018-10-31']\n",
      "    units: L/s\n",
      "    data_source_link: http://coweeta.uga.edu/dbpublic/dataset_details.asp?accession=3033\n",
      "unlimited dimensions: \n",
      "current shape = (6823, 2)\n",
      "filling off\n",
      "<class 'netCDF4._netCDF4.Variable'>\n",
      "float64 Precipitation(Dim_Datetime, Dim_Precipitation_Grid)\n",
      "    names: ['Whitehall_Precipitation', 'CoweetaMid_Precipitation', 'LowerJonesCreek_Precipitation', 'GrahamCounty_Precipitation', 'WineSpring_Precipitation', 'TessenteeFarm_Precipitation', 'Cullasaja_Precipitation', 'FranklinCentral_Precipitation', 'FranklinNE_Precipitation', 'FranklinNW_Precipitation', 'FranklinSE_Precipitation', 'FranklinSW_Precipitation', 'MHOpen_Precipitation']\n",
      "    time: ['2013-04-09', '2018-10-31']\n",
      "    units: mm/d\n",
      "    data_source_link: ['http://coweeta.uga.edu/dbpublic/dataset_details.asp?accession=4102 (Central, NE, NW, SE, SW)', 'http://coweeta.uga.edu/dbpublic/dataset_details.asp?accession=4104 (4104)', 'http://coweeta.uga.edu/dbpublic/dataset_details.asp?accession=4106 (4106)', 'http://coweeta.uga.edu/dbpublic/dataset_details.asp?accession=4107 (4107)', 'http://coweeta.uga.edu/dbpublic/dataset_details.asp?accession=4103 (4103)', 'http://coweeta.uga.edu/dbpublic/dataset_details.asp?accession=4038 (OpenSite)', 'http://coweeta.uga.edu/dbpublic/dataset_details.asp?accession=4105 (4105)', 'http://coweeta.uga.edu/dbpublic/dataset_details.asp?accession=4100 (4100)', 'http://coweeta.uga.edu/dbpublic/dataset_details.asp?accession=4101 (4101)']\n",
      "unlimited dimensions: \n",
      "current shape = (6823, 13)\n",
      "filling off\n",
      "<class 'netCDF4._netCDF4.Variable'>\n",
      "float64 AirTemperature(Dim_Datetime, Dim_AirTemperature_Grid)\n",
      "    names: ['Whitehall_AirTemperature', 'CoweetaMid_AirTemperature', 'LowerJonesCreek_AirTemperature', 'GrahamCounty_AirTemperature', 'WineSpring_AirTemperature', 'TessenteeFarm_AirTemperature', 'Cullasaja_AirTemperature', 'FranklinCentral_AirTemperature', 'FranklinNE_AirTemperature', 'FranklinNW_AirTemperature', 'FranklinSE_AirTemperature', 'FranklinSW_AirTemperature', 'MHOpen_AirTemperature']\n",
      "    time: ['2004-11-02', '2018-10-31']\n",
      "    units: Degree celsius\n",
      "    data_source_link: ['http://coweeta.uga.edu/dbpublic/dataset_details.asp?accession=4102 (Central, NE, NW, SE, SW)', 'http://coweeta.uga.edu/dbpublic/dataset_details.asp?accession=4104 (4104)', 'http://coweeta.uga.edu/dbpublic/dataset_details.asp?accession=4106 (4106)', 'http://coweeta.uga.edu/dbpublic/dataset_details.asp?accession=4107 (4107)', 'http://coweeta.uga.edu/dbpublic/dataset_details.asp?accession=4103 (4103)', 'http://coweeta.uga.edu/dbpublic/dataset_details.asp?accession=4038 (OpenSite)', 'http://coweeta.uga.edu/dbpublic/dataset_details.asp?accession=4105 (4105)', 'http://coweeta.uga.edu/dbpublic/dataset_details.asp?accession=4100 (4100)', 'http://coweeta.uga.edu/dbpublic/dataset_details.asp?accession=4101 (4101)']\n",
      "unlimited dimensions: \n",
      "current shape = (6823, 13)\n",
      "filling off\n",
      "<class 'netCDF4._netCDF4.Variable'>\n",
      "float64 SolarRadiation(Dim_Datetime, Dim_SolarRadiation_Grid)\n",
      "    names: ['FranklinCentral_SolarRadiation', 'FranklinNE_SolarRadiation', 'FranklinNW_SolarRadiation', 'FranklinSW_SolarRadiation']\n",
      "    time: ['2014-02-17', '2018-06-03']\n",
      "    units: W/m2\n",
      "    data_source_link: http://coweeta.uga.edu/dbpublic/dataset_details.asp?accession=1039 (1039)\n",
      "unlimited dimensions: \n",
      "current shape = (6823, 4)\n",
      "filling off\n",
      "<class 'netCDF4._netCDF4.Variable'>\n",
      "float64 RelativeHumidity(Dim_Datetime, Dim_RelativeHumidity_Grid)\n",
      "    names: ['Whitehall_RelativeHumidity', 'CoweetaMid_RelativeHumidity', 'LowerJonesCreek_RelativeHumidity', 'GrahamCounty_RelativeHumidity', 'WineSpring_RelativeHumidity', 'TessenteeFarm_RelativeHumidity', 'Cullasaja_RelativeHumidity', 'FranklinCentral_RelativeHumidity', 'FranklinNE_RelativeHumidity', 'FranklinNW_RelativeHumidity', 'FranklinSE_RelativeHumidity', 'FranklinSW_RelativeHumidity', 'MHOpen_RelativeHumidity']\n",
      "    time: ['2004-11-02', '2018-10-31']\n",
      "    units: %\n",
      "    data_source_link: ['http://coweeta.uga.edu/dbpublic/dataset_details.asp?accession=4102 (Central, NE, NW, SE, SW)', 'http://coweeta.uga.edu/dbpublic/dataset_details.asp?accession=4104 (4104)', 'http://coweeta.uga.edu/dbpublic/dataset_details.asp?accession=4106 (4106)', 'http://coweeta.uga.edu/dbpublic/dataset_details.asp?accession=4107 (4107)', 'http://coweeta.uga.edu/dbpublic/dataset_details.asp?accession=4103 (4103)', 'http://coweeta.uga.edu/dbpublic/dataset_details.asp?accession=4038 (OpenSite)', 'http://coweeta.uga.edu/dbpublic/dataset_details.asp?accession=4105 (4105)', 'http://coweeta.uga.edu/dbpublic/dataset_details.asp?accession=4100 (4100)', 'http://coweeta.uga.edu/dbpublic/dataset_details.asp?accession=4101 (4101)']\n",
      "unlimited dimensions: \n",
      "current shape = (6823, 13)\n",
      "filling off\n",
      "<class 'netCDF4._netCDF4.Variable'>\n",
      "float64 WindDirection(Dim_Datetime, Dim_WindDirection_Grid)\n",
      "    names: ['CoweetaMid_WindDirection', 'LowerJonesCreek_WindDirection', 'GrahamCounty_WindDirection', 'WineSpring_WindDirection', 'TessenteeFarm_WindDirection', 'Cullasaja_WindDirection', 'FranklinCentral_WindDirection', 'FranklinNE_WindDirection', 'FranklinNW_WindDirection', 'FranklinSE_WindDirection', 'FranklinSW_WindDirection', 'MHOpen_WindDirection']\n",
      "    time: ['2013-04-09', '2018-10-31']\n",
      "    units: Degree\n",
      "    data_source_link: ['http://coweeta.uga.edu/dbpublic/dataset_details.asp?accession=4102 (Central, NE, NW, SE, SW)', 'http://coweeta.uga.edu/dbpublic/dataset_details.asp?accession=4104 (4104)', 'http://coweeta.uga.edu/dbpublic/dataset_details.asp?accession=4106 (4106)', 'http://coweeta.uga.edu/dbpublic/dataset_details.asp?accession=4107 (4107)', 'http://coweeta.uga.edu/dbpublic/dataset_details.asp?accession=4103 (4103)', 'http://coweeta.uga.edu/dbpublic/dataset_details.asp?accession=4038 (OpenSite)', 'http://coweeta.uga.edu/dbpublic/dataset_details.asp?accession=4105 (4105)', 'http://coweeta.uga.edu/dbpublic/dataset_details.asp?accession=4101 (4101)']\n",
      "unlimited dimensions: \n",
      "current shape = (6823, 12)\n",
      "filling off\n",
      "<class 'netCDF4._netCDF4.Variable'>\n",
      "float64 WindSpeed(Dim_Datetime, Dim_WindSpeed_Grid)\n",
      "    names: ['Whitehall_WindSpeed', 'CoweetaMid_WindSpeed', 'LowerJonesCreek_WindSpeed', 'GrahamCounty_WindSpeed', 'WineSpring_WindSpeed', 'TessenteeFarm_WindSpeed', 'Cullasaja_WindSpeed', 'FranklinCentral_WindSpeed', 'FranklinNE_WindSpeed', 'FranklinNW_WindSpeed', 'FranklinSE_WindSpeed', 'FranklinSW_WindSpeed', 'MHOpen_WindSpeed']\n",
      "    time: ['2013-04-09', '2018-10-31']\n",
      "    units: m/s\n",
      "    data_source_link: ['http://coweeta.uga.edu/dbpublic/dataset_details.asp?accession=4102 (Central, NE, NW, SE, SW)', 'http://coweeta.uga.edu/dbpublic/dataset_details.asp?accession=4104 (4104)', 'http://coweeta.uga.edu/dbpublic/dataset_details.asp?accession=4106 (4106)', 'http://coweeta.uga.edu/dbpublic/dataset_details.asp?accession=4107 (4107)', 'http://coweeta.uga.edu/dbpublic/dataset_details.asp?accession=4103 (4103)', 'http://coweeta.uga.edu/dbpublic/dataset_details.asp?accession=4038 (OpenSite)', 'http://coweeta.uga.edu/dbpublic/dataset_details.asp?accession=4105 (4105)', 'http://coweeta.uga.edu/dbpublic/dataset_details.asp?accession=4100 (4100)', 'http://coweeta.uga.edu/dbpublic/dataset_details.asp?accession=4101 (4101)']\n",
      "unlimited dimensions: \n",
      "current shape = (6823, 13)\n",
      "filling off\n",
      "<class 'netCDF4._netCDF4.Variable'>\n",
      "float64 VaporPressure(Dim_Datetime, Dim_VaporPressure_Grid)\n",
      "    names: 1039_VaporPressure\n",
      "    time: ['2000-02-26', '2008-01-01']\n",
      "    units: kPa\n",
      "    data_source_link: http://coweeta.uga.edu/dbpublic/dataset_details.asp?accession=1039 (1039)\n",
      "unlimited dimensions: \n",
      "current shape = (6823, 1)\n",
      "filling off\n",
      "<class 'netCDF4._netCDF4.Variable'>\n",
      "float64 SoilMoisture(Dim_Datetime, Dim_SoilMoisture_Grid)\n",
      "    names: ['CWT102_SoilMoisture_30cmA', 'CWT102_SoilMoisture_30cmB', 'CWT102_SoilMoisture_60cmA', 'CWT102_SoilMoisture_60cmB', 'CWT105_SoilMoisture_30cmA', 'CWT105_SoilMoisture_30cmB', 'CWT105_SoilMoisture_60cmA', 'CWT105_SoilMoisture_60cmB', 'CWT107_SoilMoisture_30cmA', 'CWT107_SoilMoisture_30cmB', 'CWT107_SoilMoisture_60cmA', 'CWT107_SoilMoisture_60cmB', 'CWT227_SoilMoisture_30cmA', 'CWT227_SoilMoisture_30cmB', 'CWT227_SoilMoisture_60cmA', 'CWT227_SoilMoisture_60cmB', 'CWT132_SoilMoisture_30cmA', 'CWT132_SoilMoisture_30cmB', 'CWT132_SoilMoisture_60cmA', 'CWT132_SoilMoisture_60cmB', 'CWT136_SoilMoisture_30cmA', 'CWT136_SoilMoisture_30cmB', 'CWT136_SoilMoisture_60cmA', 'CWT136_SoilMoisture_60cmB', 'CWT202_SoilMoisture_30cmA', 'CWT202_SoilMoisture_30cmB', 'CWT202_SoilMoisture_60cmA', 'CWT202_SoilMoisture_60cmB', 'CWT205_SoilMoisture_30cmA', 'CWT205_SoilMoisture_30cmB', 'CWT205_SoilMoisture_60cmA', 'CWT205_SoilMoisture_60cmB', 'CWT207_SoilMoisture_30cmA', 'CWT207_SoilMoisture_30cmB', 'CWT207_SoilMoisture_60cmA', 'CWT207_SoilMoisture_60cmB', 'CWT232_SoilMoisture_30cmA', 'CWT232_SoilMoisture_30cmB', 'CWT232_SoilMoisture_60cmA', 'CWT232_SoilMoisture_60cmB', 'CWT236_SoilMoisture_30cmA', 'CWT236_SoilMoisture_30cmB', 'CWT236_SoilMoisture_60cmA', 'CWT236_SoilMoisture_60cmB', 'CWT302_SoilMoisture_30cmA', 'CWT302_SoilMoisture_30cmB', 'CWT302_SoilMoisture_60cmA', 'CWT302_SoilMoisture_60cmB', 'CWT305_SoilMoisture_30cmA', 'CWT305_SoilMoisture_30cmB', 'CWT305_SoilMoisture_60cmA', 'CWT305_SoilMoisture_60cmB', 'CWT307_SoilMoisture_30cmA', 'CWT307_SoilMoisture_30cmB', 'CWT307_SoilMoisture_60cmA', 'CWT307_SoilMoisture_60cmB', 'CWT332_SoilMoisture_30cmA', 'CWT332_SoilMoisture_30cmB', 'CWT332_SoilMoisture_60cmA', 'CWT332_SoilMoisture_60cmB', 'CWT336_SoilMoisture_30cmA', 'CWT336_SoilMoisture_30cmB', 'CWT336_SoilMoisture_60cmA', 'CWT336_SoilMoisture_60cmB', 'CWT418_SoilMoisture_30cmA', 'CWT418_SoilMoisture_30cmB', 'CWT418_SoilMoisture_60cmA', 'CWT418_SoilMoisture_60cmB', 'BentCreek1_SoilMoisture_30cmA', 'BentCreek1_SoilMoisture_30cmB', 'BentCreek1_SoilMoisture_60cmA', 'BentCreek1_SoilMoisture_60cmB', 'BentCreek2_SoilMoisture_30cmA', 'BentCreek2_SoilMoisture_30cmB', 'BentCreek2_SoilMoisture_60cmA', 'BentCreek2_SoilMoisture_60cmB', 'BentCreek3_SoilMoisture_30cmA', 'BentCreek3_SoilMoisture_30cmB', 'BentCreek3_SoilMoisture_60cmA', 'BentCreek3_SoilMoisture_60cmB']\n",
      "    time: ['2015-08-03', '2018-10-31']\n",
      "    units: %\n",
      "    data_source_link: ['http://coweeta.uga.edu/dbpublic/dataset_details.asp?accession=1309 (136,236,336)', 'http://coweeta.uga.edu/dbpublic/dataset_details.asp?accession=1308 (132,232,332)', 'http://coweeta.uga.edu/dbpublic/dataset_details.asp?accession=1305 (107,207,307)', 'http://coweeta.uga.edu/dbpublic/dataset_details.asp?accession=1304 (105,205,305)', 'http://coweeta.uga.edu/dbpublic/dataset_details.asp?accession=1307 (418)', 'http://coweeta.uga.edu/dbpublic/dataset_details.asp?accession=1303 (102,202,302)', 'http://coweeta.uga.edu/dbpublic/dataset_details.asp?accession=1306 (1306)', 'http://coweeta.uga.edu/dbpublic/dataset_details.asp?accession=1301 (BentCreek11,BentCreek21)']\n",
      "unlimited dimensions: \n",
      "current shape = (6823, 80)\n",
      "filling off\n",
      "<class 'netCDF4._netCDF4.Variable'>\n",
      "float64 SoilTemperature(Dim_Datetime, Dim_SoilTemperature_Grid)\n",
      "    names: ['CWT102_SoilTemperature_30cmA', 'CWT102_SoilTemperature_30cmB', 'CWT105_SoilTemperature_30cmA', 'CWT105_SoilTemperature_30cmB', 'CWT107_SoilTemperature_30cmA', 'CWT107_SoilTemperature_30cmB', 'CWT227_SoilTemperature_30cmA', 'CWT227_SoilTemperature_30cmB', 'CWT132_SoilTemperature_30cmA', 'CWT132_SoilTemperature_30cmB', 'CWT136_SoilTemperature_30cmA', 'CWT136_SoilTemperature_30cmB', 'CWT202_SoilTemperature_30cmA', 'CWT202_SoilTemperature_30cmB', 'CWT205_SoilTemperature_30cmA', 'CWT205_SoilTemperature_30cmB', 'CWT207_SoilTemperature_30cmA', 'CWT207_SoilTemperature_30cmB', 'CWT232_SoilTemperature_30cmA', 'CWT232_SoilTemperature_30cmB', 'CWT236_SoilTemperature_30cmA', 'CWT236_SoilTemperature_30cmB', 'CWT302_SoilTemperature_30cmA', 'CWT302_SoilTemperature_30cmB', 'CWT305_SoilTemperature_30cmA', 'CWT305_SoilTemperature_30cmB', 'CWT307_SoilTemperature_30cmA', 'CWT307_SoilTemperature_30cmB', 'CWT332_SoilTemperature_30cmA', 'CWT332_SoilTemperature_30cmB', 'CWT336_SoilTemperature_30cmA', 'CWT336_SoilTemperature_30cmB', 'CWT418_SoilTemperature_30cmA', 'CWT418_SoilTemperature_30cmB', 'BentCreek1_SoilTemperature_30cmA', 'BentCreek1_SoilTemperature_30cmB', 'BentCreek2_SoilTemperature_30cmA', 'BentCreek2_SoilTemperature_30cmB', 'BentCreek3_SoilTemperature_30cmA', 'BentCreek3_SoilTemperature_30cmB']\n",
      "    time: ['2015-08-03', '2018-10-31']\n",
      "    units: Degree celsius\n",
      "    data_source_link: ['http://coweeta.uga.edu/dbpublic/dataset_details.asp?accession=1309 (136,236,336)', 'http://coweeta.uga.edu/dbpublic/dataset_details.asp?accession=1308 (132,232,332)', 'http://coweeta.uga.edu/dbpublic/dataset_details.asp?accession=1305 (107,207,307)', 'http://coweeta.uga.edu/dbpublic/dataset_details.asp?accession=1304 (105,205,305)', 'http://coweeta.uga.edu/dbpublic/dataset_details.asp?accession=1307 (418)', 'http://coweeta.uga.edu/dbpublic/dataset_details.asp?accession=1303 (102,202,302)', 'http://coweeta.uga.edu/dbpublic/dataset_details.asp?accession=1306 (1306)', 'http://coweeta.uga.edu/dbpublic/dataset_details.asp?accession=1301 (BentCreek11,BentCreek21,BentCreek31)']\n",
      "unlimited dimensions: \n",
      "current shape = (6823, 40)\n",
      "filling off\n",
      "<class 'netCDF4._netCDF4.Variable'>\n",
      "float64 Discharge_Flag(Dim_Datetime, Dim_Discharge_Grid)\n",
      "unlimited dimensions: \n",
      "current shape = (6823, 2)\n",
      "filling off\n",
      "<class 'netCDF4._netCDF4.Variable'>\n",
      "float64 Precipitation_Flag(Dim_Datetime, Dim_Precipitation_Grid)\n",
      "unlimited dimensions: \n",
      "current shape = (6823, 13)\n",
      "filling off\n",
      "<class 'netCDF4._netCDF4.Variable'>\n",
      "float64 AirTemperature_Flag(Dim_Datetime, Dim_AirTemperature_Grid)\n",
      "unlimited dimensions: \n",
      "current shape = (6823, 13)\n",
      "filling off\n",
      "<class 'netCDF4._netCDF4.Variable'>\n",
      "float64 SolarRadiation_Flag(Dim_Datetime, Dim_SolarRadiation_Grid)\n",
      "unlimited dimensions: \n",
      "current shape = (6823, 4)\n",
      "filling off\n",
      "<class 'netCDF4._netCDF4.Variable'>\n",
      "float64 RelativeHumidity_Flag(Dim_Datetime, Dim_RelativeHumidity_Grid)\n",
      "unlimited dimensions: \n",
      "current shape = (6823, 13)\n",
      "filling off\n",
      "<class 'netCDF4._netCDF4.Variable'>\n",
      "float64 WindDirection_Flag(Dim_Datetime, Dim_WindDirection_Grid)\n",
      "unlimited dimensions: \n",
      "current shape = (6823, 12)\n",
      "filling off\n",
      "<class 'netCDF4._netCDF4.Variable'>\n",
      "float64 WindSpeed_Flag(Dim_Datetime, Dim_WindSpeed_Grid)\n",
      "unlimited dimensions: \n",
      "current shape = (6823, 13)\n",
      "filling off\n",
      "<class 'netCDF4._netCDF4.Variable'>\n",
      "float64 VaporPressure_Flag(Dim_Datetime, Dim_VaporPressure_Grid)\n",
      "unlimited dimensions: \n",
      "current shape = (6823, 1)\n",
      "filling off\n",
      "<class 'netCDF4._netCDF4.Variable'>\n",
      "float64 SoilMoisture_Flag(Dim_Datetime, Dim_SoilMoisture_Grid)\n",
      "unlimited dimensions: \n",
      "current shape = (6823, 80)\n",
      "filling off\n",
      "<class 'netCDF4._netCDF4.Variable'>\n",
      "float64 SoilTemperature_Flag(Dim_Datetime, Dim_SoilTemperature_Grid)\n",
      "unlimited dimensions: \n",
      "current shape = (6823, 40)\n",
      "filling off\n"
     ]
    }
   ],
   "source": [
    "for v in ncdf.variables:\n",
    "    print(ncdf.variables[v])"
   ]
  },
  {
   "cell_type": "code",
   "execution_count": 4,
   "metadata": {},
   "outputs": [
    {
     "data": {
      "text/plain": [
       "6823"
      ]
     },
     "execution_count": 4,
     "metadata": {},
     "output_type": "execute_result"
    }
   ],
   "source": [
    "start_time = pd.to_datetime(ncdf.variables['Datetime'][:][0])\n",
    "end_time = pd.to_datetime(ncdf.variables['Datetime'][:][-1])\n",
    "time_index = pd.date_range(start_time, end_time, freq='D')\n",
    "time_index\n",
    "len(time_index)"
   ]
  },
  {
   "cell_type": "markdown",
   "metadata": {},
   "source": [
    "## Read discharge data"
   ]
  },
  {
   "cell_type": "code",
   "execution_count": 5,
   "metadata": {},
   "outputs": [
    {
     "data": {
      "text/plain": [
       "<class 'netCDF4._netCDF4.Variable'>\n",
       "float64 Discharge(Dim_Datetime, Dim_Discharge_Grid)\n",
       "    names: ['Prentiss_Discharge', 'Coweeta_Discharge']\n",
       "    time: ['2000-02-26', '2018-10-31']\n",
       "    units: L/s\n",
       "    data_source_link: http://coweeta.uga.edu/dbpublic/dataset_details.asp?accession=3033\n",
       "unlimited dimensions: \n",
       "current shape = (6823, 2)\n",
       "filling off"
      ]
     },
     "execution_count": 5,
     "metadata": {},
     "output_type": "execute_result"
    }
   ],
   "source": [
    "ncdf.variables['Discharge']"
   ]
  },
  {
   "cell_type": "code",
   "execution_count": 6,
   "metadata": {},
   "outputs": [],
   "source": [
    "q_flag = ncdf.variables['Discharge_Flag'][:, 1]"
   ]
  },
  {
   "cell_type": "code",
   "execution_count": 7,
   "metadata": {},
   "outputs": [],
   "source": [
    "station_name = ncdf.variables['Discharge'].names[1]"
   ]
  },
  {
   "cell_type": "code",
   "execution_count": 8,
   "metadata": {},
   "outputs": [
    {
     "data": {
      "text/plain": [
       "[<matplotlib.lines.Line2D at 0x1f398187c40>]"
      ]
     },
     "execution_count": 8,
     "metadata": {},
     "output_type": "execute_result"
    },
    {
     "data": {
      "image/png": "[encoded data removed]",
      "text/plain": [
       "<Figure size 640x480 with 1 Axes>"
      ]
     },
     "metadata": {},
     "output_type": "display_data"
    }
   ],
   "source": [
    "# TODO: convert the unit from L/s to mm/d\n",
    "_q = ncdf.variables['Discharge'][:][:, 1] # Get Coweeta discharge\n",
    "# https://portal.edirepository.org/nis/mapbrowse?scope=knb-lter-cwt&identifier=3033\n",
    "drainage_area = 124800 # 12.48ha\n",
    "conversion_l_to_m3 = 0.001\n",
    "consersion_m_to_mm = 1000\n",
    "coversion_sec_to_day = 86400\n",
    "_q = _q / drainage_area * conversion_l_to_m3 * consersion_m_to_mm #m/s\n",
    "q = _q * coversion_sec_to_day #mm/d\n",
    "plt.plot(q)"
   ]
  },
  {
   "cell_type": "markdown",
   "metadata": {},
   "source": [
    "# Read temperature data"
   ]
  },
  {
   "cell_type": "code",
   "execution_count": 9,
   "metadata": {
    "scrolled": false
   },
   "outputs": [
    {
     "data": {
      "text/plain": [
       "<class 'netCDF4._netCDF4.Variable'>\n",
       "float64 AirTemperature(Dim_Datetime, Dim_AirTemperature_Grid)\n",
       "    names: ['Whitehall_AirTemperature', 'CoweetaMid_AirTemperature', 'LowerJonesCreek_AirTemperature', 'GrahamCounty_AirTemperature', 'WineSpring_AirTemperature', 'TessenteeFarm_AirTemperature', 'Cullasaja_AirTemperature', 'FranklinCentral_AirTemperature', 'FranklinNE_AirTemperature', 'FranklinNW_AirTemperature', 'FranklinSE_AirTemperature', 'FranklinSW_AirTemperature', 'MHOpen_AirTemperature']\n",
       "    time: ['2004-11-02', '2018-10-31']\n",
       "    units: Degree celsius\n",
       "    data_source_link: ['http://coweeta.uga.edu/dbpublic/dataset_details.asp?accession=4102 (Central, NE, NW, SE, SW)', 'http://coweeta.uga.edu/dbpublic/dataset_details.asp?accession=4104 (4104)', 'http://coweeta.uga.edu/dbpublic/dataset_details.asp?accession=4106 (4106)', 'http://coweeta.uga.edu/dbpublic/dataset_details.asp?accession=4107 (4107)', 'http://coweeta.uga.edu/dbpublic/dataset_details.asp?accession=4103 (4103)', 'http://coweeta.uga.edu/dbpublic/dataset_details.asp?accession=4038 (OpenSite)', 'http://coweeta.uga.edu/dbpublic/dataset_details.asp?accession=4105 (4105)', 'http://coweeta.uga.edu/dbpublic/dataset_details.asp?accession=4100 (4100)', 'http://coweeta.uga.edu/dbpublic/dataset_details.asp?accession=4101 (4101)']\n",
       "unlimited dimensions: \n",
       "current shape = (6823, 13)\n",
       "filling off"
      ]
     },
     "execution_count": 9,
     "metadata": {},
     "output_type": "execute_result"
    }
   ],
   "source": [
    "ncdf.variables['AirTemperature']"
   ]
  },
  {
   "cell_type": "code",
   "execution_count": 10,
   "metadata": {},
   "outputs": [
    {
     "data": {
      "text/plain": [
       "6823"
      ]
     },
     "execution_count": 10,
     "metadata": {},
     "output_type": "execute_result"
    },
    {
     "data": {
      "image/png": "[encoded data removed]",
      "text/plain": [
       "<Figure size 640x480 with 1 Axes>"
      ]
     },
     "metadata": {},
     "output_type": "display_data"
    }
   ],
   "source": [
    "temp = ncdf.variables['AirTemperature'][:][:, 1]\n",
    "plt.plot(temp)\n",
    "len(temp)"
   ]
  },
  {
   "cell_type": "markdown",
   "metadata": {},
   "source": [
    "# Read precip data"
   ]
  },
  {
   "cell_type": "code",
   "execution_count": 11,
   "metadata": {},
   "outputs": [
    {
     "data": {
      "text/plain": [
       "<class 'netCDF4._netCDF4.Variable'>\n",
       "float64 Precipitation(Dim_Datetime, Dim_Precipitation_Grid)\n",
       "    names: ['Whitehall_Precipitation', 'CoweetaMid_Precipitation', 'LowerJonesCreek_Precipitation', 'GrahamCounty_Precipitation', 'WineSpring_Precipitation', 'TessenteeFarm_Precipitation', 'Cullasaja_Precipitation', 'FranklinCentral_Precipitation', 'FranklinNE_Precipitation', 'FranklinNW_Precipitation', 'FranklinSE_Precipitation', 'FranklinSW_Precipitation', 'MHOpen_Precipitation']\n",
       "    time: ['2013-04-09', '2018-10-31']\n",
       "    units: mm/d\n",
       "    data_source_link: ['http://coweeta.uga.edu/dbpublic/dataset_details.asp?accession=4102 (Central, NE, NW, SE, SW)', 'http://coweeta.uga.edu/dbpublic/dataset_details.asp?accession=4104 (4104)', 'http://coweeta.uga.edu/dbpublic/dataset_details.asp?accession=4106 (4106)', 'http://coweeta.uga.edu/dbpublic/dataset_details.asp?accession=4107 (4107)', 'http://coweeta.uga.edu/dbpublic/dataset_details.asp?accession=4103 (4103)', 'http://coweeta.uga.edu/dbpublic/dataset_details.asp?accession=4038 (OpenSite)', 'http://coweeta.uga.edu/dbpublic/dataset_details.asp?accession=4105 (4105)', 'http://coweeta.uga.edu/dbpublic/dataset_details.asp?accession=4100 (4100)', 'http://coweeta.uga.edu/dbpublic/dataset_details.asp?accession=4101 (4101)']\n",
       "unlimited dimensions: \n",
       "current shape = (6823, 13)\n",
       "filling off"
      ]
     },
     "execution_count": 11,
     "metadata": {},
     "output_type": "execute_result"
    }
   ],
   "source": [
    "ncdf.variables['Precipitation']"
   ]
  },
  {
   "cell_type": "code",
   "execution_count": 12,
   "metadata": {},
   "outputs": [
    {
     "data": {
      "text/plain": [
       "6823"
      ]
     },
     "execution_count": 12,
     "metadata": {},
     "output_type": "execute_result"
    },
    {
     "data": {
      "image/png": "[encoded data removed]",
      "text/plain": [
       "<Figure size 640x480 with 1 Axes>"
      ]
     },
     "metadata": {},
     "output_type": "display_data"
    }
   ],
   "source": [
    "p = ncdf.variables['Precipitation'][:][:, 1]\n",
    "plt.plot(p)\n",
    "len(p)"
   ]
  },
  {
   "cell_type": "markdown",
   "metadata": {},
   "source": [
    "# Read PET related data"
   ]
  },
  {
   "cell_type": "code",
   "execution_count": 13,
   "metadata": {},
   "outputs": [
    {
     "data": {
      "text/plain": [
       "<class 'netCDF4._netCDF4.Variable'>\n",
       "float64 SolarRadiation(Dim_Datetime, Dim_SolarRadiation_Grid)\n",
       "    names: ['FranklinCentral_SolarRadiation', 'FranklinNE_SolarRadiation', 'FranklinNW_SolarRadiation', 'FranklinSW_SolarRadiation']\n",
       "    time: ['2014-02-17', '2018-06-03']\n",
       "    units: W/m2\n",
       "    data_source_link: http://coweeta.uga.edu/dbpublic/dataset_details.asp?accession=1039 (1039)\n",
       "unlimited dimensions: \n",
       "current shape = (6823, 4)\n",
       "filling off"
      ]
     },
     "execution_count": 13,
     "metadata": {},
     "output_type": "execute_result"
    }
   ],
   "source": [
    "ncdf.variables['SolarRadiation']"
   ]
  },
  {
   "cell_type": "code",
   "execution_count": 14,
   "metadata": {},
   "outputs": [
    {
     "data": {
      "text/plain": [
       "6823"
      ]
     },
     "execution_count": 14,
     "metadata": {},
     "output_type": "execute_result"
    }
   ],
   "source": [
    "R_s = ncdf.variables['SolarRadiation'][:][:, 0]\n",
    "len(R_s)"
   ]
  },
  {
   "cell_type": "code",
   "execution_count": 15,
   "metadata": {},
   "outputs": [
    {
     "data": {
      "text/plain": [
       "<class 'netCDF4._netCDF4.Variable'>\n",
       "float64 RelativeHumidity(Dim_Datetime, Dim_RelativeHumidity_Grid)\n",
       "    names: ['Whitehall_RelativeHumidity', 'CoweetaMid_RelativeHumidity', 'LowerJonesCreek_RelativeHumidity', 'GrahamCounty_RelativeHumidity', 'WineSpring_RelativeHumidity', 'TessenteeFarm_RelativeHumidity', 'Cullasaja_RelativeHumidity', 'FranklinCentral_RelativeHumidity', 'FranklinNE_RelativeHumidity', 'FranklinNW_RelativeHumidity', 'FranklinSE_RelativeHumidity', 'FranklinSW_RelativeHumidity', 'MHOpen_RelativeHumidity']\n",
       "    time: ['2004-11-02', '2018-10-31']\n",
       "    units: %\n",
       "    data_source_link: ['http://coweeta.uga.edu/dbpublic/dataset_details.asp?accession=4102 (Central, NE, NW, SE, SW)', 'http://coweeta.uga.edu/dbpublic/dataset_details.asp?accession=4104 (4104)', 'http://coweeta.uga.edu/dbpublic/dataset_details.asp?accession=4106 (4106)', 'http://coweeta.uga.edu/dbpublic/dataset_details.asp?accession=4107 (4107)', 'http://coweeta.uga.edu/dbpublic/dataset_details.asp?accession=4103 (4103)', 'http://coweeta.uga.edu/dbpublic/dataset_details.asp?accession=4038 (OpenSite)', 'http://coweeta.uga.edu/dbpublic/dataset_details.asp?accession=4105 (4105)', 'http://coweeta.uga.edu/dbpublic/dataset_details.asp?accession=4100 (4100)', 'http://coweeta.uga.edu/dbpublic/dataset_details.asp?accession=4101 (4101)']\n",
       "unlimited dimensions: \n",
       "current shape = (6823, 13)\n",
       "filling off"
      ]
     },
     "execution_count": 15,
     "metadata": {},
     "output_type": "execute_result"
    }
   ],
   "source": [
    "ncdf.variables['RelativeHumidity']"
   ]
  },
  {
   "cell_type": "code",
   "execution_count": 16,
   "metadata": {},
   "outputs": [],
   "source": [
    "RH = ncdf.variables['SolarRadiation'][:][:, 1]"
   ]
  },
  {
   "cell_type": "code",
   "execution_count": 17,
   "metadata": {},
   "outputs": [
    {
     "data": {
      "text/plain": [
       "<class 'netCDF4._netCDF4.Variable'>\n",
       "float64 WindSpeed(Dim_Datetime, Dim_WindSpeed_Grid)\n",
       "    names: ['Whitehall_WindSpeed', 'CoweetaMid_WindSpeed', 'LowerJonesCreek_WindSpeed', 'GrahamCounty_WindSpeed', 'WineSpring_WindSpeed', 'TessenteeFarm_WindSpeed', 'Cullasaja_WindSpeed', 'FranklinCentral_WindSpeed', 'FranklinNE_WindSpeed', 'FranklinNW_WindSpeed', 'FranklinSE_WindSpeed', 'FranklinSW_WindSpeed', 'MHOpen_WindSpeed']\n",
       "    time: ['2013-04-09', '2018-10-31']\n",
       "    units: m/s\n",
       "    data_source_link: ['http://coweeta.uga.edu/dbpublic/dataset_details.asp?accession=4102 (Central, NE, NW, SE, SW)', 'http://coweeta.uga.edu/dbpublic/dataset_details.asp?accession=4104 (4104)', 'http://coweeta.uga.edu/dbpublic/dataset_details.asp?accession=4106 (4106)', 'http://coweeta.uga.edu/dbpublic/dataset_details.asp?accession=4107 (4107)', 'http://coweeta.uga.edu/dbpublic/dataset_details.asp?accession=4103 (4103)', 'http://coweeta.uga.edu/dbpublic/dataset_details.asp?accession=4038 (OpenSite)', 'http://coweeta.uga.edu/dbpublic/dataset_details.asp?accession=4105 (4105)', 'http://coweeta.uga.edu/dbpublic/dataset_details.asp?accession=4100 (4100)', 'http://coweeta.uga.edu/dbpublic/dataset_details.asp?accession=4101 (4101)']\n",
       "unlimited dimensions: \n",
       "current shape = (6823, 13)\n",
       "filling off"
      ]
     },
     "execution_count": 17,
     "metadata": {},
     "output_type": "execute_result"
    }
   ],
   "source": [
    "ncdf.variables['WindSpeed']"
   ]
  },
  {
   "cell_type": "code",
   "execution_count": 18,
   "metadata": {},
   "outputs": [],
   "source": [
    "U_z = ncdf.variables['WindSpeed'][:][:, 1]"
   ]
  },
  {
   "cell_type": "code",
   "execution_count": 19,
   "metadata": {},
   "outputs": [
    {
     "data": {
      "text/plain": [
       "<class 'netCDF4._netCDF4.Variable'>\n",
       "float64 VaporPressure(Dim_Datetime, Dim_VaporPressure_Grid)\n",
       "    names: 1039_VaporPressure\n",
       "    time: ['2000-02-26', '2008-01-01']\n",
       "    units: kPa\n",
       "    data_source_link: http://coweeta.uga.edu/dbpublic/dataset_details.asp?accession=1039 (1039)\n",
       "unlimited dimensions: \n",
       "current shape = (6823, 1)\n",
       "filling off"
      ]
     },
     "execution_count": 19,
     "metadata": {},
     "output_type": "execute_result"
    }
   ],
   "source": [
    "ncdf.variables['VaporPressure']"
   ]
  },
  {
   "cell_type": "code",
   "execution_count": 20,
   "metadata": {},
   "outputs": [
    {
     "data": {
      "text/plain": [
       "(6823,)"
      ]
     },
     "execution_count": 20,
     "metadata": {},
     "output_type": "execute_result"
    }
   ],
   "source": [
    "e_a = ncdf.variables['VaporPressure'][:][:,0]\n",
    "e_a.shape"
   ]
  },
  {
   "cell_type": "markdown",
   "metadata": {},
   "source": [
    "# Calculate EVAP"
   ]
  },
  {
   "cell_type": "code",
   "execution_count": 21,
   "metadata": {},
   "outputs": [
    {
     "data": {
      "text/plain": [
       "masked_array(data=[101325.0, 101325.0, 101325.0, ..., 101325.0, 101325.0,\n",
       "                   101325.0],\n",
       "             mask=[False, False, False, ..., False, False, False],\n",
       "       fill_value=1e+20)"
      ]
     },
     "execution_count": 21,
     "metadata": {},
     "output_type": "execute_result"
    }
   ],
   "source": [
    "pressure = np.full_like(q, 101325) #Pa\n",
    "pressure"
   ]
  },
  {
   "cell_type": "code",
   "execution_count": 22,
   "metadata": {},
   "outputs": [
    {
     "data": {
      "text/plain": [
       "\"\\n\\nTo find the pressure at a specific elevation, you can use the barometric formula if you're considering the atmosphere to be standard. However, for a quick estimate, you can use the following empirical formula:\\n\\nP=P0×(1−L×hT0)g×MR×LP=P0\\u200b×(1−T0\\u200bL×h\\u200b)R×Lg×M\\u200b\\n\\nWhere:\\n\\n    PP is the pressure at elevation hh\\n    P0=101325\\u2009PaP0\\u200b=101325Pa is the standard pressure at sea level\\n    L=0.0065\\u2009K/mL=0.0065K/m is the standard temperature lapse rate\\n    h=782\\u2009mh=782m is the elevation\\n    T0=288.15\\u2009KT0\\u200b=288.15K is the standard temperature at sea level\\n    g=9.80665\\u2009m/s2g=9.80665m/s2 is the standard gravity\\n    M=0.0289644\\u2009kg/molM=0.0289644kg/mol is the molar mass of Earth's air\\n    R=8.31447\\u2009J/(mol K)R=8.31447J/(mol K) is the ideal gas constant\\n\\nSubstitute the known values into the equation:\\n\\nP=101325×(1−0.0065×782288.15)9.80665×0.02896448.31447×0.0065P=101325×(1−288.150.0065×782\\u200b)8.31447×0.00659.80665×0.0289644\\u200b\\n\\nCalculate the pressure PP:\\n\\nP≈101325×(1−0.0176)5.255P≈101325×(1−0.0176)5.255\\n\\nP≈101325×(0.9824)5.255P≈101325×(0.9824)5.255\\n\\nP≈101325×0.8355P≈101325×0.8355\\n\\nP≈84674.13\\u2009PaP≈84674.13Pa\\n\\nSo, the approximate pressure at an elevation of 782 meters is 84674.13\\u2009Pa84674.13Pa or 84.67\\u2009kPa84.67kPa.\\n\""
      ]
     },
     "execution_count": 22,
     "metadata": {},
     "output_type": "execute_result"
    }
   ],
   "source": [
    "pressure\n",
    "\"\"\"\n",
    "\n",
    "To find the pressure at a specific elevation, you can use the barometric formula if you're considering the atmosphere to be standard. However, for a quick estimate, you can use the following empirical formula:\n",
    "\n",
    "P=P0×(1−L×hT0)g×MR×LP=P0​×(1−T0​L×h​)R×Lg×M​\n",
    "\n",
    "Where:\n",
    "\n",
    "    PP is the pressure at elevation hh\n",
    "    P0=101325 PaP0​=101325Pa is the standard pressure at sea level\n",
    "    L=0.0065 K/mL=0.0065K/m is the standard temperature lapse rate\n",
    "    h=782 mh=782m is the elevation\n",
    "    T0=288.15 KT0​=288.15K is the standard temperature at sea level\n",
    "    g=9.80665 m/s2g=9.80665m/s2 is the standard gravity\n",
    "    M=0.0289644 kg/molM=0.0289644kg/mol is the molar mass of Earth's air\n",
    "    R=8.31447 J/(mol K)R=8.31447J/(mol K) is the ideal gas constant\n",
    "\n",
    "Substitute the known values into the equation:\n",
    "\n",
    "P=101325×(1−0.0065×782288.15)9.80665×0.02896448.31447×0.0065P=101325×(1−288.150.0065×782​)8.31447×0.00659.80665×0.0289644​\n",
    "\n",
    "Calculate the pressure PP:\n",
    "\n",
    "P≈101325×(1−0.0176)5.255P≈101325×(1−0.0176)5.255\n",
    "\n",
    "P≈101325×(0.9824)5.255P≈101325×(0.9824)5.255\n",
    "\n",
    "P≈101325×0.8355P≈101325×0.8355\n",
    "\n",
    "P≈84674.13 PaP≈84674.13Pa\n",
    "\n",
    "So, the approximate pressure at an elevation of 782 meters is 84674.13 Pa84674.13Pa or 84.67 kPa84.67kPa.\n",
    "\"\"\""
   ]
  },
  {
   "cell_type": "code",
   "execution_count": null,
   "metadata": {},
   "outputs": [],
   "source": [
    "# Pressure \n",
    "conversion_to_kilo = 0.001\n",
    "pressure_kpa = pressure * conversion_to_kilo\n",
    "\n",
    "# Radiation\n",
    "\n",
    "\n",
    "# vapor pressure \n",
    "\n",
    "# Wind speed\n",
    "\n",
    "\n",
    "# Check the period when the data is available"
   ]
  },
  {
   "cell_type": "code",
   "execution_count": 38,
   "metadata": {},
   "outputs": [
    {
     "data": {
      "text/html": [
       "<div>\n",
       "<style scoped>\n",
       "    .dataframe tbody tr th:only-of-type {\n",
       "        vertical-align: middle;\n",
       "    }\n",
       "\n",
       "    .dataframe tbody tr th {\n",
       "        vertical-align: top;\n",
       "    }\n",
       "\n",
       "    .dataframe thead th {\n",
       "        text-align: right;\n",
       "    }\n",
       "</style>\n",
       "<table border=\"1\" class=\"dataframe\">\n",
       "  <thead>\n",
       "    <tr style=\"text-align: right;\">\n",
       "      <th></th>\n",
       "      <th>P</th>\n",
       "      <th>T_mean</th>\n",
       "      <th>R_s</th>\n",
       "      <th>e_a</th>\n",
       "      <th>RH_mean</th>\n",
       "      <th>U_z</th>\n",
       "      <th>date</th>\n",
       "    </tr>\n",
       "  </thead>\n",
       "  <tbody>\n",
       "    <tr>\n",
       "      <th>2000-02-26</th>\n",
       "      <td>101325.0</td>\n",
       "      <td>NaN</td>\n",
       "      <td>NaN</td>\n",
       "      <td>1.030000</td>\n",
       "      <td>NaN</td>\n",
       "      <td>NaN</td>\n",
       "      <td>2000-02-26</td>\n",
       "    </tr>\n",
       "    <tr>\n",
       "      <th>2000-02-27</th>\n",
       "      <td>101325.0</td>\n",
       "      <td>NaN</td>\n",
       "      <td>NaN</td>\n",
       "      <td>1.180417</td>\n",
       "      <td>NaN</td>\n",
       "      <td>NaN</td>\n",
       "      <td>2000-02-27</td>\n",
       "    </tr>\n",
       "    <tr>\n",
       "      <th>2000-02-28</th>\n",
       "      <td>101325.0</td>\n",
       "      <td>NaN</td>\n",
       "      <td>NaN</td>\n",
       "      <td>0.607083</td>\n",
       "      <td>NaN</td>\n",
       "      <td>NaN</td>\n",
       "      <td>2000-02-28</td>\n",
       "    </tr>\n",
       "    <tr>\n",
       "      <th>2000-02-29</th>\n",
       "      <td>101325.0</td>\n",
       "      <td>NaN</td>\n",
       "      <td>NaN</td>\n",
       "      <td>0.546667</td>\n",
       "      <td>NaN</td>\n",
       "      <td>NaN</td>\n",
       "      <td>2000-02-29</td>\n",
       "    </tr>\n",
       "    <tr>\n",
       "      <th>2000-03-01</th>\n",
       "      <td>101325.0</td>\n",
       "      <td>NaN</td>\n",
       "      <td>NaN</td>\n",
       "      <td>0.813750</td>\n",
       "      <td>NaN</td>\n",
       "      <td>NaN</td>\n",
       "      <td>2000-03-01</td>\n",
       "    </tr>\n",
       "  </tbody>\n",
       "</table>\n",
       "</div>"
      ],
      "text/plain": [
       "                   P  T_mean  R_s       e_a  RH_mean  U_z       date\n",
       "2000-02-26  101325.0     NaN  NaN  1.030000      NaN  NaN 2000-02-26\n",
       "2000-02-27  101325.0     NaN  NaN  1.180417      NaN  NaN 2000-02-27\n",
       "2000-02-28  101325.0     NaN  NaN  0.607083      NaN  NaN 2000-02-28\n",
       "2000-02-29  101325.0     NaN  NaN  0.546667      NaN  NaN 2000-02-29\n",
       "2000-03-01  101325.0     NaN  NaN  0.813750      NaN  NaN 2000-03-01"
      ]
     },
     "execution_count": 38,
     "metadata": {},
     "output_type": "execute_result"
    }
   ],
   "source": [
    "# Need df[[\"date\", \"R_s\", \"P\", \"T_mean\", \"e_a\", \"RH_mean\", \"U_z\"]]\n",
    "forcings = np.vstack([pressure, temp, R_s, e_a, RH, U_z]).transpose()\n",
    "forcings_df = pd.DataFrame(forcings, index=time_index, columns=[\"P\", \"T_mean\", \"R_s\", \"e_a\", \"RH_mean\", \"U_z\"])\n",
    "forcings_df[\"date\"] = pd.to_datetime(forcings_df.index)\n",
    "forcings_df.head()"
   ]
  },
  {
   "cell_type": "code",
   "execution_count": 29,
   "metadata": {},
   "outputs": [
    {
     "data": {
      "text/plain": [
       "'g:\\\\Shared drives\\\\Ryoko and Hilary\\\\SMSigxModel\\\\analysis\\\\0_data_preprocessing\\\\script'"
      ]
     },
     "execution_count": 29,
     "metadata": {},
     "output_type": "execute_result"
    }
   ],
   "source": [
    "os.getcwd()"
   ]
  },
  {
   "cell_type": "code",
   "execution_count": 40,
   "metadata": {},
   "outputs": [
    {
     "data": {
      "text/html": [
       "<div>\n",
       "<style scoped>\n",
       "    .dataframe tbody tr th:only-of-type {\n",
       "        vertical-align: middle;\n",
       "    }\n",
       "\n",
       "    .dataframe tbody tr th {\n",
       "        vertical-align: top;\n",
       "    }\n",
       "\n",
       "    .dataframe thead th {\n",
       "        text-align: right;\n",
       "    }\n",
       "</style>\n",
       "<table border=\"1\" class=\"dataframe\">\n",
       "  <thead>\n",
       "    <tr style=\"text-align: right;\">\n",
       "      <th></th>\n",
       "      <th>P</th>\n",
       "      <th>T_mean</th>\n",
       "      <th>R_s</th>\n",
       "      <th>e_a</th>\n",
       "      <th>RH_mean</th>\n",
       "      <th>U_z</th>\n",
       "      <th>date</th>\n",
       "    </tr>\n",
       "    <tr>\n",
       "      <th>time</th>\n",
       "      <th></th>\n",
       "      <th></th>\n",
       "      <th></th>\n",
       "      <th></th>\n",
       "      <th></th>\n",
       "      <th></th>\n",
       "      <th></th>\n",
       "    </tr>\n",
       "  </thead>\n",
       "  <tbody>\n",
       "    <tr>\n",
       "      <th>2000-02-26</th>\n",
       "      <td>101325.0</td>\n",
       "      <td>NaN</td>\n",
       "      <td>NaN</td>\n",
       "      <td>1.030000</td>\n",
       "      <td>NaN</td>\n",
       "      <td>NaN</td>\n",
       "      <td>2000-02-26</td>\n",
       "    </tr>\n",
       "    <tr>\n",
       "      <th>2000-02-27</th>\n",
       "      <td>101325.0</td>\n",
       "      <td>NaN</td>\n",
       "      <td>NaN</td>\n",
       "      <td>1.180417</td>\n",
       "      <td>NaN</td>\n",
       "      <td>NaN</td>\n",
       "      <td>2000-02-27</td>\n",
       "    </tr>\n",
       "    <tr>\n",
       "      <th>2000-02-28</th>\n",
       "      <td>101325.0</td>\n",
       "      <td>NaN</td>\n",
       "      <td>NaN</td>\n",
       "      <td>0.607083</td>\n",
       "      <td>NaN</td>\n",
       "      <td>NaN</td>\n",
       "      <td>2000-02-28</td>\n",
       "    </tr>\n",
       "    <tr>\n",
       "      <th>2000-02-29</th>\n",
       "      <td>101325.0</td>\n",
       "      <td>NaN</td>\n",
       "      <td>NaN</td>\n",
       "      <td>0.546667</td>\n",
       "      <td>NaN</td>\n",
       "      <td>NaN</td>\n",
       "      <td>2000-02-29</td>\n",
       "    </tr>\n",
       "    <tr>\n",
       "      <th>2000-03-01</th>\n",
       "      <td>101325.0</td>\n",
       "      <td>NaN</td>\n",
       "      <td>NaN</td>\n",
       "      <td>0.813750</td>\n",
       "      <td>NaN</td>\n",
       "      <td>NaN</td>\n",
       "      <td>2000-03-01</td>\n",
       "    </tr>\n",
       "    <tr>\n",
       "      <th>...</th>\n",
       "      <td>...</td>\n",
       "      <td>...</td>\n",
       "      <td>...</td>\n",
       "      <td>...</td>\n",
       "      <td>...</td>\n",
       "      <td>...</td>\n",
       "      <td>...</td>\n",
       "    </tr>\n",
       "    <tr>\n",
       "      <th>2018-10-27</th>\n",
       "      <td>101325.0</td>\n",
       "      <td>7.288800</td>\n",
       "      <td>NaN</td>\n",
       "      <td>NaN</td>\n",
       "      <td>NaN</td>\n",
       "      <td>1.218800</td>\n",
       "      <td>2018-10-27</td>\n",
       "    </tr>\n",
       "    <tr>\n",
       "      <th>2018-10-28</th>\n",
       "      <td>101325.0</td>\n",
       "      <td>10.417500</td>\n",
       "      <td>NaN</td>\n",
       "      <td>NaN</td>\n",
       "      <td>NaN</td>\n",
       "      <td>1.424583</td>\n",
       "      <td>2018-10-28</td>\n",
       "    </tr>\n",
       "    <tr>\n",
       "      <th>2018-10-29</th>\n",
       "      <td>101325.0</td>\n",
       "      <td>10.147917</td>\n",
       "      <td>NaN</td>\n",
       "      <td>NaN</td>\n",
       "      <td>NaN</td>\n",
       "      <td>1.217500</td>\n",
       "      <td>2018-10-29</td>\n",
       "    </tr>\n",
       "    <tr>\n",
       "      <th>2018-10-30</th>\n",
       "      <td>101325.0</td>\n",
       "      <td>10.145833</td>\n",
       "      <td>NaN</td>\n",
       "      <td>NaN</td>\n",
       "      <td>NaN</td>\n",
       "      <td>0.786250</td>\n",
       "      <td>2018-10-30</td>\n",
       "    </tr>\n",
       "    <tr>\n",
       "      <th>2018-10-31</th>\n",
       "      <td>101325.0</td>\n",
       "      <td>13.437917</td>\n",
       "      <td>NaN</td>\n",
       "      <td>NaN</td>\n",
       "      <td>NaN</td>\n",
       "      <td>1.001667</td>\n",
       "      <td>2018-10-31</td>\n",
       "    </tr>\n",
       "  </tbody>\n",
       "</table>\n",
       "<p>6823 rows × 7 columns</p>\n",
       "</div>"
      ],
      "text/plain": [
       "                   P     T_mean  R_s       e_a  RH_mean       U_z       date\n",
       "time                                                                        \n",
       "2000-02-26  101325.0        NaN  NaN  1.030000      NaN       NaN 2000-02-26\n",
       "2000-02-27  101325.0        NaN  NaN  1.180417      NaN       NaN 2000-02-27\n",
       "2000-02-28  101325.0        NaN  NaN  0.607083      NaN       NaN 2000-02-28\n",
       "2000-02-29  101325.0        NaN  NaN  0.546667      NaN       NaN 2000-02-29\n",
       "2000-03-01  101325.0        NaN  NaN  0.813750      NaN       NaN 2000-03-01\n",
       "...              ...        ...  ...       ...      ...       ...        ...\n",
       "2018-10-27  101325.0   7.288800  NaN       NaN      NaN  1.218800 2018-10-27\n",
       "2018-10-28  101325.0  10.417500  NaN       NaN      NaN  1.424583 2018-10-28\n",
       "2018-10-29  101325.0  10.147917  NaN       NaN      NaN  1.217500 2018-10-29\n",
       "2018-10-30  101325.0  10.145833  NaN       NaN      NaN  0.786250 2018-10-30\n",
       "2018-10-31  101325.0  13.437917  NaN       NaN      NaN  1.001667 2018-10-31\n",
       "\n",
       "[6823 rows x 7 columns]"
      ]
     },
     "execution_count": 40,
     "metadata": {},
     "output_type": "execute_result"
    }
   ],
   "source": [
    "import sys\n",
    "sys.path.append(r'G:\\Shared drives\\Ryoko and Hilary\\SMSigxModel\\analysis\\libs\\cfe_py')\n",
    "from fao_pet import FAO_PET\n",
    "fao_pet = FAO_PET(lat=35.05, lon=-83.43, elevation=726,forcing=forcings_df)\n",
    "fao_pet.input_forcing\n",
    "# pet = fao_pet.calc_PET()\n",
    "# Convert to mm/day\n",
    "# plt.plot(pet)"
   ]
  },
  {
   "cell_type": "markdown",
   "metadata": {},
   "source": [
    "# Concat all the data"
   ]
  },
  {
   "cell_type": "code",
   "execution_count": 31,
   "metadata": {},
   "outputs": [
    {
     "data": {
      "text/html": [
       "<div>\n",
       "<style scoped>\n",
       "    .dataframe tbody tr th:only-of-type {\n",
       "        vertical-align: middle;\n",
       "    }\n",
       "\n",
       "    .dataframe tbody tr th {\n",
       "        vertical-align: top;\n",
       "    }\n",
       "\n",
       "    .dataframe thead th {\n",
       "        text-align: right;\n",
       "    }\n",
       "</style>\n",
       "<table border=\"1\" class=\"dataframe\">\n",
       "  <thead>\n",
       "    <tr style=\"text-align: right;\">\n",
       "      <th></th>\n",
       "      <th>P[mm/d]</th>\n",
       "      <th>TAIR</th>\n",
       "      <th>Q[mm/d]</th>\n",
       "    </tr>\n",
       "  </thead>\n",
       "  <tbody>\n",
       "    <tr>\n",
       "      <th>2000-02-26</th>\n",
       "      <td>NaN</td>\n",
       "      <td>NaN</td>\n",
       "      <td>1.652116</td>\n",
       "    </tr>\n",
       "    <tr>\n",
       "      <th>2000-02-27</th>\n",
       "      <td>NaN</td>\n",
       "      <td>NaN</td>\n",
       "      <td>1.907801</td>\n",
       "    </tr>\n",
       "    <tr>\n",
       "      <th>2000-02-28</th>\n",
       "      <td>NaN</td>\n",
       "      <td>NaN</td>\n",
       "      <td>1.711120</td>\n",
       "    </tr>\n",
       "    <tr>\n",
       "      <th>2000-02-29</th>\n",
       "      <td>NaN</td>\n",
       "      <td>NaN</td>\n",
       "      <td>1.652116</td>\n",
       "    </tr>\n",
       "    <tr>\n",
       "      <th>2000-03-01</th>\n",
       "      <td>NaN</td>\n",
       "      <td>NaN</td>\n",
       "      <td>1.593112</td>\n",
       "    </tr>\n",
       "  </tbody>\n",
       "</table>\n",
       "</div>"
      ],
      "text/plain": [
       "            P[mm/d]  TAIR   Q[mm/d]\n",
       "2000-02-26      NaN   NaN  1.652116\n",
       "2000-02-27      NaN   NaN  1.907801\n",
       "2000-02-28      NaN   NaN  1.711120\n",
       "2000-02-29      NaN   NaN  1.652116\n",
       "2000-03-01      NaN   NaN  1.593112"
      ]
     },
     "execution_count": 31,
     "metadata": {},
     "output_type": "execute_result"
    }
   ],
   "source": [
    "ptq = np.vstack([p, temp, q]).transpose()\n",
    "ptq_df = pd.DataFrame(ptq, index=time_index, columns=[\"P[mm/d]\", \"TAIR\", \"Q[mm/d]\"])\n",
    "ptq_df.head()"
   ]
  },
  {
   "cell_type": "markdown",
   "metadata": {},
   "source": [
    "# Get TAIR monthly"
   ]
  },
  {
   "cell_type": "code",
   "execution_count": 32,
   "metadata": {},
   "outputs": [
    {
     "data": {
      "text/plain": [
       "DayOfYear\n",
       "01-01     1.222083\n",
       "01-02     2.847500\n",
       "01-03     4.953021\n",
       "01-04     1.307917\n",
       "01-05    -1.955937\n",
       "           ...    \n",
       "12-27    10.164792\n",
       "12-28     8.703437\n",
       "12-29     7.972188\n",
       "12-30     5.075625\n",
       "12-31     2.388021\n",
       "Name: TAIR, Length: 366, dtype: float64"
      ]
     },
     "execution_count": 32,
     "metadata": {},
     "output_type": "execute_result"
    }
   ],
   "source": [
    "ptq_df['DayOfYear'] = ptq_df.index.strftime('%m-%d')\n",
    "TAIR_average_daily_values = ptq_df.groupby('DayOfYear')['TAIR'].mean()\n",
    "TAIR_average_daily_values"
   ]
  },
  {
   "cell_type": "markdown",
   "metadata": {},
   "source": [
    "# Save all the data"
   ]
  },
  {
   "cell_type": "code",
   "execution_count": 33,
   "metadata": {},
   "outputs": [],
   "source": [
    "output_dir = r\"C:\\Program Files (x86)\\HBV-light\\Data\\Coweeta\\Data\""
   ]
  },
  {
   "cell_type": "code",
   "execution_count": 34,
   "metadata": {},
   "outputs": [
    {
     "data": {
      "text/html": [
       "<div>\n",
       "<style scoped>\n",
       "    .dataframe tbody tr th:only-of-type {\n",
       "        vertical-align: middle;\n",
       "    }\n",
       "\n",
       "    .dataframe tbody tr th {\n",
       "        vertical-align: top;\n",
       "    }\n",
       "\n",
       "    .dataframe thead th {\n",
       "        text-align: right;\n",
       "    }\n",
       "</style>\n",
       "<table border=\"1\" class=\"dataframe\">\n",
       "  <thead>\n",
       "    <tr style=\"text-align: right;\">\n",
       "      <th></th>\n",
       "      <th>P[mm/d]</th>\n",
       "      <th>TAIR</th>\n",
       "      <th>Q[mm/d]</th>\n",
       "      <th>DayOfYear</th>\n",
       "      <th>Date</th>\n",
       "    </tr>\n",
       "  </thead>\n",
       "  <tbody>\n",
       "    <tr>\n",
       "      <th>2000-02-26</th>\n",
       "      <td>NaN</td>\n",
       "      <td>NaN</td>\n",
       "      <td>1.652116</td>\n",
       "      <td>02-26</td>\n",
       "      <td>20000226</td>\n",
       "    </tr>\n",
       "    <tr>\n",
       "      <th>2000-02-27</th>\n",
       "      <td>NaN</td>\n",
       "      <td>NaN</td>\n",
       "      <td>1.907801</td>\n",
       "      <td>02-27</td>\n",
       "      <td>20000227</td>\n",
       "    </tr>\n",
       "    <tr>\n",
       "      <th>2000-02-28</th>\n",
       "      <td>NaN</td>\n",
       "      <td>NaN</td>\n",
       "      <td>1.711120</td>\n",
       "      <td>02-28</td>\n",
       "      <td>20000228</td>\n",
       "    </tr>\n",
       "    <tr>\n",
       "      <th>2000-02-29</th>\n",
       "      <td>NaN</td>\n",
       "      <td>NaN</td>\n",
       "      <td>1.652116</td>\n",
       "      <td>02-29</td>\n",
       "      <td>20000229</td>\n",
       "    </tr>\n",
       "    <tr>\n",
       "      <th>2000-03-01</th>\n",
       "      <td>NaN</td>\n",
       "      <td>NaN</td>\n",
       "      <td>1.593112</td>\n",
       "      <td>03-01</td>\n",
       "      <td>20000301</td>\n",
       "    </tr>\n",
       "  </tbody>\n",
       "</table>\n",
       "</div>"
      ],
      "text/plain": [
       "            P[mm/d]  TAIR   Q[mm/d] DayOfYear      Date\n",
       "2000-02-26      NaN   NaN  1.652116     02-26  20000226\n",
       "2000-02-27      NaN   NaN  1.907801     02-27  20000227\n",
       "2000-02-28      NaN   NaN  1.711120     02-28  20000228\n",
       "2000-02-29      NaN   NaN  1.652116     02-29  20000229\n",
       "2000-03-01      NaN   NaN  1.593112     03-01  20000301"
      ]
     },
     "execution_count": 34,
     "metadata": {},
     "output_type": "execute_result"
    }
   ],
   "source": [
    "ptq_df['Date'] = ptq_df.index.strftime('%Y%m%d')\n",
    "ptq_df['Date'] = ptq_df['Date'].str.replace(\"-\", \"\")\n",
    "ptq_df.head()"
   ]
  },
  {
   "cell_type": "code",
   "execution_count": 35,
   "metadata": {},
   "outputs": [],
   "source": [
    "file_path = os.path.join(output_dir, \"ptq.txt\")\n",
    "\n",
    "with open(file_path, 'w') as file:\n",
    "    # Write the header line as \"Little Washita\"\n",
    "    file.write(\"Coweeta daily\\n\")\n",
    "    # Save the DataFrame as tab-delimited data, excluding the index\n",
    "ptq_df[[\"Date\", \"P[mm/d]\", \"TAIR\", \"Q[mm/d]\"]].to_csv(file_path, index=None, sep='\\t', mode='a')"
   ]
  },
  {
   "cell_type": "code",
   "execution_count": null,
   "metadata": {},
   "outputs": [],
   "source": [
    "file_path = os.path.join(output_dir, \"EVAP.txt\")\n",
    "with open(file_path, 'w') as file:\n",
    "    # Write the header line as \"Little Washita\"\n",
    "    file.write(\"EVAP\\n\")\n",
    "    # Save the DataFrame as tab-delimited data, excluding the index\n",
    "pet.to_csv(os.path.join(output_dir, \"EVAP.txt\"), header=None, index=None, mode='a')"
   ]
  },
  {
   "cell_type": "code",
   "execution_count": 36,
   "metadata": {},
   "outputs": [],
   "source": [
    "TAIR_average_daily_values.to_csv(os.path.join(output_dir, \"t_mean.txt\"), index=None, header=None)\n",
    "# output_path_daily =  r\"C:\\Program Files (x86)\\HBV-light\\Data\\LittleWashita_daily\\data\"\n",
    "# average_daily_values.to_csv(os.path.join(output_path_daily, \"t_mean.txt\"), index=None, header=None)"
   ]
  }
 ],
 "metadata": {
  "kernelspec": {
   "display_name": "Python 3",
   "language": "python",
   "name": "python3"
  },
  "language_info": {
   "codemirror_mode": {
    "name": "ipython",
    "version": 3
   },
   "file_extension": ".py",
   "mimetype": "text/x-python",
   "name": "python",
   "nbconvert_exporter": "python",
   "pygments_lexer": "ipython3",
   "version": "3.8.13"
  }
 },
 "nbformat": 4,
 "nbformat_minor": 2
}
