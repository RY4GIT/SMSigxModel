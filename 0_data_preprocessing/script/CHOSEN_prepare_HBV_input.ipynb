{
 "cells": [
  {
   "cell_type": "code",
   "execution_count": 26,
   "metadata": {},
   "outputs": [],
   "source": [
    "# This notebook is a tutorial about how to extract data and metadata from NetCDF files"
   ]
  },
  {
   "cell_type": "code",
   "execution_count": 27,
   "metadata": {},
   "outputs": [
    {
     "data": {
      "text/plain": [
       "'g:\\\\Shared drives\\\\Ryoko and Hilary\\\\SMSigxModel\\\\analysis\\\\0_data_preprocessing\\\\script'"
      ]
     },
     "execution_count": 27,
     "metadata": {},
     "output_type": "execute_result"
    }
   ],
   "source": [
    "import pandas as pd\n",
    "import numpy as np\n",
    "import matplotlib.pyplot as plt\n",
    "import os\n",
    "import netCDF4 as nc4            # to work with netCDFs\n",
    "os.getcwd()"
   ]
  },
  {
   "cell_type": "markdown",
   "metadata": {},
   "source": [
    "## Print out NetCDF file"
   ]
  },
  {
   "cell_type": "code",
   "execution_count": 28,
   "metadata": {},
   "outputs": [],
   "source": [
    "ws='Coweeta'\n",
    "data_dir  = r\"g:\\Shared drives\\Ryoko and Hilary\\SMSigxModel\\analysis\\0_data_preprocessing\\raw_data\\CHOSEN\" #os.getcwd()\n",
    "ncdf = nc4.Dataset(os.path.join(data_dir, f\"{ws}_NetCDF.nc\"), 'r')"
   ]
  },
  {
   "cell_type": "code",
   "execution_count": 54,
   "metadata": {},
   "outputs": [
    {
     "name": "stdout",
     "output_type": "stream",
     "text": [
      "<class 'netCDF4._netCDF4.Variable'>\n",
      "float64 Datetime(Dim_Datetime)\n",
      "    range: ['2000-02-26', '2018-10-31']\n",
      "unlimited dimensions: \n",
      "current shape = (6823,)\n",
      "filling off\n",
      "<class 'netCDF4._netCDF4.Variable'>\n",
      "vlen Grid(Dim_Grid)\n",
      "    Latitude: ['39.15', '', '33.89655', '35.04826', '35.11535', '35.32116', '35.18539', '35.067189', '35.0734', '35.181048', '35.24270', '35.22737', '35.16331', '35.14298', '35.824828', '', '35.069427', '35.054105', '35.069255', '', '35.051459', '35.06131400', '35.067855', '35.056714', '35.068576', '35.0506480', '35.0593010', '35.065818', '35.058029', '35.065977', '35.0493880', '35.0578120', '', '35.667943', '35.667198', '35.666348']\n",
      "    Longitude: ['-83.37972', '', '-83.362289', '-83.45428', '-83.46619', '-83.79736', '-83.62215', '-83.384413', '-83.16843', '-83.385019', '-83.33727', '-83.45130', '-83.36320', '-83.48930', '-82.555420', '', '-83.437335', '-83.423798', '-83.440717', '', '-83.462251', '-83.47058383', '-83.436667', '-83.426877', '-83.440269', '-83.46062913', '-83.46841318', '-83.436933', '-83.4275003', '-83.441075', '-83.45858537', '-83.46822547', '', '-82.4056687', '-82.4058641', '-82.4057712']\n",
      "    Elevation_m: ['', '', '', '', '', '', '', '', '', '', '', '', '', '', '', '', '', '', '', '', '', '', '', '', '', '', '', '', '', '', '', '', '', '', '', '']\n",
      "    Area_km2: ['363', '', '', '', '', '', '', '', '', '', '', '', '', '', '', '', '', '', '', '', '', '', '', '', '', '', '', '', '', '', '', '', '', '', '', '']\n",
      "vlen data type: <class 'str'>\n",
      "unlimited dimensions: \n",
      "current shape = (36,)\n",
      "<class 'netCDF4._netCDF4.Variable'>\n",
      "float64 Discharge(Dim_Datetime, Dim_Discharge_Grid)\n",
      "    names: ['Prentiss_Discharge', 'Coweeta_Discharge']\n",
      "    time: ['2000-02-26', '2018-10-31']\n",
      "    units: L/s\n",
      "    data_source_link: http://coweeta.uga.edu/dbpublic/dataset_details.asp?accession=3033\n",
      "unlimited dimensions: \n",
      "current shape = (6823, 2)\n",
      "filling off\n",
      "<class 'netCDF4._netCDF4.Variable'>\n",
      "float64 Precipitation(Dim_Datetime, Dim_Precipitation_Grid)\n",
      "    names: ['Whitehall_Precipitation', 'CoweetaMid_Precipitation', 'LowerJonesCreek_Precipitation', 'GrahamCounty_Precipitation', 'WineSpring_Precipitation', 'TessenteeFarm_Precipitation', 'Cullasaja_Precipitation', 'FranklinCentral_Precipitation', 'FranklinNE_Precipitation', 'FranklinNW_Precipitation', 'FranklinSE_Precipitation', 'FranklinSW_Precipitation', 'MHOpen_Precipitation']\n",
      "    time: ['2013-04-09', '2018-10-31']\n",
      "    units: mm/d\n",
      "    data_source_link: ['http://coweeta.uga.edu/dbpublic/dataset_details.asp?accession=4102 (Central, NE, NW, SE, SW)', 'http://coweeta.uga.edu/dbpublic/dataset_details.asp?accession=4104 (4104)', 'http://coweeta.uga.edu/dbpublic/dataset_details.asp?accession=4106 (4106)', 'http://coweeta.uga.edu/dbpublic/dataset_details.asp?accession=4107 (4107)', 'http://coweeta.uga.edu/dbpublic/dataset_details.asp?accession=4103 (4103)', 'http://coweeta.uga.edu/dbpublic/dataset_details.asp?accession=4038 (OpenSite)', 'http://coweeta.uga.edu/dbpublic/dataset_details.asp?accession=4105 (4105)', 'http://coweeta.uga.edu/dbpublic/dataset_details.asp?accession=4100 (4100)', 'http://coweeta.uga.edu/dbpublic/dataset_details.asp?accession=4101 (4101)']\n",
      "unlimited dimensions: \n",
      "current shape = (6823, 13)\n",
      "filling off\n",
      "<class 'netCDF4._netCDF4.Variable'>\n",
      "float64 AirTemperature(Dim_Datetime, Dim_AirTemperature_Grid)\n",
      "    names: ['Whitehall_AirTemperature', 'CoweetaMid_AirTemperature', 'LowerJonesCreek_AirTemperature', 'GrahamCounty_AirTemperature', 'WineSpring_AirTemperature', 'TessenteeFarm_AirTemperature', 'Cullasaja_AirTemperature', 'FranklinCentral_AirTemperature', 'FranklinNE_AirTemperature', 'FranklinNW_AirTemperature', 'FranklinSE_AirTemperature', 'FranklinSW_AirTemperature', 'MHOpen_AirTemperature']\n",
      "    time: ['2004-11-02', '2018-10-31']\n",
      "    units: Degree celsius\n",
      "    data_source_link: ['http://coweeta.uga.edu/dbpublic/dataset_details.asp?accession=4102 (Central, NE, NW, SE, SW)', 'http://coweeta.uga.edu/dbpublic/dataset_details.asp?accession=4104 (4104)', 'http://coweeta.uga.edu/dbpublic/dataset_details.asp?accession=4106 (4106)', 'http://coweeta.uga.edu/dbpublic/dataset_details.asp?accession=4107 (4107)', 'http://coweeta.uga.edu/dbpublic/dataset_details.asp?accession=4103 (4103)', 'http://coweeta.uga.edu/dbpublic/dataset_details.asp?accession=4038 (OpenSite)', 'http://coweeta.uga.edu/dbpublic/dataset_details.asp?accession=4105 (4105)', 'http://coweeta.uga.edu/dbpublic/dataset_details.asp?accession=4100 (4100)', 'http://coweeta.uga.edu/dbpublic/dataset_details.asp?accession=4101 (4101)']\n",
      "unlimited dimensions: \n",
      "current shape = (6823, 13)\n",
      "filling off\n",
      "<class 'netCDF4._netCDF4.Variable'>\n",
      "float64 SolarRadiation(Dim_Datetime, Dim_SolarRadiation_Grid)\n",
      "    names: ['FranklinCentral_SolarRadiation', 'FranklinNE_SolarRadiation', 'FranklinNW_SolarRadiation', 'FranklinSW_SolarRadiation']\n",
      "    time: ['2014-02-17', '2018-06-03']\n",
      "    units: W/m2\n",
      "    data_source_link: http://coweeta.uga.edu/dbpublic/dataset_details.asp?accession=1039 (1039)\n",
      "unlimited dimensions: \n",
      "current shape = (6823, 4)\n",
      "filling off\n",
      "<class 'netCDF4._netCDF4.Variable'>\n",
      "float64 RelativeHumidity(Dim_Datetime, Dim_RelativeHumidity_Grid)\n",
      "    names: ['Whitehall_RelativeHumidity', 'CoweetaMid_RelativeHumidity', 'LowerJonesCreek_RelativeHumidity', 'GrahamCounty_RelativeHumidity', 'WineSpring_RelativeHumidity', 'TessenteeFarm_RelativeHumidity', 'Cullasaja_RelativeHumidity', 'FranklinCentral_RelativeHumidity', 'FranklinNE_RelativeHumidity', 'FranklinNW_RelativeHumidity', 'FranklinSE_RelativeHumidity', 'FranklinSW_RelativeHumidity', 'MHOpen_RelativeHumidity']\n",
      "    time: ['2004-11-02', '2018-10-31']\n",
      "    units: %\n",
      "    data_source_link: ['http://coweeta.uga.edu/dbpublic/dataset_details.asp?accession=4102 (Central, NE, NW, SE, SW)', 'http://coweeta.uga.edu/dbpublic/dataset_details.asp?accession=4104 (4104)', 'http://coweeta.uga.edu/dbpublic/dataset_details.asp?accession=4106 (4106)', 'http://coweeta.uga.edu/dbpublic/dataset_details.asp?accession=4107 (4107)', 'http://coweeta.uga.edu/dbpublic/dataset_details.asp?accession=4103 (4103)', 'http://coweeta.uga.edu/dbpublic/dataset_details.asp?accession=4038 (OpenSite)', 'http://coweeta.uga.edu/dbpublic/dataset_details.asp?accession=4105 (4105)', 'http://coweeta.uga.edu/dbpublic/dataset_details.asp?accession=4100 (4100)', 'http://coweeta.uga.edu/dbpublic/dataset_details.asp?accession=4101 (4101)']\n",
      "unlimited dimensions: \n",
      "current shape = (6823, 13)\n",
      "filling off\n",
      "<class 'netCDF4._netCDF4.Variable'>\n",
      "float64 WindDirection(Dim_Datetime, Dim_WindDirection_Grid)\n",
      "    names: ['CoweetaMid_WindDirection', 'LowerJonesCreek_WindDirection', 'GrahamCounty_WindDirection', 'WineSpring_WindDirection', 'TessenteeFarm_WindDirection', 'Cullasaja_WindDirection', 'FranklinCentral_WindDirection', 'FranklinNE_WindDirection', 'FranklinNW_WindDirection', 'FranklinSE_WindDirection', 'FranklinSW_WindDirection', 'MHOpen_WindDirection']\n",
      "    time: ['2013-04-09', '2018-10-31']\n",
      "    units: Degree\n",
      "    data_source_link: ['http://coweeta.uga.edu/dbpublic/dataset_details.asp?accession=4102 (Central, NE, NW, SE, SW)', 'http://coweeta.uga.edu/dbpublic/dataset_details.asp?accession=4104 (4104)', 'http://coweeta.uga.edu/dbpublic/dataset_details.asp?accession=4106 (4106)', 'http://coweeta.uga.edu/dbpublic/dataset_details.asp?accession=4107 (4107)', 'http://coweeta.uga.edu/dbpublic/dataset_details.asp?accession=4103 (4103)', 'http://coweeta.uga.edu/dbpublic/dataset_details.asp?accession=4038 (OpenSite)', 'http://coweeta.uga.edu/dbpublic/dataset_details.asp?accession=4105 (4105)', 'http://coweeta.uga.edu/dbpublic/dataset_details.asp?accession=4101 (4101)']\n",
      "unlimited dimensions: \n",
      "current shape = (6823, 12)\n",
      "filling off\n",
      "<class 'netCDF4._netCDF4.Variable'>\n",
      "float64 WindSpeed(Dim_Datetime, Dim_WindSpeed_Grid)\n",
      "    names: ['Whitehall_WindSpeed', 'CoweetaMid_WindSpeed', 'LowerJonesCreek_WindSpeed', 'GrahamCounty_WindSpeed', 'WineSpring_WindSpeed', 'TessenteeFarm_WindSpeed', 'Cullasaja_WindSpeed', 'FranklinCentral_WindSpeed', 'FranklinNE_WindSpeed', 'FranklinNW_WindSpeed', 'FranklinSE_WindSpeed', 'FranklinSW_WindSpeed', 'MHOpen_WindSpeed']\n",
      "    time: ['2013-04-09', '2018-10-31']\n",
      "    units: m/s\n",
      "    data_source_link: ['http://coweeta.uga.edu/dbpublic/dataset_details.asp?accession=4102 (Central, NE, NW, SE, SW)', 'http://coweeta.uga.edu/dbpublic/dataset_details.asp?accession=4104 (4104)', 'http://coweeta.uga.edu/dbpublic/dataset_details.asp?accession=4106 (4106)', 'http://coweeta.uga.edu/dbpublic/dataset_details.asp?accession=4107 (4107)', 'http://coweeta.uga.edu/dbpublic/dataset_details.asp?accession=4103 (4103)', 'http://coweeta.uga.edu/dbpublic/dataset_details.asp?accession=4038 (OpenSite)', 'http://coweeta.uga.edu/dbpublic/dataset_details.asp?accession=4105 (4105)', 'http://coweeta.uga.edu/dbpublic/dataset_details.asp?accession=4100 (4100)', 'http://coweeta.uga.edu/dbpublic/dataset_details.asp?accession=4101 (4101)']\n",
      "unlimited dimensions: \n",
      "current shape = (6823, 13)\n",
      "filling off\n",
      "<class 'netCDF4._netCDF4.Variable'>\n",
      "float64 VaporPressure(Dim_Datetime, Dim_VaporPressure_Grid)\n",
      "    names: 1039_VaporPressure\n",
      "    time: ['2000-02-26', '2008-01-01']\n",
      "    units: kPa\n",
      "    data_source_link: http://coweeta.uga.edu/dbpublic/dataset_details.asp?accession=1039 (1039)\n",
      "unlimited dimensions: \n",
      "current shape = (6823, 1)\n",
      "filling off\n",
      "<class 'netCDF4._netCDF4.Variable'>\n",
      "float64 SoilMoisture(Dim_Datetime, Dim_SoilMoisture_Grid)\n",
      "    names: ['CWT102_SoilMoisture_30cmA', 'CWT102_SoilMoisture_30cmB', 'CWT102_SoilMoisture_60cmA', 'CWT102_SoilMoisture_60cmB', 'CWT105_SoilMoisture_30cmA', 'CWT105_SoilMoisture_30cmB', 'CWT105_SoilMoisture_60cmA', 'CWT105_SoilMoisture_60cmB', 'CWT107_SoilMoisture_30cmA', 'CWT107_SoilMoisture_30cmB', 'CWT107_SoilMoisture_60cmA', 'CWT107_SoilMoisture_60cmB', 'CWT227_SoilMoisture_30cmA', 'CWT227_SoilMoisture_30cmB', 'CWT227_SoilMoisture_60cmA', 'CWT227_SoilMoisture_60cmB', 'CWT132_SoilMoisture_30cmA', 'CWT132_SoilMoisture_30cmB', 'CWT132_SoilMoisture_60cmA', 'CWT132_SoilMoisture_60cmB', 'CWT136_SoilMoisture_30cmA', 'CWT136_SoilMoisture_30cmB', 'CWT136_SoilMoisture_60cmA', 'CWT136_SoilMoisture_60cmB', 'CWT202_SoilMoisture_30cmA', 'CWT202_SoilMoisture_30cmB', 'CWT202_SoilMoisture_60cmA', 'CWT202_SoilMoisture_60cmB', 'CWT205_SoilMoisture_30cmA', 'CWT205_SoilMoisture_30cmB', 'CWT205_SoilMoisture_60cmA', 'CWT205_SoilMoisture_60cmB', 'CWT207_SoilMoisture_30cmA', 'CWT207_SoilMoisture_30cmB', 'CWT207_SoilMoisture_60cmA', 'CWT207_SoilMoisture_60cmB', 'CWT232_SoilMoisture_30cmA', 'CWT232_SoilMoisture_30cmB', 'CWT232_SoilMoisture_60cmA', 'CWT232_SoilMoisture_60cmB', 'CWT236_SoilMoisture_30cmA', 'CWT236_SoilMoisture_30cmB', 'CWT236_SoilMoisture_60cmA', 'CWT236_SoilMoisture_60cmB', 'CWT302_SoilMoisture_30cmA', 'CWT302_SoilMoisture_30cmB', 'CWT302_SoilMoisture_60cmA', 'CWT302_SoilMoisture_60cmB', 'CWT305_SoilMoisture_30cmA', 'CWT305_SoilMoisture_30cmB', 'CWT305_SoilMoisture_60cmA', 'CWT305_SoilMoisture_60cmB', 'CWT307_SoilMoisture_30cmA', 'CWT307_SoilMoisture_30cmB', 'CWT307_SoilMoisture_60cmA', 'CWT307_SoilMoisture_60cmB', 'CWT332_SoilMoisture_30cmA', 'CWT332_SoilMoisture_30cmB', 'CWT332_SoilMoisture_60cmA', 'CWT332_SoilMoisture_60cmB', 'CWT336_SoilMoisture_30cmA', 'CWT336_SoilMoisture_30cmB', 'CWT336_SoilMoisture_60cmA', 'CWT336_SoilMoisture_60cmB', 'CWT418_SoilMoisture_30cmA', 'CWT418_SoilMoisture_30cmB', 'CWT418_SoilMoisture_60cmA', 'CWT418_SoilMoisture_60cmB', 'BentCreek1_SoilMoisture_30cmA', 'BentCreek1_SoilMoisture_30cmB', 'BentCreek1_SoilMoisture_60cmA', 'BentCreek1_SoilMoisture_60cmB', 'BentCreek2_SoilMoisture_30cmA', 'BentCreek2_SoilMoisture_30cmB', 'BentCreek2_SoilMoisture_60cmA', 'BentCreek2_SoilMoisture_60cmB', 'BentCreek3_SoilMoisture_30cmA', 'BentCreek3_SoilMoisture_30cmB', 'BentCreek3_SoilMoisture_60cmA', 'BentCreek3_SoilMoisture_60cmB']\n",
      "    time: ['2015-08-03', '2018-10-31']\n",
      "    units: %\n",
      "    data_source_link: ['http://coweeta.uga.edu/dbpublic/dataset_details.asp?accession=1309 (136,236,336)', 'http://coweeta.uga.edu/dbpublic/dataset_details.asp?accession=1308 (132,232,332)', 'http://coweeta.uga.edu/dbpublic/dataset_details.asp?accession=1305 (107,207,307)', 'http://coweeta.uga.edu/dbpublic/dataset_details.asp?accession=1304 (105,205,305)', 'http://coweeta.uga.edu/dbpublic/dataset_details.asp?accession=1307 (418)', 'http://coweeta.uga.edu/dbpublic/dataset_details.asp?accession=1303 (102,202,302)', 'http://coweeta.uga.edu/dbpublic/dataset_details.asp?accession=1306 (1306)', 'http://coweeta.uga.edu/dbpublic/dataset_details.asp?accession=1301 (BentCreek11,BentCreek21)']\n",
      "unlimited dimensions: \n",
      "current shape = (6823, 80)\n",
      "filling off\n",
      "<class 'netCDF4._netCDF4.Variable'>\n",
      "float64 SoilTemperature(Dim_Datetime, Dim_SoilTemperature_Grid)\n",
      "    names: ['CWT102_SoilTemperature_30cmA', 'CWT102_SoilTemperature_30cmB', 'CWT105_SoilTemperature_30cmA', 'CWT105_SoilTemperature_30cmB', 'CWT107_SoilTemperature_30cmA', 'CWT107_SoilTemperature_30cmB', 'CWT227_SoilTemperature_30cmA', 'CWT227_SoilTemperature_30cmB', 'CWT132_SoilTemperature_30cmA', 'CWT132_SoilTemperature_30cmB', 'CWT136_SoilTemperature_30cmA', 'CWT136_SoilTemperature_30cmB', 'CWT202_SoilTemperature_30cmA', 'CWT202_SoilTemperature_30cmB', 'CWT205_SoilTemperature_30cmA', 'CWT205_SoilTemperature_30cmB', 'CWT207_SoilTemperature_30cmA', 'CWT207_SoilTemperature_30cmB', 'CWT232_SoilTemperature_30cmA', 'CWT232_SoilTemperature_30cmB', 'CWT236_SoilTemperature_30cmA', 'CWT236_SoilTemperature_30cmB', 'CWT302_SoilTemperature_30cmA', 'CWT302_SoilTemperature_30cmB', 'CWT305_SoilTemperature_30cmA', 'CWT305_SoilTemperature_30cmB', 'CWT307_SoilTemperature_30cmA', 'CWT307_SoilTemperature_30cmB', 'CWT332_SoilTemperature_30cmA', 'CWT332_SoilTemperature_30cmB', 'CWT336_SoilTemperature_30cmA', 'CWT336_SoilTemperature_30cmB', 'CWT418_SoilTemperature_30cmA', 'CWT418_SoilTemperature_30cmB', 'BentCreek1_SoilTemperature_30cmA', 'BentCreek1_SoilTemperature_30cmB', 'BentCreek2_SoilTemperature_30cmA', 'BentCreek2_SoilTemperature_30cmB', 'BentCreek3_SoilTemperature_30cmA', 'BentCreek3_SoilTemperature_30cmB']\n",
      "    time: ['2015-08-03', '2018-10-31']\n",
      "    units: Degree celsius\n",
      "    data_source_link: ['http://coweeta.uga.edu/dbpublic/dataset_details.asp?accession=1309 (136,236,336)', 'http://coweeta.uga.edu/dbpublic/dataset_details.asp?accession=1308 (132,232,332)', 'http://coweeta.uga.edu/dbpublic/dataset_details.asp?accession=1305 (107,207,307)', 'http://coweeta.uga.edu/dbpublic/dataset_details.asp?accession=1304 (105,205,305)', 'http://coweeta.uga.edu/dbpublic/dataset_details.asp?accession=1307 (418)', 'http://coweeta.uga.edu/dbpublic/dataset_details.asp?accession=1303 (102,202,302)', 'http://coweeta.uga.edu/dbpublic/dataset_details.asp?accession=1306 (1306)', 'http://coweeta.uga.edu/dbpublic/dataset_details.asp?accession=1301 (BentCreek11,BentCreek21,BentCreek31)']\n",
      "unlimited dimensions: \n",
      "current shape = (6823, 40)\n",
      "filling off\n",
      "<class 'netCDF4._netCDF4.Variable'>\n",
      "float64 Discharge_Flag(Dim_Datetime, Dim_Discharge_Grid)\n",
      "unlimited dimensions: \n",
      "current shape = (6823, 2)\n",
      "filling off\n",
      "<class 'netCDF4._netCDF4.Variable'>\n",
      "float64 Precipitation_Flag(Dim_Datetime, Dim_Precipitation_Grid)\n",
      "unlimited dimensions: \n",
      "current shape = (6823, 13)\n",
      "filling off\n",
      "<class 'netCDF4._netCDF4.Variable'>\n",
      "float64 AirTemperature_Flag(Dim_Datetime, Dim_AirTemperature_Grid)\n",
      "unlimited dimensions: \n",
      "current shape = (6823, 13)\n",
      "filling off\n",
      "<class 'netCDF4._netCDF4.Variable'>\n",
      "float64 SolarRadiation_Flag(Dim_Datetime, Dim_SolarRadiation_Grid)\n",
      "unlimited dimensions: \n",
      "current shape = (6823, 4)\n",
      "filling off\n",
      "<class 'netCDF4._netCDF4.Variable'>\n",
      "float64 RelativeHumidity_Flag(Dim_Datetime, Dim_RelativeHumidity_Grid)\n",
      "unlimited dimensions: \n",
      "current shape = (6823, 13)\n",
      "filling off\n",
      "<class 'netCDF4._netCDF4.Variable'>\n",
      "float64 WindDirection_Flag(Dim_Datetime, Dim_WindDirection_Grid)\n",
      "unlimited dimensions: \n",
      "current shape = (6823, 12)\n",
      "filling off\n",
      "<class 'netCDF4._netCDF4.Variable'>\n",
      "float64 WindSpeed_Flag(Dim_Datetime, Dim_WindSpeed_Grid)\n",
      "unlimited dimensions: \n",
      "current shape = (6823, 13)\n",
      "filling off\n",
      "<class 'netCDF4._netCDF4.Variable'>\n",
      "float64 VaporPressure_Flag(Dim_Datetime, Dim_VaporPressure_Grid)\n",
      "unlimited dimensions: \n",
      "current shape = (6823, 1)\n",
      "filling off\n",
      "<class 'netCDF4._netCDF4.Variable'>\n",
      "float64 SoilMoisture_Flag(Dim_Datetime, Dim_SoilMoisture_Grid)\n",
      "unlimited dimensions: \n",
      "current shape = (6823, 80)\n",
      "filling off\n",
      "<class 'netCDF4._netCDF4.Variable'>\n",
      "float64 SoilTemperature_Flag(Dim_Datetime, Dim_SoilTemperature_Grid)\n",
      "unlimited dimensions: \n",
      "current shape = (6823, 40)\n",
      "filling off\n"
     ]
    }
   ],
   "source": [
    "for v in ncdf.variables:\n",
    "    print(ncdf.variables[v])"
   ]
  },
  {
   "cell_type": "code",
   "execution_count": 72,
   "metadata": {},
   "outputs": [
    {
     "data": {
      "text/plain": [
       "6823"
      ]
     },
     "execution_count": 72,
     "metadata": {},
     "output_type": "execute_result"
    }
   ],
   "source": [
    "start_time = pd.to_datetime(ncdf.variables['Datetime'][:][0])\n",
    "end_time = pd.to_datetime(ncdf.variables['Datetime'][:][-1])\n",
    "time_index = pd.date_range(start_time, end_time, freq='D')\n",
    "time_index\n",
    "len(time_index)"
   ]
  },
  {
   "cell_type": "markdown",
   "metadata": {},
   "source": [
    "## Read discharge data"
   ]
  },
  {
   "cell_type": "code",
   "execution_count": 29,
   "metadata": {},
   "outputs": [
    {
     "data": {
      "text/plain": [
       "<class 'netCDF4._netCDF4.Variable'>\n",
       "float64 Discharge(Dim_Datetime, Dim_Discharge_Grid)\n",
       "    names: ['Prentiss_Discharge', 'Coweeta_Discharge']\n",
       "    time: ['2000-02-26', '2018-10-31']\n",
       "    units: L/s\n",
       "    data_source_link: http://coweeta.uga.edu/dbpublic/dataset_details.asp?accession=3033\n",
       "unlimited dimensions: \n",
       "current shape = (6823, 2)\n",
       "filling off"
      ]
     },
     "execution_count": 29,
     "metadata": {},
     "output_type": "execute_result"
    }
   ],
   "source": [
    "ncdf.variables['Discharge']"
   ]
  },
  {
   "cell_type": "code",
   "execution_count": 52,
   "metadata": {},
   "outputs": [],
   "source": [
    "q_flag = ncdf.variables['Discharge_Flag'][:, 1]\n",
    "_q = ncdf.variables['Discharge'][:][:, 1] # Get Coweeta discharge"
   ]
  },
  {
   "cell_type": "code",
   "execution_count": 37,
   "metadata": {},
   "outputs": [],
   "source": [
    "station_name = ncdf.variables['Discharge'].names[1]"
   ]
  },
  {
   "cell_type": "code",
   "execution_count": null,
   "metadata": {},
   "outputs": [],
   "source": [
    "# TODO: convert the unit from L/s to m3/d\n",
    "# drainage_area = \n",
    "# _q = _q / drainage_area\n",
    "# q = _q * 3600 * 24 #"
   ]
  },
  {
   "cell_type": "markdown",
   "metadata": {},
   "source": [
    "# Read temperature data"
   ]
  },
  {
   "cell_type": "code",
   "execution_count": 56,
   "metadata": {
    "scrolled": false
   },
   "outputs": [
    {
     "data": {
      "text/plain": [
       "<class 'netCDF4._netCDF4.Variable'>\n",
       "float64 AirTemperature(Dim_Datetime, Dim_AirTemperature_Grid)\n",
       "    names: ['Whitehall_AirTemperature', 'CoweetaMid_AirTemperature', 'LowerJonesCreek_AirTemperature', 'GrahamCounty_AirTemperature', 'WineSpring_AirTemperature', 'TessenteeFarm_AirTemperature', 'Cullasaja_AirTemperature', 'FranklinCentral_AirTemperature', 'FranklinNE_AirTemperature', 'FranklinNW_AirTemperature', 'FranklinSE_AirTemperature', 'FranklinSW_AirTemperature', 'MHOpen_AirTemperature']\n",
       "    time: ['2004-11-02', '2018-10-31']\n",
       "    units: Degree celsius\n",
       "    data_source_link: ['http://coweeta.uga.edu/dbpublic/dataset_details.asp?accession=4102 (Central, NE, NW, SE, SW)', 'http://coweeta.uga.edu/dbpublic/dataset_details.asp?accession=4104 (4104)', 'http://coweeta.uga.edu/dbpublic/dataset_details.asp?accession=4106 (4106)', 'http://coweeta.uga.edu/dbpublic/dataset_details.asp?accession=4107 (4107)', 'http://coweeta.uga.edu/dbpublic/dataset_details.asp?accession=4103 (4103)', 'http://coweeta.uga.edu/dbpublic/dataset_details.asp?accession=4038 (OpenSite)', 'http://coweeta.uga.edu/dbpublic/dataset_details.asp?accession=4105 (4105)', 'http://coweeta.uga.edu/dbpublic/dataset_details.asp?accession=4100 (4100)', 'http://coweeta.uga.edu/dbpublic/dataset_details.asp?accession=4101 (4101)']\n",
       "unlimited dimensions: \n",
       "current shape = (6823, 13)\n",
       "filling off"
      ]
     },
     "execution_count": 56,
     "metadata": {},
     "output_type": "execute_result"
    }
   ],
   "source": [
    "ncdf.variables['AirTemperature']"
   ]
  },
  {
   "cell_type": "code",
   "execution_count": 71,
   "metadata": {},
   "outputs": [
    {
     "data": {
      "text/plain": [
       "6823"
      ]
     },
     "execution_count": 71,
     "metadata": {},
     "output_type": "execute_result"
    }
   ],
   "source": [
    "temp = ncdf.variables['AirTemperature'][:][:, 1]\n",
    "len(temp)"
   ]
  },
  {
   "cell_type": "markdown",
   "metadata": {},
   "source": [
    "# Read precip data"
   ]
  },
  {
   "cell_type": "code",
   "execution_count": 61,
   "metadata": {},
   "outputs": [
    {
     "data": {
      "text/plain": [
       "<class 'netCDF4._netCDF4.Variable'>\n",
       "float64 Precipitation(Dim_Datetime, Dim_Precipitation_Grid)\n",
       "    names: ['Whitehall_Precipitation', 'CoweetaMid_Precipitation', 'LowerJonesCreek_Precipitation', 'GrahamCounty_Precipitation', 'WineSpring_Precipitation', 'TessenteeFarm_Precipitation', 'Cullasaja_Precipitation', 'FranklinCentral_Precipitation', 'FranklinNE_Precipitation', 'FranklinNW_Precipitation', 'FranklinSE_Precipitation', 'FranklinSW_Precipitation', 'MHOpen_Precipitation']\n",
       "    time: ['2013-04-09', '2018-10-31']\n",
       "    units: mm/d\n",
       "    data_source_link: ['http://coweeta.uga.edu/dbpublic/dataset_details.asp?accession=4102 (Central, NE, NW, SE, SW)', 'http://coweeta.uga.edu/dbpublic/dataset_details.asp?accession=4104 (4104)', 'http://coweeta.uga.edu/dbpublic/dataset_details.asp?accession=4106 (4106)', 'http://coweeta.uga.edu/dbpublic/dataset_details.asp?accession=4107 (4107)', 'http://coweeta.uga.edu/dbpublic/dataset_details.asp?accession=4103 (4103)', 'http://coweeta.uga.edu/dbpublic/dataset_details.asp?accession=4038 (OpenSite)', 'http://coweeta.uga.edu/dbpublic/dataset_details.asp?accession=4105 (4105)', 'http://coweeta.uga.edu/dbpublic/dataset_details.asp?accession=4100 (4100)', 'http://coweeta.uga.edu/dbpublic/dataset_details.asp?accession=4101 (4101)']\n",
       "unlimited dimensions: \n",
       "current shape = (6823, 13)\n",
       "filling off"
      ]
     },
     "execution_count": 61,
     "metadata": {},
     "output_type": "execute_result"
    }
   ],
   "source": [
    "ncdf.variables['Precipitation']"
   ]
  },
  {
   "cell_type": "code",
   "execution_count": 70,
   "metadata": {},
   "outputs": [
    {
     "data": {
      "text/plain": [
       "6823"
      ]
     },
     "execution_count": 70,
     "metadata": {},
     "output_type": "execute_result"
    }
   ],
   "source": [
    "p = ncdf.variables['Precipitation'][:][:, 1]\n",
    "len(p)"
   ]
  },
  {
   "cell_type": "markdown",
   "metadata": {},
   "source": [
    "# Read PET related data"
   ]
  },
  {
   "cell_type": "code",
   "execution_count": 76,
   "metadata": {},
   "outputs": [
    {
     "data": {
      "text/plain": [
       "<class 'netCDF4._netCDF4.Variable'>\n",
       "float64 SolarRadiation(Dim_Datetime, Dim_SolarRadiation_Grid)\n",
       "    names: ['FranklinCentral_SolarRadiation', 'FranklinNE_SolarRadiation', 'FranklinNW_SolarRadiation', 'FranklinSW_SolarRadiation']\n",
       "    time: ['2014-02-17', '2018-06-03']\n",
       "    units: W/m2\n",
       "    data_source_link: http://coweeta.uga.edu/dbpublic/dataset_details.asp?accession=1039 (1039)\n",
       "unlimited dimensions: \n",
       "current shape = (6823, 4)\n",
       "filling off"
      ]
     },
     "execution_count": 76,
     "metadata": {},
     "output_type": "execute_result"
    }
   ],
   "source": [
    "ncdf.variables['SolarRadiation']"
   ]
  },
  {
   "cell_type": "code",
   "execution_count": 102,
   "metadata": {},
   "outputs": [
    {
     "data": {
      "text/plain": [
       "6823"
      ]
     },
     "execution_count": 102,
     "metadata": {},
     "output_type": "execute_result"
    }
   ],
   "source": [
    "R_s = ncdf.variables['SolarRadiation'][:][:, 0]\n",
    "len(R_s)"
   ]
  },
  {
   "cell_type": "code",
   "execution_count": 79,
   "metadata": {},
   "outputs": [
    {
     "data": {
      "text/plain": [
       "<class 'netCDF4._netCDF4.Variable'>\n",
       "float64 RelativeHumidity(Dim_Datetime, Dim_RelativeHumidity_Grid)\n",
       "    names: ['Whitehall_RelativeHumidity', 'CoweetaMid_RelativeHumidity', 'LowerJonesCreek_RelativeHumidity', 'GrahamCounty_RelativeHumidity', 'WineSpring_RelativeHumidity', 'TessenteeFarm_RelativeHumidity', 'Cullasaja_RelativeHumidity', 'FranklinCentral_RelativeHumidity', 'FranklinNE_RelativeHumidity', 'FranklinNW_RelativeHumidity', 'FranklinSE_RelativeHumidity', 'FranklinSW_RelativeHumidity', 'MHOpen_RelativeHumidity']\n",
       "    time: ['2004-11-02', '2018-10-31']\n",
       "    units: %\n",
       "    data_source_link: ['http://coweeta.uga.edu/dbpublic/dataset_details.asp?accession=4102 (Central, NE, NW, SE, SW)', 'http://coweeta.uga.edu/dbpublic/dataset_details.asp?accession=4104 (4104)', 'http://coweeta.uga.edu/dbpublic/dataset_details.asp?accession=4106 (4106)', 'http://coweeta.uga.edu/dbpublic/dataset_details.asp?accession=4107 (4107)', 'http://coweeta.uga.edu/dbpublic/dataset_details.asp?accession=4103 (4103)', 'http://coweeta.uga.edu/dbpublic/dataset_details.asp?accession=4038 (OpenSite)', 'http://coweeta.uga.edu/dbpublic/dataset_details.asp?accession=4105 (4105)', 'http://coweeta.uga.edu/dbpublic/dataset_details.asp?accession=4100 (4100)', 'http://coweeta.uga.edu/dbpublic/dataset_details.asp?accession=4101 (4101)']\n",
       "unlimited dimensions: \n",
       "current shape = (6823, 13)\n",
       "filling off"
      ]
     },
     "execution_count": 79,
     "metadata": {},
     "output_type": "execute_result"
    }
   ],
   "source": [
    "ncdf.variables['RelativeHumidity']"
   ]
  },
  {
   "cell_type": "code",
   "execution_count": 80,
   "metadata": {},
   "outputs": [],
   "source": [
    "RH = ncdf.variables['SolarRadiation'][:][:, 1]"
   ]
  },
  {
   "cell_type": "code",
   "execution_count": 81,
   "metadata": {},
   "outputs": [
    {
     "data": {
      "text/plain": [
       "<class 'netCDF4._netCDF4.Variable'>\n",
       "float64 WindSpeed(Dim_Datetime, Dim_WindSpeed_Grid)\n",
       "    names: ['Whitehall_WindSpeed', 'CoweetaMid_WindSpeed', 'LowerJonesCreek_WindSpeed', 'GrahamCounty_WindSpeed', 'WineSpring_WindSpeed', 'TessenteeFarm_WindSpeed', 'Cullasaja_WindSpeed', 'FranklinCentral_WindSpeed', 'FranklinNE_WindSpeed', 'FranklinNW_WindSpeed', 'FranklinSE_WindSpeed', 'FranklinSW_WindSpeed', 'MHOpen_WindSpeed']\n",
       "    time: ['2013-04-09', '2018-10-31']\n",
       "    units: m/s\n",
       "    data_source_link: ['http://coweeta.uga.edu/dbpublic/dataset_details.asp?accession=4102 (Central, NE, NW, SE, SW)', 'http://coweeta.uga.edu/dbpublic/dataset_details.asp?accession=4104 (4104)', 'http://coweeta.uga.edu/dbpublic/dataset_details.asp?accession=4106 (4106)', 'http://coweeta.uga.edu/dbpublic/dataset_details.asp?accession=4107 (4107)', 'http://coweeta.uga.edu/dbpublic/dataset_details.asp?accession=4103 (4103)', 'http://coweeta.uga.edu/dbpublic/dataset_details.asp?accession=4038 (OpenSite)', 'http://coweeta.uga.edu/dbpublic/dataset_details.asp?accession=4105 (4105)', 'http://coweeta.uga.edu/dbpublic/dataset_details.asp?accession=4100 (4100)', 'http://coweeta.uga.edu/dbpublic/dataset_details.asp?accession=4101 (4101)']\n",
       "unlimited dimensions: \n",
       "current shape = (6823, 13)\n",
       "filling off"
      ]
     },
     "execution_count": 81,
     "metadata": {},
     "output_type": "execute_result"
    }
   ],
   "source": [
    "ncdf.variables['WindSpeed']"
   ]
  },
  {
   "cell_type": "code",
   "execution_count": 100,
   "metadata": {},
   "outputs": [],
   "source": [
    "U_z = ncdf.variables['WindSpeed'][:][:, 1]"
   ]
  },
  {
   "cell_type": "code",
   "execution_count": 83,
   "metadata": {},
   "outputs": [
    {
     "data": {
      "text/plain": [
       "<class 'netCDF4._netCDF4.Variable'>\n",
       "float64 VaporPressure(Dim_Datetime, Dim_VaporPressure_Grid)\n",
       "    names: 1039_VaporPressure\n",
       "    time: ['2000-02-26', '2008-01-01']\n",
       "    units: kPa\n",
       "    data_source_link: http://coweeta.uga.edu/dbpublic/dataset_details.asp?accession=1039 (1039)\n",
       "unlimited dimensions: \n",
       "current shape = (6823, 1)\n",
       "filling off"
      ]
     },
     "execution_count": 83,
     "metadata": {},
     "output_type": "execute_result"
    }
   ],
   "source": [
    "ncdf.variables['VaporPressure']"
   ]
  },
  {
   "cell_type": "code",
   "execution_count": 99,
   "metadata": {},
   "outputs": [
    {
     "data": {
      "text/plain": [
       "masked_array(\n",
       "  data=[[1.03      ],\n",
       "        [1.18041667],\n",
       "        [0.60708333],\n",
       "        ...,\n",
       "        [       nan],\n",
       "        [       nan],\n",
       "        [       nan]],\n",
       "  mask=False,\n",
       "  fill_value=1e+20)"
      ]
     },
     "execution_count": 99,
     "metadata": {},
     "output_type": "execute_result"
    }
   ],
   "source": [
    "e_a = ncdf.variables['VaporPressure'][:][:]\n",
    "e_a"
   ]
  },
  {
   "cell_type": "markdown",
   "metadata": {},
   "source": [
    "# Calculate EVAP"
   ]
  },
  {
   "cell_type": "code",
   "execution_count": 106,
   "metadata": {},
   "outputs": [
    {
     "ename": "ModuleNotFoundError",
     "evalue": "No module named 'libs.cfe_py'",
     "output_type": "error",
     "traceback": [
      "\u001b[1;31m---------------------------------------------------------------------------\u001b[0m",
      "\u001b[1;31mModuleNotFoundError\u001b[0m                       Traceback (most recent call last)",
      "\u001b[1;32mg:\\Shared drives\\Ryoko and Hilary\\SMSigxModel\\analysis\\0_data_preprocessing\\script\\CHOSEN_prepare_HBV_input.ipynb Cell 28\u001b[0m line \u001b[0;36m<cell line: 1>\u001b[1;34m()\u001b[0m\n\u001b[1;32m----> <a href='vscode-notebook-cell:/g%3A/Shared%20drives/Ryoko%20and%20Hilary/SMSigxModel/analysis/0_data_preprocessing/script/CHOSEN_prepare_HBV_input.ipynb#Y120sZmlsZQ%3D%3D?line=0'>1</a>\u001b[0m \u001b[39mfrom\u001b[39;00m \u001b[39mlibs\u001b[39;00m\u001b[39m.\u001b[39;00m\u001b[39mcfe_py\u001b[39;00m\u001b[39m.\u001b[39;00m\u001b[39mfao_pet\u001b[39;00m \u001b[39mimport\u001b[39;00m FAO_PET\n",
      "\u001b[1;31mModuleNotFoundError\u001b[0m: No module named 'libs.cfe_py'"
     ]
    }
   ],
   "source": [
    "from libs.cfe_py.fao_pet import FAO_PET\n",
    "fao_pet = FAO_PET(lat=, lon=, elevation=,forcing=)\n",
    "fao_pet.calc_PET()\n",
    "# Convert to mm/day"
   ]
  },
  {
   "cell_type": "markdown",
   "metadata": {},
   "source": [
    "# Concat all the data"
   ]
  },
  {
   "cell_type": "code",
   "execution_count": 98,
   "metadata": {},
   "outputs": [
    {
     "data": {
      "text/html": [
       "<div>\n",
       "<style scoped>\n",
       "    .dataframe tbody tr th:only-of-type {\n",
       "        vertical-align: middle;\n",
       "    }\n",
       "\n",
       "    .dataframe tbody tr th {\n",
       "        vertical-align: top;\n",
       "    }\n",
       "\n",
       "    .dataframe thead th {\n",
       "        text-align: right;\n",
       "    }\n",
       "</style>\n",
       "<table border=\"1\" class=\"dataframe\">\n",
       "  <thead>\n",
       "    <tr style=\"text-align: right;\">\n",
       "      <th></th>\n",
       "      <th>p</th>\n",
       "      <th>t</th>\n",
       "      <th>q</th>\n",
       "    </tr>\n",
       "  </thead>\n",
       "  <tbody>\n",
       "    <tr>\n",
       "      <th>2000-02-26</th>\n",
       "      <td>NaN</td>\n",
       "      <td>NaN</td>\n",
       "      <td>2.386390</td>\n",
       "    </tr>\n",
       "    <tr>\n",
       "      <th>2000-02-27</th>\n",
       "      <td>NaN</td>\n",
       "      <td>NaN</td>\n",
       "      <td>2.755713</td>\n",
       "    </tr>\n",
       "    <tr>\n",
       "      <th>2000-02-28</th>\n",
       "      <td>NaN</td>\n",
       "      <td>NaN</td>\n",
       "      <td>2.471618</td>\n",
       "    </tr>\n",
       "    <tr>\n",
       "      <th>2000-02-29</th>\n",
       "      <td>NaN</td>\n",
       "      <td>NaN</td>\n",
       "      <td>2.386390</td>\n",
       "    </tr>\n",
       "    <tr>\n",
       "      <th>2000-03-01</th>\n",
       "      <td>NaN</td>\n",
       "      <td>NaN</td>\n",
       "      <td>2.301162</td>\n",
       "    </tr>\n",
       "  </tbody>\n",
       "</table>\n",
       "</div>"
      ],
      "text/plain": [
       "             p   t         q\n",
       "2000-02-26 NaN NaN  2.386390\n",
       "2000-02-27 NaN NaN  2.755713\n",
       "2000-02-28 NaN NaN  2.471618\n",
       "2000-02-29 NaN NaN  2.386390\n",
       "2000-03-01 NaN NaN  2.301162"
      ]
     },
     "execution_count": 98,
     "metadata": {},
     "output_type": "execute_result"
    }
   ],
   "source": [
    "ptq = np.vstack([p, temp, q]).transpose()\n",
    "ptq_df = pd.DataFrame(ptq, index=time_index, columns=[\"P[mm/d]\", \"TAIR\", \"Q[mm/d]\"])\n",
    "ptq_df.head()"
   ]
  },
  {
   "cell_type": "markdown",
   "metadata": {},
   "source": [
    "# Get TAIR monthly"
   ]
  },
  {
   "cell_type": "code",
   "execution_count": null,
   "metadata": {},
   "outputs": [],
   "source": []
  },
  {
   "cell_type": "markdown",
   "metadata": {},
   "source": [
    "# Save all the data"
   ]
  },
  {
   "cell_type": "code",
   "execution_count": null,
   "metadata": {},
   "outputs": [],
   "source": []
  }
 ],
 "metadata": {
  "kernelspec": {
   "display_name": "Python 3",
   "language": "python",
   "name": "python3"
  },
  "language_info": {
   "codemirror_mode": {
    "name": "ipython",
    "version": 3
   },
   "file_extension": ".py",
   "mimetype": "text/x-python",
   "name": "python",
   "nbconvert_exporter": "python",
   "pygments_lexer": "ipython3",
   "version": "3.8.13"
  }
 },
 "nbformat": 4,
 "nbformat_minor": 2
}
