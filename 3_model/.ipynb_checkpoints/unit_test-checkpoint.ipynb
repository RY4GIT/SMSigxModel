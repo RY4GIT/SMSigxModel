{
 "cells": [
  {
   "cell_type": "markdown",
   "metadata": {},
   "source": [
    "### This is a Markdown cell"
   ]
  },
  {
   "cell_type": "code",
   "execution_count": 5,
   "metadata": {},
   "outputs": [
    {
     "name": "stdout",
     "output_type": "stream",
     "text": [
      "Requirement already satisfied: spotpy in c:\\users\\flipl\\anaconda3\\lib\\site-packages (1.5.14)\n",
      "Requirement already satisfied: numpy in c:\\users\\flipl\\anaconda3\\lib\\site-packages (from spotpy) (1.20.3)\n",
      "Requirement already satisfied: scipy in c:\\users\\flipl\\anaconda3\\lib\\site-packages (from spotpy) (1.7.1)\n"
     ]
    }
   ],
   "source": [
    "!pip install spotpy"
   ]
  },
  {
   "cell_type": "code",
   "execution_count": 1,
   "metadata": {},
   "outputs": [],
   "source": [
    "# A main module to run various analysis with CFE model\n",
    "import os\n",
    "import sys\n",
    "import numpy as np\n",
    "import pandas as pd\n",
    "import sys\n",
    "if not sys.warnoptions:\n",
    "    import warnings\n",
    "    warnings.simplefilter(\"ignore\")\n",
    "import json\n",
    "\n",
    "# sys.path.append(\"G://Shared drives/Ryoko and Hilary/SMSigxModel/analysis/3_model/libs/cfe/py_cfe\")\n",
    "sys.path.append(\"G:/Shared drives/Ryoko and Hilary/Github_ex/cfe/py_cfe\")\n",
    "import cfe\n",
    "import bmi_cfe\n",
    "\n",
    "# specify current directory create output directory if it does not exist\n",
    "os.chdir(\"G://Shared drives/Ryoko and Hilary/SMSigxModel/analysis/3_model\")\n",
    "os.getcwd()\n",
    "out_path = '..\\\\4_out\\\\Mahurangi'\n",
    "if not os.path.exists(out_path):\n",
    "    os.mkdir(out_path)\n",
    "data_file_path = '..\\\\2_data_input\\\\Mahurangi'"
   ]
  },
  {
   "cell_type": "code",
   "execution_count": 11,
   "metadata": {},
   "outputs": [
    {
     "ename": "KeyError",
     "evalue": "'gw_exponent_secondary'",
     "output_type": "error",
     "traceback": [
      "\u001b[1;31m---------------------------------------------------------------------------\u001b[0m",
      "\u001b[1;31mKeyError\u001b[0m                                  Traceback (most recent call last)",
      "\u001b[1;32mR:\\Temp/ipykernel_13348/976562584.py\u001b[0m in \u001b[0;36m<module>\u001b[1;34m\u001b[0m\n\u001b[0;32m     44\u001b[0m \u001b[1;33m\u001b[0m\u001b[0m\n\u001b[0;32m     45\u001b[0m \u001b[0mcfe_instance\u001b[0m \u001b[1;33m=\u001b[0m \u001b[0mbmi_cfe\u001b[0m\u001b[1;33m.\u001b[0m\u001b[0mBMI_CFE\u001b[0m\u001b[1;33m(\u001b[0m\u001b[0minput_path\u001b[0m\u001b[1;33m)\u001b[0m\u001b[1;33m\u001b[0m\u001b[1;33m\u001b[0m\u001b[0m\n\u001b[1;32m---> 46\u001b[1;33m \u001b[0mcfe_instance\u001b[0m\u001b[1;33m.\u001b[0m\u001b[0minitialize\u001b[0m\u001b[1;33m(\u001b[0m\u001b[1;33m)\u001b[0m\u001b[1;33m\u001b[0m\u001b[1;33m\u001b[0m\u001b[0m\n\u001b[0m\u001b[0;32m     47\u001b[0m \u001b[0mcfe_instance\u001b[0m\u001b[1;33m.\u001b[0m\u001b[0mrun_unit_test\u001b[0m\u001b[1;33m(\u001b[0m\u001b[0mplot\u001b[0m\u001b[1;33m=\u001b[0m\u001b[1;32mTrue\u001b[0m\u001b[1;33m,\u001b[0m \u001b[0mprint_fluxes\u001b[0m\u001b[1;33m=\u001b[0m\u001b[1;32mFalse\u001b[0m\u001b[1;33m)\u001b[0m\u001b[1;33m\u001b[0m\u001b[1;33m\u001b[0m\u001b[0m\n\u001b[0;32m     48\u001b[0m \u001b[0mcfe_instance\u001b[0m\u001b[1;33m.\u001b[0m\u001b[0mfinalize\u001b[0m\u001b[1;33m(\u001b[0m\u001b[0mprint_mass_balance\u001b[0m\u001b[1;33m=\u001b[0m\u001b[1;32mTrue\u001b[0m\u001b[1;33m)\u001b[0m\u001b[1;33m\u001b[0m\u001b[1;33m\u001b[0m\u001b[0m\n",
      "\u001b[1;32mG:\\Shared drives/Ryoko and Hilary/Github_ex/cfe/py_cfe\\bmi_cfe.py\u001b[0m in \u001b[0;36minitialize\u001b[1;34m(self, current_time_step)\u001b[0m\n\u001b[0;32m     94\u001b[0m         \u001b[1;31m# ________________________________________________________ #\u001b[0m\u001b[1;33m\u001b[0m\u001b[1;33m\u001b[0m\u001b[0m\n\u001b[0;32m     95\u001b[0m         \u001b[1;31m# GET VALUES FROM CONFIGURATION FILE.                      #\u001b[0m\u001b[1;33m\u001b[0m\u001b[1;33m\u001b[0m\u001b[0m\n\u001b[1;32m---> 96\u001b[1;33m         \u001b[0mself\u001b[0m\u001b[1;33m.\u001b[0m\u001b[0mconfig_from_json\u001b[0m\u001b[1;33m(\u001b[0m\u001b[1;33m)\u001b[0m                                    \u001b[1;31m#\u001b[0m\u001b[1;33m\u001b[0m\u001b[1;33m\u001b[0m\u001b[0m\n\u001b[0m\u001b[0;32m     97\u001b[0m \u001b[1;33m\u001b[0m\u001b[0m\n\u001b[0;32m     98\u001b[0m         \u001b[1;31m# ________________________________________________\u001b[0m\u001b[1;33m\u001b[0m\u001b[1;33m\u001b[0m\u001b[0m\n",
      "\u001b[1;32mG:\\Shared drives/Ryoko and Hilary/Github_ex/cfe/py_cfe\\bmi_cfe.py\u001b[0m in \u001b[0;36mconfig_from_json\u001b[1;34m(self)\u001b[0m\n\u001b[0;32m    324\u001b[0m         \u001b[0mself\u001b[0m\u001b[1;33m.\u001b[0m\u001b[0mgw_exponent_primary\u001b[0m   \u001b[1;33m=\u001b[0m \u001b[0mdata_loaded\u001b[0m\u001b[1;33m[\u001b[0m\u001b[1;34m'gw_exponent_primary'\u001b[0m\u001b[1;33m]\u001b[0m\u001b[1;33m\u001b[0m\u001b[1;33m\u001b[0m\u001b[0m\n\u001b[0;32m    325\u001b[0m         \u001b[0mself\u001b[0m\u001b[1;33m.\u001b[0m\u001b[0mgw_coeff_secondary\u001b[0m    \u001b[1;33m=\u001b[0m \u001b[0mdata_loaded\u001b[0m\u001b[1;33m[\u001b[0m\u001b[1;34m'gw_coeff_secondary'\u001b[0m\u001b[1;33m]\u001b[0m\u001b[1;33m\u001b[0m\u001b[1;33m\u001b[0m\u001b[0m\n\u001b[1;32m--> 326\u001b[1;33m         \u001b[0mself\u001b[0m\u001b[1;33m.\u001b[0m\u001b[0mgw_exponent_secondary\u001b[0m \u001b[1;33m=\u001b[0m \u001b[0mdata_loaded\u001b[0m\u001b[1;33m[\u001b[0m\u001b[1;34m'gw_exponent_secondary'\u001b[0m\u001b[1;33m]\u001b[0m\u001b[1;33m\u001b[0m\u001b[1;33m\u001b[0m\u001b[0m\n\u001b[0m\u001b[0;32m    327\u001b[0m \u001b[1;33m\u001b[0m\u001b[0m\n\u001b[0;32m    328\u001b[0m         \u001b[1;31m# OPTIONAL CONFIGURATIONS\u001b[0m\u001b[1;33m\u001b[0m\u001b[1;33m\u001b[0m\u001b[0m\n",
      "\u001b[1;31mKeyError\u001b[0m: 'gw_exponent_secondary'"
     ]
    }
   ],
   "source": [
    "input_config = {\n",
    "    \"forcing_file\": \"..\\\\2_data_input\\\\Mahurangi\\\\full\\\\mahurangi_1998_2001.csv\",\n",
    "    \"catchment_area_km2\": 46.65, \n",
    "    \"soil_params\": { # bounds, init\n",
    "        \"bb\": 10, # 2-15, 8.17\n",
    "        \"mult\": 1000.0,\n",
    "        \"satdk\": 1E-04, # 1E-07-1E-05, but can be larger? \n",
    "        \"satpsi\": 0.33, # 0.02-0.78, 0.263 \n",
    "        \"slop\": 0.2, # 0-1, 0.02\n",
    "        \"smcmax\": 0.5,  # 0.33-0.7, 0.57\n",
    "        \"wltsmc\": 0.3,  # 0-0.7, 0.35 or 0.17\n",
    "        \"D\": 0.87,                     # fixed \n",
    "        \"exponent_primary\": 1.0,       # fixed\n",
    "        \"coeff_secondary\": 0.01,   # ?, 0.01\n",
    "        \"exponent_secondary\": 0.015, # ?, 1\n",
    "        \"depth\": 0.5\n",
    "    },\n",
    "    \"max_gw_storage\": 50,        # 10-250, 16 or 50\n",
    "    \"gw_storage\":10, \n",
    "    \"soil_storage\":0.5,\n",
    "    \"gw_coeff_primary\": 0.01,                   # ?, 0.01 or 1\n",
    "    \"gw_exponent_primary\": 1,                  # 1-8, 3 or 6\n",
    "    \"gw_coeff_secondary\": 0.01, \n",
    "    \"gw_exponent_secondary\": 1,\n",
    "    \"Cgw\": 0.01,\n",
    "    \"expon\": 1,\n",
    "    \"K_lf\": 46.875000531249995,                  # fixed\n",
    "    \"K_nash\": 0.03,               # fixed\n",
    "    \"nash_storage\": [0.0, 0.0],                  # fixed\n",
    "    \"giuh_ordinates\": [0.1, 0.35, 0.2, 0.14, 0.1, 0.06, 0.05], # fixed\n",
    "    \"refkdt\": 0.1,                 # 0.1-4, 3\n",
    "    \"trigger_z_m\": 0.5,           # 0.01-0.87\n",
    "    \"alpha_fc\": 0.33,               # 0.01-0.33\n",
    "    \"stand_alone\": 1,\n",
    "    \"unit_test\": 1,\n",
    "    \"compare_results_file\": \"G:\\\\Shared drives\\\\Ryoko and Hilary\\\\SMSigxModel\\\\analysis\\\\2_data_input\\\\Mahurangi\\\\full\\\\test_sm_basinavg.csv\",\n",
    "}\n",
    "\n",
    "input_path = os.path.join(data_file_path, 'full', 'config_cfe_uptodate.json')\n",
    "with open(input_path, 'w') as outfile:\n",
    "    json.dump(input_config, outfile)\n",
    "\n",
    "with open(input_path) as outfile:\n",
    "    loaded_data = json.load(outfile)\n",
    "\n",
    "cfe_instance = bmi_cfe.BMI_CFE(input_path)\n",
    "cfe_instance.initialize()\n",
    "cfe_instance.run_unit_test(plot=True, print_fluxes=False)\n",
    "cfe_instance.finalize(print_mass_balance=True)"
   ]
  },
  {
   "cell_type": "code",
   "execution_count": null,
   "metadata": {},
   "outputs": [],
   "source": []
  }
 ],
 "metadata": {
  "kernelspec": {
   "display_name": "Python 3 (ipykernel)",
   "language": "python",
   "name": "python3"
  },
  "language_info": {
   "codemirror_mode": {
    "name": "ipython",
    "version": 3
   },
   "file_extension": ".py",
   "mimetype": "text/x-python",
   "name": "python",
   "nbconvert_exporter": "python",
   "pygments_lexer": "ipython3",
   "version": "3.9.7"
  }
 },
 "nbformat": 4,
 "nbformat_minor": 4
}
