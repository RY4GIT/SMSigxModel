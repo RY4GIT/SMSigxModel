{
 "cells": [
  {
   "cell_type": "markdown",
   "metadata": {},
   "source": [
    "### This is a Markdown cell"
   ]
  },
  {
   "cell_type": "code",
   "execution_count": 1,
   "metadata": {},
   "outputs": [
    {
     "name": "stdout",
     "output_type": "stream",
     "text": [
      "Requirement already satisfied: spotpy in c:\\users\\flipl\\anaconda3\\lib\\site-packages (1.5.14)\n",
      "Requirement already satisfied: scipy in c:\\users\\flipl\\anaconda3\\lib\\site-packages (from spotpy) (1.7.1)\n",
      "Requirement already satisfied: numpy in c:\\users\\flipl\\anaconda3\\lib\\site-packages (from spotpy) (1.20.3)\n"
     ]
    }
   ],
   "source": [
    "!pip install spotpy"
   ]
  },
  {
   "cell_type": "code",
   "execution_count": 1,
   "metadata": {},
   "outputs": [],
   "source": [
    "# A main module to run various analysis with CFE model\n",
    "import os\n",
    "import sys\n",
    "import numpy as np\n",
    "import pandas as pd\n",
    "import sys\n",
    "if not sys.warnoptions:\n",
    "    import warnings\n",
    "    warnings.simplefilter(\"ignore\")\n",
    "import json\n",
    "\n",
    "cfe_ver = \"Ryoko\"\n",
    "if cfe_ver == \"Ryoko\":\n",
    "    sys.path.append(\"G://Shared drives/Ryoko and Hilary/SMSigxModel/analysis/3_model/libs/cfe/py_cfe\")\n",
    "elif cfe_ver == \"NOAA\":\n",
    "    sys.path.append(\"G:/Shared drives/Ryoko and Hilary/Github_ex/cfe/py_cfe\")\n",
    "    \n",
    "import cfe\n",
    "import bmi_cfe\n",
    "\n",
    "# specify current directory create output directory if it does not exist\n",
    "os.chdir(\"G://Shared drives/Ryoko and Hilary/SMSigxModel/analysis/3_model\")\n",
    "os.getcwd()\n",
    "out_path = '..\\\\4_out\\\\debug'\n",
    "if not os.path.exists(out_path):\n",
    "    os.mkdir(out_path)\n",
    "data_file_path = '..\\\\2_data_input\\\\debug'"
   ]
  },
  {
   "cell_type": "code",
   "execution_count": 2,
   "metadata": {},
   "outputs": [
    {
     "ename": "FileNotFoundError",
     "evalue": "[Errno 2] No such file or directory: '..\\\\2_data_input\\\\debug\\\\full\\\\config_cfe.json'",
     "output_type": "error",
     "traceback": [
      "\u001b[1;31m---------------------------------------------------------------------------\u001b[0m",
      "\u001b[1;31mFileNotFoundError\u001b[0m                         Traceback (most recent call last)",
      "\u001b[1;32mR:\\Temp/ipykernel_13364/1289623516.py\u001b[0m in \u001b[0;36m<module>\u001b[1;34m\u001b[0m\n\u001b[0;32m     76\u001b[0m \u001b[1;33m\u001b[0m\u001b[0m\n\u001b[0;32m     77\u001b[0m \u001b[1;33m\u001b[0m\u001b[0m\n\u001b[1;32m---> 78\u001b[1;33m \u001b[1;32mwith\u001b[0m \u001b[0mopen\u001b[0m\u001b[1;33m(\u001b[0m\u001b[0minput_path\u001b[0m\u001b[1;33m,\u001b[0m \u001b[1;34m'w'\u001b[0m\u001b[1;33m)\u001b[0m \u001b[1;32mas\u001b[0m \u001b[0moutfile\u001b[0m\u001b[1;33m:\u001b[0m\u001b[1;33m\u001b[0m\u001b[1;33m\u001b[0m\u001b[0m\n\u001b[0m\u001b[0;32m     79\u001b[0m     \u001b[0mjson\u001b[0m\u001b[1;33m.\u001b[0m\u001b[0mdump\u001b[0m\u001b[1;33m(\u001b[0m\u001b[0minput_config\u001b[0m\u001b[1;33m,\u001b[0m \u001b[0moutfile\u001b[0m\u001b[1;33m)\u001b[0m\u001b[1;33m\u001b[0m\u001b[1;33m\u001b[0m\u001b[0m\n\u001b[0;32m     80\u001b[0m \u001b[1;33m\u001b[0m\u001b[0m\n",
      "\u001b[1;31mFileNotFoundError\u001b[0m: [Errno 2] No such file or directory: '..\\\\2_data_input\\\\debug\\\\full\\\\config_cfe.json'"
     ]
    }
   ],
   "source": [
    "if cfe_ver == \"Ryoko\":\n",
    "    input_path = os.path.join(data_file_path, 'config_cfe.json')\n",
    "    input_config = {\n",
    "        \"forcing_file\": \"..\\\\2_data_input\\\\debug\\\\mahurangi_1998_2001.csv\",\n",
    "        \"catchment_area_km2\": 46.65, \n",
    "        \"soil_params\": { # bounds, init\n",
    "            \"bb\": 10, # 2-15, 8.17\n",
    "            \"mult\": 1000.0,\n",
    "            \"satdk\": 1E-04, # 1E-07-1E-05, but can be larger? \n",
    "            \"satpsi\": 0.33, # 0.02-0.78, 0.263 \n",
    "            \"slop\": 0.2, # 0-1, 0.02\n",
    "            \"smcmax\": 0.5,  # 0.33-0.7, 0.57\n",
    "            \"wltsmc\": 0.3,  # 0-0.7, 0.35 or 0.17\n",
    "            \"D\": 0.87,                     # fixed \n",
    "            \"exponent_primary\": 1,       # fixed\n",
    "            \"coeff_secondary\": 1,   # ?, 0.01\n",
    "            \"exponent_secondary\": 1, # ?, 1\n",
    "            \"depth\": 0.5\n",
    "        },\n",
    "        \"max_gw_storage\": 50,        # 10-250, 16 or 50\n",
    "        \"gw_coeff_primary\": 0.01,                   # ?, 0.01 or 1\n",
    "        \"gw_exponent_primary\": 1,                  # 1-8, 3 or 6\n",
    "        \"Cgw\": 0.01,\n",
    "        \"expon\": 1,\n",
    "        \"K_lf\": 46.875000531249995,                  # fixed\n",
    "        \"K_nash\": 0.03,               # fixed\n",
    "        \"nash_storage\": [0.0, 0.0],                  # fixed\n",
    "        \"giuh_ordinates\": [0.1, 0.35, 0.2, 0.14, 0.1, 0.06, 0.05], # fixed\n",
    "        \"refkdt\": 0.1,                 # 0.1-4, 3\n",
    "        \"trigger_z_m\": 0.5,           # 0.01-0.87\n",
    "        \"fc_atm_press_fraction\": 0.33,               # 0.01-0.33\n",
    "        \"stand_alone\": 1,\n",
    "        \"unit_test\": 1,\n",
    "        \"compare_results_file\": \"G:\\\\Shared drives\\\\Ryoko and Hilary\\\\SMSigxModel\\\\analysis\\\\2_data_input\\\\debug\\\\test_sm_basinavg.csv\",\n",
    "    }\n",
    "\n",
    "elif cfe_ver == \"NOAA\":\n",
    "    input_path = os.path.join(data_file_path, 'full', 'config_cfe_uptodate.json')\n",
    "    input_config = {\n",
    "        \"forcing_file\": \"..\\\\2_data_input\\\\debug\\\\mahurangi_1998_2001.csv\",\n",
    "        \"catchment_area_km2\": 46.65, \n",
    "        \"soil_params\": { # bounds, init\n",
    "            \"bb\": 10, # 2-15, 8.17\n",
    "            \"mult\": 1000.0,\n",
    "            \"satdk\": 1E-04, # 1E-07-1E-05, but can be larger? \n",
    "            \"satpsi\": 0.33, # 0.02-0.78, 0.263 \n",
    "            \"slop\": 0.2, # 0-1, 0.02\n",
    "            \"smcmax\": 0.5,  # 0.33-0.7, 0.57\n",
    "            \"wltsmc\": 0.3,  # 0-0.7, 0.35 or 0.17\n",
    "            \"D\": 0.87,                     # fixed \n",
    "            \"exponent_primary\": 1.0,       # fixed\n",
    "            \"coeff_secondary\": 1,   # ?, 0.01\n",
    "            \"exponent_secondary\": 1, # ?, 1\n",
    "            \"depth\": 0.5\n",
    "        },\n",
    "        \"max_gw_storage\": 50,        # 10-250, 16 or 50\n",
    "        \"gw_storage\":10, \n",
    "        \"soil_storage\":0.5,\n",
    "        \"gw_coeff_primary\": 0.01,                   # ?, 0.01 or 1\n",
    "        \"gw_exponent_primary\": 1,                  # 1-8, 3 or 6\n",
    "        \"gw_coeff_secondary\": 0.01, \n",
    "        \"gw_exponent_secondary\": 1,\n",
    "        \"Cgw\": 0.01,\n",
    "        \"expon\": 1,\n",
    "        \"K_lf\": 46.875000531249995,                  # fixed\n",
    "        \"K_nash\": 0.03,               # fixed\n",
    "        \"nash_storage\": [0.0, 0.0],                  # fixed\n",
    "        \"giuh_ordinates\": [0.1, 0.35, 0.2, 0.14, 0.1, 0.06, 0.05], # fixed\n",
    "        \"refkdt\": 0.1,                 # 0.1-4, 3\n",
    "        \"trigger_z_m\": 0.5,           # 0.01-0.87\n",
    "        \"alpha_fc\": 0.33,               # 0.01-0.33\n",
    "        \"stand_alone\": 1,\n",
    "        \"unit_test\": 1,\n",
    "        \"compare_results_file\": \"G:\\\\Shared drives\\\\Ryoko and Hilary\\\\SMSigxModel\\\\analysis\\\\2_data_input\\\\debug\\\\test_sm_basinavg.csv\",\n",
    "    }\n",
    "\n",
    "\n",
    "with open(input_path, 'w') as outfile:\n",
    "    json.dump(input_config, outfile)\n",
    "\n",
    "with open(input_path) as outfile:\n",
    "    loaded_data = json.load(outfile)\n",
    "\n",
    "cfe_instance = bmi_cfe.BMI_CFE(input_path)\n",
    "cfe_instance.initialize()\n",
    "cfe_instance.run_unit_test(plot=True, print_fluxes=False)\n",
    "cfe_instance.finalize(print_mass_balance=True)"
   ]
  },
  {
   "cell_type": "code",
   "execution_count": null,
   "metadata": {},
   "outputs": [],
   "source": []
  }
 ],
 "metadata": {
  "kernelspec": {
   "display_name": "Python 3 (ipykernel)",
   "language": "python",
   "name": "python3"
  },
  "language_info": {
   "codemirror_mode": {
    "name": "ipython",
    "version": 3
   },
   "file_extension": ".py",
   "mimetype": "text/x-python",
   "name": "python",
   "nbconvert_exporter": "python",
   "pygments_lexer": "ipython3",
   "version": "3.9.7"
  }
 },
 "nbformat": 4,
 "nbformat_minor": 4
}
