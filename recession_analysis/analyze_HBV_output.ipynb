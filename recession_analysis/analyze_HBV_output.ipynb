{
 "cells": [
  {
   "cell_type": "code",
   "execution_count": 1,
   "metadata": {},
   "outputs": [],
   "source": [
    "import spotpy\n",
    "import pandas as pd\n",
    "import matplotlib.pyplot as plt\n",
    "import numpy as np"
   ]
  },
  {
   "cell_type": "code",
   "execution_count": 5,
   "metadata": {},
   "outputs": [
    {
     "data": {
      "text/html": [
       "<div>\n",
       "<style scoped>\n",
       "    .dataframe tbody tr th:only-of-type {\n",
       "        vertical-align: middle;\n",
       "    }\n",
       "\n",
       "    .dataframe tbody tr th {\n",
       "        vertical-align: top;\n",
       "    }\n",
       "\n",
       "    .dataframe thead th {\n",
       "        text-align: right;\n",
       "    }\n",
       "</style>\n",
       "<table border=\"1\" class=\"dataframe\">\n",
       "  <thead>\n",
       "    <tr style=\"text-align: right;\">\n",
       "      <th></th>\n",
       "      <th>Date</th>\n",
       "      <th>Qsim</th>\n",
       "      <th>Qobs</th>\n",
       "      <th>Precipitation</th>\n",
       "      <th>Temperature</th>\n",
       "      <th>AET</th>\n",
       "      <th>PET</th>\n",
       "      <th>Snow</th>\n",
       "      <th>Snowcover</th>\n",
       "      <th>SM</th>\n",
       "      <th>Recharge</th>\n",
       "      <th>SLZ</th>\n",
       "      <th>Q0</th>\n",
       "      <th>Q1</th>\n",
       "      <th>Q2</th>\n",
       "    </tr>\n",
       "  </thead>\n",
       "  <tbody>\n",
       "    <tr>\n",
       "      <th>0</th>\n",
       "      <td>20070919 00:00:00</td>\n",
       "      <td>3.000000e-10</td>\n",
       "      <td>5.800000e-09</td>\n",
       "      <td>0.0</td>\n",
       "      <td>19.5</td>\n",
       "      <td>0.0</td>\n",
       "      <td>0.0</td>\n",
       "      <td>0.0</td>\n",
       "      <td>0.0</td>\n",
       "      <td>100.9</td>\n",
       "      <td>0.0</td>\n",
       "      <td>0.0</td>\n",
       "      <td>0.0</td>\n",
       "      <td>0.0</td>\n",
       "      <td>3.000000e-10</td>\n",
       "    </tr>\n",
       "    <tr>\n",
       "      <th>1</th>\n",
       "      <td>20070919 01:00:00</td>\n",
       "      <td>3.000000e-10</td>\n",
       "      <td>5.400000e-09</td>\n",
       "      <td>0.0</td>\n",
       "      <td>18.8</td>\n",
       "      <td>0.0</td>\n",
       "      <td>0.0</td>\n",
       "      <td>0.0</td>\n",
       "      <td>0.0</td>\n",
       "      <td>100.9</td>\n",
       "      <td>0.0</td>\n",
       "      <td>0.0</td>\n",
       "      <td>0.0</td>\n",
       "      <td>0.0</td>\n",
       "      <td>3.000000e-10</td>\n",
       "    </tr>\n",
       "    <tr>\n",
       "      <th>2</th>\n",
       "      <td>20070919 02:00:00</td>\n",
       "      <td>3.000000e-10</td>\n",
       "      <td>5.600000e-09</td>\n",
       "      <td>0.0</td>\n",
       "      <td>17.6</td>\n",
       "      <td>0.0</td>\n",
       "      <td>0.0</td>\n",
       "      <td>0.0</td>\n",
       "      <td>0.0</td>\n",
       "      <td>100.9</td>\n",
       "      <td>0.0</td>\n",
       "      <td>0.0</td>\n",
       "      <td>0.0</td>\n",
       "      <td>0.0</td>\n",
       "      <td>3.000000e-10</td>\n",
       "    </tr>\n",
       "    <tr>\n",
       "      <th>3</th>\n",
       "      <td>20070919 03:00:00</td>\n",
       "      <td>3.000000e-10</td>\n",
       "      <td>5.600000e-09</td>\n",
       "      <td>0.0</td>\n",
       "      <td>17.0</td>\n",
       "      <td>0.0</td>\n",
       "      <td>0.0</td>\n",
       "      <td>0.0</td>\n",
       "      <td>0.0</td>\n",
       "      <td>100.9</td>\n",
       "      <td>0.0</td>\n",
       "      <td>0.0</td>\n",
       "      <td>0.0</td>\n",
       "      <td>0.0</td>\n",
       "      <td>3.000000e-10</td>\n",
       "    </tr>\n",
       "    <tr>\n",
       "      <th>4</th>\n",
       "      <td>20070919 04:00:00</td>\n",
       "      <td>3.000000e-10</td>\n",
       "      <td>5.600000e-09</td>\n",
       "      <td>0.0</td>\n",
       "      <td>17.0</td>\n",
       "      <td>0.0</td>\n",
       "      <td>0.0</td>\n",
       "      <td>0.0</td>\n",
       "      <td>0.0</td>\n",
       "      <td>100.9</td>\n",
       "      <td>0.0</td>\n",
       "      <td>0.0</td>\n",
       "      <td>0.0</td>\n",
       "      <td>0.0</td>\n",
       "      <td>3.000000e-10</td>\n",
       "    </tr>\n",
       "  </tbody>\n",
       "</table>\n",
       "</div>"
      ],
      "text/plain": [
       "                Date          Qsim          Qobs  Precipitation  Temperature  \\\n",
       "0  20070919 00:00:00  3.000000e-10  5.800000e-09            0.0         19.5   \n",
       "1  20070919 01:00:00  3.000000e-10  5.400000e-09            0.0         18.8   \n",
       "2  20070919 02:00:00  3.000000e-10  5.600000e-09            0.0         17.6   \n",
       "3  20070919 03:00:00  3.000000e-10  5.600000e-09            0.0         17.0   \n",
       "4  20070919 04:00:00  3.000000e-10  5.600000e-09            0.0         17.0   \n",
       "\n",
       "   AET  PET  Snow  Snowcover     SM  Recharge  SLZ   Q0   Q1            Q2  \n",
       "0  0.0  0.0   0.0        0.0  100.9       0.0  0.0  0.0  0.0  3.000000e-10  \n",
       "1  0.0  0.0   0.0        0.0  100.9       0.0  0.0  0.0  0.0  3.000000e-10  \n",
       "2  0.0  0.0   0.0        0.0  100.9       0.0  0.0  0.0  0.0  3.000000e-10  \n",
       "3  0.0  0.0   0.0        0.0  100.9       0.0  0.0  0.0  0.0  3.000000e-10  \n",
       "4  0.0  0.0   0.0        0.0  100.9       0.0  0.0  0.0  0.0  3.000000e-10  "
      ]
     },
     "execution_count": 5,
     "metadata": {},
     "output_type": "execute_result"
    }
   ],
   "source": [
    "filename = r\"C:\\Program Files (x86)\\HBV-light\\Data\\LittleWashita\\results\\Results.txt\"\n",
    "results = pd.read_csv(filename, delimiter='\\t')\n",
    "results.head()"
   ]
  },
  {
   "cell_type": "code",
   "execution_count": 6,
   "metadata": {},
   "outputs": [],
   "source": [
    "obs = results.Qobs.values\n",
    "sim = results.Qsim.values"
   ]
  },
  {
   "cell_type": "code",
   "execution_count": 9,
   "metadata": {},
   "outputs": [
    {
     "data": {
      "text/plain": [
       "0.17464102072320387"
      ]
     },
     "execution_count": 9,
     "metadata": {},
     "output_type": "execute_result"
    }
   ],
   "source": [
    "spotpy.objectivefunctions.kge(evaluation=obs[~np.isnan(obs)], simulation=sim[~np.isnan(obs)])"
   ]
  },
  {
   "cell_type": "code",
   "execution_count": 10,
   "metadata": {},
   "outputs": [
    {
     "data": {
      "text/plain": [
       "0.17074892676525055"
      ]
     },
     "execution_count": 10,
     "metadata": {},
     "output_type": "execute_result"
    }
   ],
   "source": [
    "spotpy.objectivefunctions.nashsutcliffe(evaluation=obs[~np.isnan(obs)], simulation=sim[~np.isnan(obs)])"
   ]
  },
  {
   "cell_type": "code",
   "execution_count": null,
   "metadata": {},
   "outputs": [],
   "source": []
  }
 ],
 "metadata": {
  "kernelspec": {
   "display_name": "CFE",
   "language": "python",
   "name": "python3"
  },
  "language_info": {
   "codemirror_mode": {
    "name": "ipython",
    "version": 3
   },
   "file_extension": ".py",
   "mimetype": "text/x-python",
   "name": "python",
   "nbconvert_exporter": "python",
   "pygments_lexer": "ipython3",
   "version": "3.8.13"
  },
  "orig_nbformat": 4
 },
 "nbformat": 4,
 "nbformat_minor": 2
}
