{
 "cells": [
  {
   "cell_type": "markdown",
   "metadata": {},
   "source": [
    "### This jupyter notebook is to unit-test CFE model run"
   ]
  },
  {
   "cell_type": "markdown",
   "metadata": {},
   "source": [
    "## Preparation"
   ]
  },
  {
   "cell_type": "code",
   "execution_count": 1,
   "metadata": {},
   "outputs": [],
   "source": [
    "# Import modules\n",
    "import json\n",
    "from bmi_cfe import BMI_CFE"
   ]
  },
  {
   "cell_type": "code",
   "execution_count": 2,
   "metadata": {},
   "outputs": [],
   "source": [
    "# Input: Mahurangi data for 3 yrs\n",
    "# forcing: Mahurangi/mahurangi_1998_2001.csv\n",
    "# observed: test_sm_basinavg\n",
    "\n",
    "# Input: Little Washita data for 12 yrs\n",
    "# forcing: LittleWashita/little_washita_2006_2012.csv\n",
    "# observed: test_sm_basinavg\n",
    "\n",
    "\n",
    "# Parameter: only limited number of parameters\n",
    "\n",
    "# \tUnnamed: 0\tlike1\tparbb\tparsatdk\tparsatpsi\tparslop\tparsmcmax\tparwltsmc\tparmax_gw_storage\tparCgw\tparexpon\tparK_nash\tparrefkdt\tpartrigger_z_fact\tparalpha_fc\tparK_lf\tparnum_nash_storage\n",
    "# 978\t978\t0.921414\t2.553518\t0.000147\t0.0691\t0.007217\t0.552437\t0.38771\t343.449845\t8.484384\t1.821161\t0.0013\t3.620361\t0.75\t0.13743\t0.000424\t4.058391\n",
    "\n",
    "# \tUnnamed: 0\tlike1\tparbb\tparsatdk\tparsatpsi\tparslop\tparsmcmax\tparwltsmc\tparmax_gw_storage\tparCgw\tparexpon\tparK_nash\tparrefkdt\tpartrigger_z_fact\tparalpha_fc\tparK_lf\tparD\tparnum_nash_storage\n",
    "# 983\t983\t0.894732\t2.681012\t0.002089\t0.0691\t0.610569\t0.810173\t0.328043\t155.984926\t0.867912\t18.446594\t0.041251\t4506.129197\t0.75\t0.244591\t0.894035\t1.0\t51.657007\n",
    "\n",
    "# Unnamed: 0\tlike1\tparbb\tparsatdk\tparsatpsi\tparslop\tparsmcmax\tparwltsmc\tparmax_gw_storage\tparCgw\tparexpon\tparK_nash\tparrefkdt\tpartrigger_z_fact\tparalpha_fc\tparK_lf\tparnum_nash_storage\n",
    "# 978\t978\t0.921414\t2.553518\t0.000147\t0.0691\t0.007217\t0.552437\t0.38771\t343.449845\t8.484384\t1.821161\t0.0013\t3.620361\t0.75\t0.13743\t0.000424\t4.058391\n",
    "\n",
    "# \tUnnamed: 0\tlike1\tparbb\tparsatdk\tparsatpsi\tparslop\tparsmcmax\tparwltsmc\tparmax_gw_storage\tparCgw\tparexpon\tparK_nash\tparrefkdt\tpartrigger_z_fact\tparalpha_fc\tparK_lf\tparD\tparnum_nash_storage\n",
    "# 983\t983\t0.894732\t2.681012\t0.002089\t0.0691\t0.610569\t0.810173\t0.328043\t155.984926\t0.867912\t18.446594\t0.041251\t4506.129197\t0.75\t0.244591\t0.894035\t1.0\t51.657007\n",
    "\n",
    "# Unnamed: 0\tlike1\tparbb\tparsatdk\tparsatpsi\tparslop\tparsmcmax\tparwltsmc\tparmax_gw_storage\tparCgw\tparexpon\tparK_nash\tparrefkdt\tpartrigger_z_fact\tparalpha_fc\tparK_lf\tparD\tparnum_nash_storage\n",
    "# 445\t445\t0.918375\t2.428138\t0.00999\t0.304343\t0.009175\t0.479724\t0.252464\t399.158292\t9.255387\t14.935154\t0.795516\t9990.0\t0.46953\t0.164291\t0.938217\t1.0\t87.621180\n",
    "\n",
    "input_json = '../../data/unit_test/config_cfe.json'\n",
    "params = {\n",
    "    \"forcing_file\": \"G://Shared drives/Ryoko and Hilary/SMSigxModel/analysis/data/Mahurangi/mahurangi_1998_2001.csv\", \n",
    "    \"catchment_area_km2\": 46.65, \n",
    "    \"soil_params\": {\n",
    "        \"bb\": 2.428138, \n",
    "        \"satdk\": 0.00999, \n",
    "        \"satpsi\": 0.304343, \n",
    "        \"slop\": 0.009175, \n",
    "        \"smcmax\": 0.479724, \n",
    "        \"wltsmc\": 0.252464, \n",
    "        \"D\": 1\n",
    "        }, \n",
    "        \"max_gw_storage\": 399.158292, \n",
    "        \"Cgw\": 9.255387, \n",
    "        \"expon\": 14.935154, \n",
    "        \"K_nash\": 0.795516, \n",
    "        \"refkdt\": 9990.0, \n",
    "        \"trigger_z_fact\": 0.46953, \n",
    "        \"alpha_fc\":0.164291, \n",
    "        \"K_lf\": 0.938217, \n",
    "        \"num_nash_storage\": 87, \n",
    "        \"giuh_ordinates\": [0.1, 0.2, 0.4, 0.2, 0.1], \n",
    "        \"stand_alone\": 1, \n",
    "        \"unit_test\": 1, \n",
    "        \"compare_results_file\": \"G:/Shared drives/Ryoko and Hilary/SMSigxModel/analysis/data/Mahurangi/test_sm_basinavg.csv\"\n",
    "        }\n",
    "\n",
    "with open(input_json, 'w') as outfile:\n",
    "    json.dump(params, outfile, indent=4)\n",
    "\n",
    "with open(input_json) as outfile:\n",
    "    loaded_data = json.load(outfile)"
   ]
  },
  {
   "cell_type": "markdown",
   "metadata": {},
   "source": [
    "## Run the model"
   ]
  },
  {
   "cell_type": "code",
   "execution_count": 3,
   "metadata": {
    "scrolled": false
   },
   "outputs": [
    {
     "ename": "ValueError",
     "evalue": "Length of values (1) does not match length of index (31062)",
     "output_type": "error",
     "traceback": [
      "\u001b[1;31m---------------------------------------------------------------------------\u001b[0m",
      "\u001b[1;31mValueError\u001b[0m                                Traceback (most recent call last)",
      "\u001b[1;32mg:\\Shared drives\\Ryoko and Hilary\\SMSigxModel\\analysis\\libs\\py_cfe\\unit_test_MH.ipynb Cell 6\u001b[0m line \u001b[0;36m<cell line: 3>\u001b[1;34m()\u001b[0m\n\u001b[0;32m      <a href='vscode-notebook-cell:/g%3A/Shared%20drives/Ryoko%20and%20Hilary/SMSigxModel/analysis/libs/py_cfe/unit_test_MH.ipynb#W5sZmlsZQ%3D%3D?line=0'>1</a>\u001b[0m cfe_instance \u001b[39m=\u001b[39m BMI_CFE(input_json)\n\u001b[0;32m      <a href='vscode-notebook-cell:/g%3A/Shared%20drives/Ryoko%20and%20Hilary/SMSigxModel/analysis/libs/py_cfe/unit_test_MH.ipynb#W5sZmlsZQ%3D%3D?line=1'>2</a>\u001b[0m cfe_instance\u001b[39m.\u001b[39minitialize()\n\u001b[1;32m----> <a href='vscode-notebook-cell:/g%3A/Shared%20drives/Ryoko%20and%20Hilary/SMSigxModel/analysis/libs/py_cfe/unit_test_MH.ipynb#W5sZmlsZQ%3D%3D?line=2'>3</a>\u001b[0m cfe_instance\u001b[39m.\u001b[39;49mrun_unit_test(plot\u001b[39m=\u001b[39;49m\u001b[39mTrue\u001b[39;49;00m, print_fluxes\u001b[39m=\u001b[39;49m\u001b[39mFalse\u001b[39;49;00m, warm_up\u001b[39m=\u001b[39;49m\u001b[39mTrue\u001b[39;49;00m)\n\u001b[0;32m      <a href='vscode-notebook-cell:/g%3A/Shared%20drives/Ryoko%20and%20Hilary/SMSigxModel/analysis/libs/py_cfe/unit_test_MH.ipynb#W5sZmlsZQ%3D%3D?line=3'>4</a>\u001b[0m cfe_instance\u001b[39m.\u001b[39mfinalize(print_mass_balance\u001b[39m=\u001b[39m\u001b[39mTrue\u001b[39;00m)\n",
      "File \u001b[1;32mg:\\Shared drives\\Ryoko and Hilary\\SMSigxModel\\analysis\\libs\\py_cfe\\bmi_cfe.py:817\u001b[0m, in \u001b[0;36mBMI_CFE.run_unit_test\u001b[1;34m(self, plot_lims, plot, print_fluxes, warm_up)\u001b[0m\n\u001b[0;32m    813\u001b[0m \u001b[39mself\u001b[39m\u001b[39m.\u001b[39mcfe_output_data[\u001b[39m\"\u001b[39m\u001b[39mInflux to Soil Moisture Content\u001b[39m\u001b[39m\"\u001b[39m] \u001b[39m=\u001b[39m output_smstorage_in\n\u001b[0;32m    814\u001b[0m \u001b[39mself\u001b[39m\u001b[39m.\u001b[39mcfe_output_data[\n\u001b[0;32m    815\u001b[0m     \u001b[39m\"\u001b[39m\u001b[39mOutflux from Soil Moisture Content\u001b[39m\u001b[39m\"\u001b[39m\n\u001b[0;32m    816\u001b[0m ] \u001b[39m=\u001b[39m output_smstorage_out\n\u001b[1;32m--> 817\u001b[0m \u001b[39mself\u001b[39m\u001b[39m.\u001b[39mcfe_output_data[\u001b[39m\"\u001b[39m\u001b[39mSoil Moisture Content\u001b[39m\u001b[39m\"\u001b[39m] \u001b[39m=\u001b[39m [output_SM]\n\u001b[0;32m    819\u001b[0m \u001b[39mself\u001b[39m\u001b[39m.\u001b[39mcfe_output_data[\u001b[39m\"\u001b[39m\u001b[39mNash storage\u001b[39m\u001b[39m\"\u001b[39m] \u001b[39m=\u001b[39m output_nashstorage\n\u001b[0;32m    820\u001b[0m \u001b[39mself\u001b[39m\u001b[39m.\u001b[39mcfe_output_data[\u001b[39m\"\u001b[39m\u001b[39mInflux to Nash storage\u001b[39m\u001b[39m\"\u001b[39m] \u001b[39m=\u001b[39m output_nashstorage_in\n",
      "File \u001b[1;32mc:\\Users\\flipl\\miniconda3\\envs\\CFE\\lib\\site-packages\\pandas\\core\\frame.py:3655\u001b[0m, in \u001b[0;36mDataFrame.__setitem__\u001b[1;34m(self, key, value)\u001b[0m\n\u001b[0;32m   3652\u001b[0m     \u001b[39mself\u001b[39m\u001b[39m.\u001b[39m_setitem_array([key], value)\n\u001b[0;32m   3653\u001b[0m \u001b[39melse\u001b[39;00m:\n\u001b[0;32m   3654\u001b[0m     \u001b[39m# set column\u001b[39;00m\n\u001b[1;32m-> 3655\u001b[0m     \u001b[39mself\u001b[39;49m\u001b[39m.\u001b[39;49m_set_item(key, value)\n",
      "File \u001b[1;32mc:\\Users\\flipl\\miniconda3\\envs\\CFE\\lib\\site-packages\\pandas\\core\\frame.py:3832\u001b[0m, in \u001b[0;36mDataFrame._set_item\u001b[1;34m(self, key, value)\u001b[0m\n\u001b[0;32m   3822\u001b[0m \u001b[39mdef\u001b[39;00m \u001b[39m_set_item\u001b[39m(\u001b[39mself\u001b[39m, key, value) \u001b[39m-\u001b[39m\u001b[39m>\u001b[39m \u001b[39mNone\u001b[39;00m:\n\u001b[0;32m   3823\u001b[0m     \u001b[39m\"\"\"\u001b[39;00m\n\u001b[0;32m   3824\u001b[0m \u001b[39m    Add series to DataFrame in specified column.\u001b[39;00m\n\u001b[0;32m   3825\u001b[0m \n\u001b[1;32m   (...)\u001b[0m\n\u001b[0;32m   3830\u001b[0m \u001b[39m    ensure homogeneity.\u001b[39;00m\n\u001b[0;32m   3831\u001b[0m \u001b[39m    \"\"\"\u001b[39;00m\n\u001b[1;32m-> 3832\u001b[0m     value \u001b[39m=\u001b[39m \u001b[39mself\u001b[39;49m\u001b[39m.\u001b[39;49m_sanitize_column(value)\n\u001b[0;32m   3834\u001b[0m     \u001b[39mif\u001b[39;00m (\n\u001b[0;32m   3835\u001b[0m         key \u001b[39min\u001b[39;00m \u001b[39mself\u001b[39m\u001b[39m.\u001b[39mcolumns\n\u001b[0;32m   3836\u001b[0m         \u001b[39mand\u001b[39;00m value\u001b[39m.\u001b[39mndim \u001b[39m==\u001b[39m \u001b[39m1\u001b[39m\n\u001b[0;32m   3837\u001b[0m         \u001b[39mand\u001b[39;00m \u001b[39mnot\u001b[39;00m is_extension_array_dtype(value)\n\u001b[0;32m   3838\u001b[0m     ):\n\u001b[0;32m   3839\u001b[0m         \u001b[39m# broadcast across multiple columns if necessary\u001b[39;00m\n\u001b[0;32m   3840\u001b[0m         \u001b[39mif\u001b[39;00m \u001b[39mnot\u001b[39;00m \u001b[39mself\u001b[39m\u001b[39m.\u001b[39mcolumns\u001b[39m.\u001b[39mis_unique \u001b[39mor\u001b[39;00m \u001b[39misinstance\u001b[39m(\u001b[39mself\u001b[39m\u001b[39m.\u001b[39mcolumns, MultiIndex):\n",
      "File \u001b[1;32mc:\\Users\\flipl\\miniconda3\\envs\\CFE\\lib\\site-packages\\pandas\\core\\frame.py:4538\u001b[0m, in \u001b[0;36mDataFrame._sanitize_column\u001b[1;34m(self, value)\u001b[0m\n\u001b[0;32m   4535\u001b[0m     \u001b[39mreturn\u001b[39;00m _reindex_for_setitem(value, \u001b[39mself\u001b[39m\u001b[39m.\u001b[39mindex)\n\u001b[0;32m   4537\u001b[0m \u001b[39mif\u001b[39;00m is_list_like(value):\n\u001b[1;32m-> 4538\u001b[0m     com\u001b[39m.\u001b[39;49mrequire_length_match(value, \u001b[39mself\u001b[39;49m\u001b[39m.\u001b[39;49mindex)\n\u001b[0;32m   4539\u001b[0m \u001b[39mreturn\u001b[39;00m sanitize_array(value, \u001b[39mself\u001b[39m\u001b[39m.\u001b[39mindex, copy\u001b[39m=\u001b[39m\u001b[39mTrue\u001b[39;00m, allow_2d\u001b[39m=\u001b[39m\u001b[39mTrue\u001b[39;00m)\n",
      "File \u001b[1;32mc:\\Users\\flipl\\miniconda3\\envs\\CFE\\lib\\site-packages\\pandas\\core\\common.py:557\u001b[0m, in \u001b[0;36mrequire_length_match\u001b[1;34m(data, index)\u001b[0m\n\u001b[0;32m    553\u001b[0m \u001b[39m\"\"\"\u001b[39;00m\n\u001b[0;32m    554\u001b[0m \u001b[39mCheck the length of data matches the length of the index.\u001b[39;00m\n\u001b[0;32m    555\u001b[0m \u001b[39m\"\"\"\u001b[39;00m\n\u001b[0;32m    556\u001b[0m \u001b[39mif\u001b[39;00m \u001b[39mlen\u001b[39m(data) \u001b[39m!=\u001b[39m \u001b[39mlen\u001b[39m(index):\n\u001b[1;32m--> 557\u001b[0m     \u001b[39mraise\u001b[39;00m \u001b[39mValueError\u001b[39;00m(\n\u001b[0;32m    558\u001b[0m         \u001b[39m\"\u001b[39m\u001b[39mLength of values \u001b[39m\u001b[39m\"\u001b[39m\n\u001b[0;32m    559\u001b[0m         \u001b[39mf\u001b[39m\u001b[39m\"\u001b[39m\u001b[39m(\u001b[39m\u001b[39m{\u001b[39;00m\u001b[39mlen\u001b[39m(data)\u001b[39m}\u001b[39;00m\u001b[39m) \u001b[39m\u001b[39m\"\u001b[39m\n\u001b[0;32m    560\u001b[0m         \u001b[39m\"\u001b[39m\u001b[39mdoes not match length of index \u001b[39m\u001b[39m\"\u001b[39m\n\u001b[0;32m    561\u001b[0m         \u001b[39mf\u001b[39m\u001b[39m\"\u001b[39m\u001b[39m(\u001b[39m\u001b[39m{\u001b[39;00m\u001b[39mlen\u001b[39m(index)\u001b[39m}\u001b[39;00m\u001b[39m)\u001b[39m\u001b[39m\"\u001b[39m\n\u001b[0;32m    562\u001b[0m     )\n",
      "\u001b[1;31mValueError\u001b[0m: Length of values (1) does not match length of index (31062)"
     ]
    }
   ],
   "source": [
    "cfe_instance = BMI_CFE(input_json)\n",
    "cfe_instance.initialize()\n",
    "cfe_instance.run_unit_test(plot=True, print_fluxes=False, warm_up=True)\n",
    "cfe_instance.finalize(print_mass_balance=True)"
   ]
  }
 ],
 "metadata": {
  "kernelspec": {
   "display_name": "CFE",
   "language": "python",
   "name": "python3"
  },
  "language_info": {
   "codemirror_mode": {
    "name": "ipython",
    "version": 3
   },
   "file_extension": ".py",
   "mimetype": "text/x-python",
   "name": "python",
   "nbconvert_exporter": "python",
   "pygments_lexer": "ipython3",
   "version": "3.8.13"
  }
 },
 "nbformat": 4,
 "nbformat_minor": 4
}
