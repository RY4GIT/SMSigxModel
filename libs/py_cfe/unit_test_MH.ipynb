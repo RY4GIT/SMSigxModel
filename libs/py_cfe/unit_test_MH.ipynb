{
 "cells": [
  {
   "cell_type": "markdown",
   "metadata": {},
   "source": [
    "### This jupyter notebook is to unit-test CFE model run"
   ]
  },
  {
   "cell_type": "markdown",
   "metadata": {},
   "source": [
    "## Preparation"
   ]
  },
  {
   "cell_type": "code",
   "execution_count": 1,
   "metadata": {},
   "outputs": [],
   "source": [
    "# Import modules\n",
    "import json\n",
    "from bmi_cfe import BMI_CFE"
   ]
  },
  {
   "cell_type": "code",
   "execution_count": 2,
   "metadata": {},
   "outputs": [],
   "source": [
    "# Input: Mahurangi data for 3 yrs\n",
    "# forcing: Mahurangi/mahurangi_1998_2001.csv\n",
    "# observed: test_sm_basinavg\n",
    "\n",
    "# Input: Little Washita data for 12 yrs\n",
    "# forcing: LittleWashita/little_washita_2006_2012.csv\n",
    "# observed: test_sm_basinavg\n",
    "\n",
    "\n",
    "# Parameter: only limited number of parameters\n",
    "\n",
    "# \tUnnamed: 0\tlike1\tparbb\tparsatdk\tparsatpsi\tparslop\tparsmcmax\tparwltsmc\tparmax_gw_storage\tparCgw\tparexpon\tparK_nash\tparrefkdt\tpartrigger_z_fact\tparalpha_fc\tparK_lf\tparnum_nash_storage\n",
    "# 978\t978\t0.921414\t2.553518\t0.000147\t0.0691\t0.007217\t0.552437\t0.38771\t343.449845\t8.484384\t1.821161\t0.0013\t3.620361\t0.75\t0.13743\t0.000424\t4.058391\n",
    "# 983\t983\t0.921414\t2.553518\t0.000147\t0.0691\t0.007217\t0.552437\t0.38771\t343.449845\t8.484384\t1.821161\t0.0013\t3.620361\t0.75\t0.13743\t0.000424\t4.058391\n",
    "# 996\t996\t0.921414\t2.553518\t0.000147\t0.0691\t0.007217\t0.552437\t0.38771\t343.449845\t8.484384\t1.821161\t0.0013\t3.620361\t0.75\t0.13743\t0.000424\t4.058391\n",
    "# 997\t997\t0.921414\t2.553518\t0.000147\t0.0691\t0.007217\t0.552437\t0.38771\t343.449845\t8.484384\t1.821161\t0.0013\t3.620361\t0.75\t0.13743\t0.000424\t4.058391\n",
    "\n",
    "input_json = '../../data/unit_test/config_cfe.json'\n",
    "params = {\n",
    "    \"forcing_file\": \"G://Shared drives/Ryoko and Hilary/SMSigxModel/analysis/data/Mahurangi/mahurangi_1998_2001.csv\", \n",
    "    \"catchment_area_km2\": 46.65, \n",
    "    \"soil_params\": {\n",
    "        \"bb\": 2.553518, \n",
    "        \"satdk\": 0.000147, \n",
    "        \"slop\": 0.007217, \n",
    "        \"satpsi\": 0.0691, \n",
    "        \"smcmax\": 0.552437, \n",
    "        \"wltsmc\": 0.38771, \n",
    "        \"D\": 1\n",
    "        }, \n",
    "        \"alpha_fc\": 0.13743, \n",
    "        \"max_gw_storage\": 343.449845, \n",
    "        \"Cgw\": 8.484384, \n",
    "        \"expon\": 1.821161, \n",
    "        \"K_lf\": 0.000424, \n",
    "        \"refkdt\": 3.620361, \n",
    "        \"K_nash\": 0.0013, \n",
    "        \"trigger_z_fact\": 0.75, \n",
    "        \"num_nash_storage\": 4, \n",
    "        \"giuh_ordinates\": [0.1, 0.2, 0.4, 0.2, 0.1], \n",
    "        \"stand_alone\": 1, \n",
    "        \"unit_test\": 1, \n",
    "        \"compare_results_file\": \"G:/Shared drives/Ryoko and Hilary/SMSigxModel/analysis/data/Mahurangi/test_sm_basinavg.csv\"\n",
    "        }\n",
    "\n",
    "with open(input_json, 'w') as outfile:\n",
    "    json.dump(params, outfile, indent=4)\n",
    "\n",
    "with open(input_json) as outfile:\n",
    "    loaded_data = json.load(outfile)"
   ]
  },
  {
   "cell_type": "markdown",
   "metadata": {},
   "source": [
    "## Run the model"
   ]
  },
  {
   "cell_type": "code",
   "execution_count": 3,
   "metadata": {
    "scrolled": false
   },
   "outputs": [],
   "source": [
    "cfe_instance = BMI_CFE(input_json)\n",
    "cfe_instance.initialize()\n",
    "cfe_instance.run_unit_test(plot=True, print_fluxes=False, warm_up=True)\n",
    "cfe_instance.finalize(print_mass_balance=True)"
   ]
  },
  {
   "cell_type": "code",
   "execution_count": null,
   "metadata": {},
   "outputs": [],
   "source": []
  }
 ],
 "metadata": {
  "kernelspec": {
   "display_name": "CFE",
   "language": "python",
   "name": "python3"
  },
  "language_info": {
   "codemirror_mode": {
    "name": "ipython",
    "version": 3
   },
   "file_extension": ".py",
   "mimetype": "text/x-python",
   "name": "python",
   "nbconvert_exporter": "python",
   "pygments_lexer": "ipython3",
   "version": "3.8.13"
  }
 },
 "nbformat": 4,
 "nbformat_minor": 4
}
