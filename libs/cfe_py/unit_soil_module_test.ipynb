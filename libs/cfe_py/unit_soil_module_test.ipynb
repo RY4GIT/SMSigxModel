{
 "cells": [
  {
   "cell_type": "code",
   "execution_count": 1,
   "metadata": {},
   "outputs": [],
   "source": [
    "import numpy as np\n",
    "atm_press_Pa = 101325.0\n",
    "unit_weight_water_N_per_m3 = 9810.0\n",
    "field_capacity_atm_press_fraction = 0.18\n",
    "soil_params = {}\n",
    "soil_params[\"smcmax\"] = 0.4\n",
    "soil_params[\"satpsi\"] = 0.141\n",
    "soil_params[\"bb\"] = 3\n",
    "soil_params[\"D\"] = 3\n",
    "trigger_z_m_fraction = 0.25"
   ]
  },
  {
   "cell_type": "code",
   "execution_count": 2,
   "metadata": {},
   "outputs": [
    {
     "name": "stdout",
     "output_type": "stream",
     "text": [
      "Storage: 1.2000000000000002\n",
      "Threshold: 0.4665505818947366\n"
     ]
    }
   ],
   "source": [
    "trigger_z_m = soil_params[\"D\"] * trigger_z_m_fraction\n",
    "\n",
    "H_water_table_m = (\n",
    "    field_capacity_atm_press_fraction\n",
    "    * atm_press_Pa\n",
    "    / unit_weight_water_N_per_m3\n",
    ")  # Lateral flow function 1&2, Equation 3 (Ogden's document)\n",
    "\n",
    "soil_water_content_at_field_capacity = soil_params[\"smcmax\"] * np.power(\n",
    "    H_water_table_m / soil_params[\"satpsi\"], (1.0 / soil_params[\"bb\"])\n",
    ")  # Lateral flow function 1&2, Equation 3 (Ogden's document), but this equaton is not used in later process\n",
    "\n",
    "Omega = (\n",
    "    H_water_table_m - trigger_z_m\n",
    ")  # Lateral flow function 3 (Ogden's document). Soil water storage in the soil column, when the lowest soil discretization is equal to field capacity.\n",
    "\n",
    "if Omega < 0:\n",
    "    integral_lower_lim_m = 0\n",
    "    integral_upper_lim_m = (\n",
    "        soil_params[\"D\"] - trigger_z_m + H_water_table_m\n",
    "    )\n",
    "    additional_term = trigger_z_m - H_water_table_m\n",
    "else:\n",
    "    integral_lower_lim_m = Omega\n",
    "    integral_upper_lim_m = Omega + soil_params[\"D\"]\n",
    "    additional_term = 0\n",
    "\n",
    "lower_lim = np.power(\n",
    "    integral_lower_lim_m, (1.0 - 1.0 / soil_params[\"bb\"])\n",
    ") / (\n",
    "    1.0 - 1.0 / soil_params[\"bb\"]\n",
    ")  # Lower limit of the integral in equation 4 (Ogden's document).\n",
    "\n",
    "upper_lim = np.power(\n",
    "    integral_upper_lim_m, (1.0 - 1.0 / soil_params[\"bb\"])\n",
    ") / (\n",
    "    1.0 - 1.0 / soil_params[\"bb\"]\n",
    ")  # Upper limit of the integral in equation 4 (Ogden's document).\n",
    "\n",
    "storage_thresh_pow_term = np.power(\n",
    "    1.0 / soil_params[\"satpsi\"], (-1.0 / soil_params[\"bb\"])\n",
    ")  # This seems to be redundant? Or for needed for descritization?\n",
    "\n",
    "lim_diff = (\n",
    "    upper_lim - lower_lim\n",
    ")  # Integral term of the equation 4 (Ogden's document).\n",
    "\n",
    "field_capacity_storage_threshold_m = (\n",
    "    soil_params[\"smcmax\"] * storage_thresh_pow_term * lim_diff\n",
    ") + soil_params[\n",
    "    \"smcmax\"\n",
    "] * additional_term  # Equation 4 (and probably 5?) (Ogden's document).\n",
    "\n",
    "print(f\"Storage: {soil_params['D']*soil_params['smcmax']}\")\n",
    "print(f\"Threshold: {field_capacity_storage_threshold_m}\")"
   ]
  },
  {
   "cell_type": "code",
   "execution_count": 3,
   "metadata": {},
   "outputs": [
    {
     "data": {
      "text/html": [
       "<div>\n",
       "<style scoped>\n",
       "    .dataframe tbody tr th:only-of-type {\n",
       "        vertical-align: middle;\n",
       "    }\n",
       "\n",
       "    .dataframe tbody tr th {\n",
       "        vertical-align: top;\n",
       "    }\n",
       "\n",
       "    .dataframe thead th {\n",
       "        text-align: right;\n",
       "    }\n",
       "</style>\n",
       "<table border=\"1\" class=\"dataframe\">\n",
       "  <thead>\n",
       "    <tr style=\"text-align: right;\">\n",
       "      <th></th>\n",
       "      <th>time</th>\n",
       "      <th>precip_rate</th>\n",
       "      <th>PET</th>\n",
       "    </tr>\n",
       "  </thead>\n",
       "  <tbody>\n",
       "    <tr>\n",
       "      <th>0</th>\n",
       "      <td>2006-09-19 00:00:00</td>\n",
       "      <td>0.0</td>\n",
       "      <td>0.000161</td>\n",
       "    </tr>\n",
       "    <tr>\n",
       "      <th>1</th>\n",
       "      <td>2006-09-19 01:00:00</td>\n",
       "      <td>0.0</td>\n",
       "      <td>0.000161</td>\n",
       "    </tr>\n",
       "    <tr>\n",
       "      <th>2</th>\n",
       "      <td>2006-09-19 02:00:00</td>\n",
       "      <td>0.0</td>\n",
       "      <td>0.000161</td>\n",
       "    </tr>\n",
       "    <tr>\n",
       "      <th>3</th>\n",
       "      <td>2006-09-19 03:00:00</td>\n",
       "      <td>0.0</td>\n",
       "      <td>0.000161</td>\n",
       "    </tr>\n",
       "    <tr>\n",
       "      <th>4</th>\n",
       "      <td>2006-09-19 04:00:00</td>\n",
       "      <td>0.0</td>\n",
       "      <td>0.000161</td>\n",
       "    </tr>\n",
       "  </tbody>\n",
       "</table>\n",
       "</div>"
      ],
      "text/plain": [
       "                  time  precip_rate       PET\n",
       "0  2006-09-19 00:00:00          0.0  0.000161\n",
       "1  2006-09-19 01:00:00          0.0  0.000161\n",
       "2  2006-09-19 02:00:00          0.0  0.000161\n",
       "3  2006-09-19 03:00:00          0.0  0.000161\n",
       "4  2006-09-19 04:00:00          0.0  0.000161"
      ]
     },
     "execution_count": 3,
     "metadata": {},
     "output_type": "execute_result"
    }
   ],
   "source": [
    "input_file = rf\"G:\\Shared drives\\Ryoko and Hilary\\SMSigxModel\\analysis\\data\\LittleWashita\\little_washita_2006_2012.csv\"\n",
    "import pandas as pd\n",
    "LW = pd.read_csv(input_file)\n",
    "LW.head()"
   ]
  },
  {
   "cell_type": "code",
   "execution_count": 4,
   "metadata": {},
   "outputs": [
    {
     "data": {
      "text/plain": [
       "(20000.0, 25000.0)"
      ]
     },
     "execution_count": 4,
     "metadata": {},
     "output_type": "execute_result"
    },
    {
     "data": {
      "image/png": "[encoded data removed]",
      "text/plain": [
       "<Figure size 640x480 with 1 Axes>"
      ]
     },
     "metadata": {},
     "output_type": "display_data"
    }
   ],
   "source": [
    "LWplt = LW.plot()\n",
    "LWplt.set_xlim([20000, 25000])"
   ]
  }
 ],
 "metadata": {
  "kernelspec": {
   "display_name": "CFE",
   "language": "python",
   "name": "python3"
  },
  "language_info": {
   "codemirror_mode": {
    "name": "ipython",
    "version": 3
   },
   "file_extension": ".py",
   "mimetype": "text/x-python",
   "name": "python",
   "nbconvert_exporter": "python",
   "pygments_lexer": "ipython3",
   "version": "3.8.13"
  },
  "orig_nbformat": 4
 },
 "nbformat": 4,
 "nbformat_minor": 2
}
