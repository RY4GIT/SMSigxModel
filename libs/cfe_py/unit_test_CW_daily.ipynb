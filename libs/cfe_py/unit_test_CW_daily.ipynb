{
 "cells": [
  {
   "cell_type": "markdown",
   "metadata": {},
   "source": [
    "### This jupyter notebook is to unit-test CFE model run"
   ]
  },
  {
   "cell_type": "markdown",
   "metadata": {},
   "source": [
    "## Preparation"
   ]
  },
  {
   "cell_type": "code",
   "execution_count": 1,
   "metadata": {},
   "outputs": [],
   "source": [
    "# Import modules\n",
    "import json\n",
    "from bmi_cfe import BMI_CFE"
   ]
  },
  {
   "cell_type": "code",
   "execution_count": 2,
   "metadata": {},
   "outputs": [],
   "source": [
    "input_json = '../../data/unit_test/config_cfe.json'\n",
    "params = {\n",
    "    \"forcing_file\": \"G:/Shared drives/Ryoko and Hilary/SMSigxModel/analysis/data/Coweeta/forcing_daily_2014_2018.csv\",\n",
    "    \"catchment_area_km2\": 0.1210,\n",
    "    \"soil_params\": {\n",
    "        \"bb\": 5,\n",
    "        \"satdk\": 3.67e-05,\n",
    "        \"satpsi\": 0.141,\n",
    "        \"slop\": 0.13742288100015995,\n",
    "        \"smcmax\": 0.998,\n",
    "        \"wltsmc\": 0.000142,\n",
    "        \"D\": 2,\n",
    "    },\n",
    "    \"max_gw_storage\": 0.1964128583705216,\n",
    "    \"Cgw\": 2.89e-05,\n",
    "    \"expon\": 8.0,\n",
    "    \"K_nash\": 0.0013,\n",
    "    \"refkdt\": 3,\n",
    "    \"trigger_z_fact\": 0.5,\n",
    "    \"alpha_fc\": 0.33,\n",
    "    \"K_lf\": 0.7900613627981135,\n",
    "    \"num_nash_storage\": 2, \n",
    "    \"giuh_ordinates\": [1.0],\n",
    "    \"stand_alone\": 1,\n",
    "    \"unit_test\": 1,\n",
    "    \"time_step_size\": 86400,\n",
    "    \"compare_results_file\": \"G:/Shared drives/Ryoko and Hilary/SMSigxModel/analysis/data/Coweeta/test_daily_2014_2018_sm_basinavg.csv\",\n",
    "}\n",
    "\n",
    "with open(input_json, 'w') as outfile:\n",
    "    json.dump(params, outfile, indent=4)\n",
    "\n",
    "with open(input_json) as outfile:\n",
    "    loaded_data = json.load(outfile)"
   ]
  },
  {
   "cell_type": "markdown",
   "metadata": {},
   "source": [
    "## Run the model"
   ]
  },
  {
   "cell_type": "code",
   "execution_count": 3,
   "metadata": {
    "scrolled": false
   },
   "outputs": [
    {
     "ename": "ValueError",
     "evalue": "all the input arrays must have same number of dimensions, but the array at index 0 has 2 dimension(s) and the array at index 1 has 0 dimension(s)",
     "output_type": "error",
     "traceback": [
      "\u001b[1;31m---------------------------------------------------------------------------\u001b[0m",
      "\u001b[1;31mValueError\u001b[0m                                Traceback (most recent call last)",
      "\u001b[1;32mg:\\Shared drives\\Ryoko and Hilary\\SMSigxModel\\analysis\\libs\\cfe_py\\unit_test_CW_daily.ipynb Cell 6\u001b[0m line \u001b[0;36m<cell line: 3>\u001b[1;34m()\u001b[0m\n\u001b[0;32m      <a href='vscode-notebook-cell:/g%3A/Shared%20drives/Ryoko%20and%20Hilary/SMSigxModel/analysis/libs/cfe_py/unit_test_CW_daily.ipynb#W5sZmlsZQ%3D%3D?line=0'>1</a>\u001b[0m cfe_instance \u001b[39m=\u001b[39m BMI_CFE(input_json)\n\u001b[0;32m      <a href='vscode-notebook-cell:/g%3A/Shared%20drives/Ryoko%20and%20Hilary/SMSigxModel/analysis/libs/cfe_py/unit_test_CW_daily.ipynb#W5sZmlsZQ%3D%3D?line=1'>2</a>\u001b[0m cfe_instance\u001b[39m.\u001b[39minitialize()\n\u001b[1;32m----> <a href='vscode-notebook-cell:/g%3A/Shared%20drives/Ryoko%20and%20Hilary/SMSigxModel/analysis/libs/cfe_py/unit_test_CW_daily.ipynb#W5sZmlsZQ%3D%3D?line=2'>3</a>\u001b[0m cfe_instance\u001b[39m.\u001b[39;49mrun_unit_test(\n\u001b[0;32m      <a href='vscode-notebook-cell:/g%3A/Shared%20drives/Ryoko%20and%20Hilary/SMSigxModel/analysis/libs/cfe_py/unit_test_CW_daily.ipynb#W5sZmlsZQ%3D%3D?line=3'>4</a>\u001b[0m     plot\u001b[39m=\u001b[39;49m\u001b[39mTrue\u001b[39;49;00m,\n\u001b[0;32m      <a href='vscode-notebook-cell:/g%3A/Shared%20drives/Ryoko%20and%20Hilary/SMSigxModel/analysis/libs/cfe_py/unit_test_CW_daily.ipynb#W5sZmlsZQ%3D%3D?line=4'>5</a>\u001b[0m     print_fluxes\u001b[39m=\u001b[39;49m\u001b[39mTrue\u001b[39;49;00m,\n\u001b[0;32m      <a href='vscode-notebook-cell:/g%3A/Shared%20drives/Ryoko%20and%20Hilary/SMSigxModel/analysis/libs/cfe_py/unit_test_CW_daily.ipynb#W5sZmlsZQ%3D%3D?line=5'>6</a>\u001b[0m     plot_lims\u001b[39m=\u001b[39;49m\u001b[39mlist\u001b[39;49m(\u001b[39mrange\u001b[39;49m(\u001b[39m1\u001b[39;49m, \u001b[39m1034\u001b[39;49m)),\n\u001b[0;32m      <a href='vscode-notebook-cell:/g%3A/Shared%20drives/Ryoko%20and%20Hilary/SMSigxModel/analysis/libs/cfe_py/unit_test_CW_daily.ipynb#W5sZmlsZQ%3D%3D?line=6'>7</a>\u001b[0m     warm_up\u001b[39m=\u001b[39;49m\u001b[39mTrue\u001b[39;49;00m,\n\u001b[0;32m      <a href='vscode-notebook-cell:/g%3A/Shared%20drives/Ryoko%20and%20Hilary/SMSigxModel/analysis/libs/cfe_py/unit_test_CW_daily.ipynb#W5sZmlsZQ%3D%3D?line=7'>8</a>\u001b[0m     warmup_offset\u001b[39m=\u001b[39;49m\u001b[39m300\u001b[39;49m,\n\u001b[0;32m      <a href='vscode-notebook-cell:/g%3A/Shared%20drives/Ryoko%20and%20Hilary/SMSigxModel/analysis/libs/cfe_py/unit_test_CW_daily.ipynb#W5sZmlsZQ%3D%3D?line=8'>9</a>\u001b[0m     warmup_iteration\u001b[39m=\u001b[39;49m\u001b[39m10\u001b[39;49m\n\u001b[0;32m     <a href='vscode-notebook-cell:/g%3A/Shared%20drives/Ryoko%20and%20Hilary/SMSigxModel/analysis/libs/cfe_py/unit_test_CW_daily.ipynb#W5sZmlsZQ%3D%3D?line=9'>10</a>\u001b[0m )\n\u001b[0;32m     <a href='vscode-notebook-cell:/g%3A/Shared%20drives/Ryoko%20and%20Hilary/SMSigxModel/analysis/libs/cfe_py/unit_test_CW_daily.ipynb#W5sZmlsZQ%3D%3D?line=10'>11</a>\u001b[0m cfe_instance\u001b[39m.\u001b[39mfinalize(print_mass_balance\u001b[39m=\u001b[39m\u001b[39mTrue\u001b[39;00m)\n",
      "File \u001b[1;32mg:\\Shared drives\\Ryoko and Hilary\\SMSigxModel\\analysis\\libs\\cfe_py\\bmi_cfe.py:1008\u001b[0m, in \u001b[0;36mBMI_CFE.run_unit_test\u001b[1;34m(self, plot_lims, plot, print_fluxes, warm_up, warmup_offset, warmup_iteration, verbose)\u001b[0m\n\u001b[0;32m   1002\u001b[0m         \u001b[39mself\u001b[39m\u001b[39m.\u001b[39mpotential_et_m_per_timestep \u001b[39m=\u001b[39m \u001b[39mself\u001b[39m\u001b[39m.\u001b[39mforcing_data_warmup\u001b[39m.\u001b[39mloc[\n\u001b[0;32m   1003\u001b[0m             t, \u001b[39m\"\u001b[39m\u001b[39mPET\u001b[39m\u001b[39m\"\u001b[39m\n\u001b[0;32m   1004\u001b[0m         ]\n\u001b[0;32m   1005\u001b[0m         \u001b[39mself\u001b[39m\u001b[39m.\u001b[39mpotential_et_m_per_s \u001b[39m=\u001b[39m (\n\u001b[0;32m   1006\u001b[0m             \u001b[39mself\u001b[39m\u001b[39m.\u001b[39mforcing_data_warmup\u001b[39m.\u001b[39mloc[t, \u001b[39m\"\u001b[39m\u001b[39mPET\u001b[39m\u001b[39m\"\u001b[39m] \u001b[39m/\u001b[39m \u001b[39mself\u001b[39m\u001b[39m.\u001b[39mtime_step_size\n\u001b[0;32m   1007\u001b[0m         )\n\u001b[1;32m-> 1008\u001b[0m     \u001b[39mself\u001b[39;49m\u001b[39m.\u001b[39;49mcfe_model\u001b[39m.\u001b[39;49mrun_cfe(\u001b[39mself\u001b[39;49m)\n\u001b[0;32m   1010\u001b[0m \u001b[39m## Check GW convergence\u001b[39;00m\n\u001b[0;32m   1011\u001b[0m \u001b[39mif\u001b[39;00m previous_gw_storage \u001b[39m!=\u001b[39m \u001b[39m0\u001b[39m:\n\u001b[0;32m   1012\u001b[0m     \u001b[39m# print(\"GW nonzero\")\u001b[39;00m\n",
      "File \u001b[1;32mg:\\Shared drives\\Ryoko and Hilary\\SMSigxModel\\analysis\\libs\\cfe_py\\cfe.py:173\u001b[0m, in \u001b[0;36mCFE.run_cfe\u001b[1;34m(self, cfe_state)\u001b[0m\n\u001b[0;32m    169\u001b[0m \u001b[39m# ________________________________________________\u001b[39;00m\n\u001b[0;32m    170\u001b[0m \u001b[39m# Solve ODE for the soil reservoir\u001b[39;00m\n\u001b[0;32m    171\u001b[0m \u001b[39m# Calculates primary_flux, secondary_flux, AET, and infiltration simultaneously\u001b[39;00m\n\u001b[0;32m    172\u001b[0m cfe_state\u001b[39m.\u001b[39mactual_et_from_soil_m_per_timestep \u001b[39m=\u001b[39m \u001b[39m0\u001b[39m\n\u001b[1;32m--> 173\u001b[0m \u001b[39mself\u001b[39;49m\u001b[39m.\u001b[39;49msoil_reservoir_flux_calc(cfe_state, cfe_state\u001b[39m.\u001b[39;49msoil_reservoir)\n\u001b[0;32m    175\u001b[0m cfe_state\u001b[39m.\u001b[39mflux_perc_m \u001b[39m=\u001b[39m cfe_state\u001b[39m.\u001b[39mprimary_flux_m\n\u001b[0;32m    176\u001b[0m cfe_state\u001b[39m.\u001b[39mflux_lat_m \u001b[39m=\u001b[39m cfe_state\u001b[39m.\u001b[39msecondary_flux_m\n",
      "File \u001b[1;32mg:\\Shared drives\\Ryoko and Hilary\\SMSigxModel\\analysis\\libs\\cfe_py\\cfe.py:394\u001b[0m, in \u001b[0;36mCFE.soil_reservoir_flux_calc\u001b[1;34m(self, cfe_state, reservoir)\u001b[0m\n\u001b[0;32m    392\u001b[0m \u001b[39m# Finalize results\u001b[39;00m\n\u001b[0;32m    393\u001b[0m ts_concat \u001b[39m=\u001b[39m t\n\u001b[1;32m--> 394\u001b[0m ys_concat \u001b[39m=\u001b[39m np\u001b[39m.\u001b[39;49mconcatenate(sol, axis\u001b[39m=\u001b[39;49m\u001b[39m0\u001b[39;49m)\n\u001b[0;32m    396\u001b[0m \u001b[39m# Calculate fluxes\u001b[39;00m\n\u001b[0;32m    397\u001b[0m t_proportion \u001b[39m=\u001b[39m np\u001b[39m.\u001b[39mdiff(ts_concat)\n",
      "File \u001b[1;32m<__array_function__ internals>:5\u001b[0m, in \u001b[0;36mconcatenate\u001b[1;34m(*args, **kwargs)\u001b[0m\n",
      "\u001b[1;31mValueError\u001b[0m: all the input arrays must have same number of dimensions, but the array at index 0 has 2 dimension(s) and the array at index 1 has 0 dimension(s)"
     ]
    }
   ],
   "source": [
    "cfe_instance = BMI_CFE(input_json)\n",
    "cfe_instance.initialize()\n",
    "cfe_instance.run_unit_test(\n",
    "    plot=True,\n",
    "    print_fluxes=True,\n",
    "    plot_lims=list(range(1, 1034)),\n",
    "    warm_up=True,\n",
    "    warmup_offset=300,\n",
    "    warmup_iteration=10\n",
    ")\n",
    "cfe_instance.finalize(print_mass_balance=True)"
   ]
  },
  {
   "cell_type": "code",
   "execution_count": null,
   "metadata": {},
   "outputs": [],
   "source": []
  },
  {
   "cell_type": "code",
   "execution_count": null,
   "metadata": {},
   "outputs": [],
   "source": []
  },
  {
   "cell_type": "code",
   "execution_count": null,
   "metadata": {},
   "outputs": [],
   "source": []
  }
 ],
 "metadata": {
  "kernelspec": {
   "display_name": "CFE",
   "language": "python",
   "name": "python3"
  },
  "language_info": {
   "codemirror_mode": {
    "name": "ipython",
    "version": 3
   },
   "file_extension": ".py",
   "mimetype": "text/x-python",
   "name": "python",
   "nbconvert_exporter": "python",
   "pygments_lexer": "ipython3",
   "version": "3.8.13"
  }
 },
 "nbformat": 4,
 "nbformat_minor": 4
}
